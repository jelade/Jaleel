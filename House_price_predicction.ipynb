{
  "nbformat": 4,
  "nbformat_minor": 0,
  "metadata": {
    "colab": {
      "provenance": [],
      "authorship_tag": "ABX9TyNwR/xaOUlDl83Pk2xbw6qI",
      "include_colab_link": true
    },
    "kernelspec": {
      "name": "python3",
      "display_name": "Python 3"
    },
    "language_info": {
      "name": "python"
    }
  },
  "cells": [
    {
      "cell_type": "markdown",
      "metadata": {
        "id": "view-in-github",
        "colab_type": "text"
      },
      "source": [
        "<a href=\"https://colab.research.google.com/github/jelade/Jaleel/blob/master/House_price_predicction.ipynb\" target=\"_parent\"><img src=\"https://colab.research.google.com/assets/colab-badge.svg\" alt=\"Open In Colab\"/></a>"
      ]
    },
    {
      "cell_type": "code",
      "execution_count": 36,
      "metadata": {
        "id": "vKgGGtHXcV7b"
      },
      "outputs": [],
      "source": [
        "import pandas as pd\n",
        "import numpy as np\n",
        "import matplotlib.pyplot as plt\n",
        "from sklearn.linear_model import LinearRegression\n",
        "from sklearn.metrics import mean_squared_error, r2_score\n",
        "from sklearn.model_selection import train_test_split\n",
        "import statsmodels.api as sm\n",
        "from scipy import stats\n"
      ]
    },
    {
      "cell_type": "code",
      "source": [
        "training = pd.read_csv('/content/msc_training_dataset.csv')\n",
        "testing = pd.read_csv('/content/msc_testing_dataset.csv')"
      ],
      "metadata": {
        "id": "LdZCMpqyxlk7"
      },
      "execution_count": 37,
      "outputs": []
    },
    {
      "cell_type": "code",
      "source": [
        "training.head()"
      ],
      "metadata": {
        "colab": {
          "base_uri": "https://localhost:8080/",
          "height": 268
        },
        "id": "tm4DnaQlx8OA",
        "outputId": "e20b53d8-0ffe-40e3-eaa9-3a57193c4b11"
      },
      "execution_count": 38,
      "outputs": [
        {
          "output_type": "execute_result",
          "data": {
            "text/plain": [
              "   room  bathroom  kitchen  french_door  backyard  furnished  green_paint  \\\n",
              "0     3         1        2            1         1          0            1   \n",
              "1     5         2        2            2         1          0            0   \n",
              "2     5         2        2            2         1          0            0   \n",
              "3     1         2        1            2         0          0            0   \n",
              "4     2         1        2            3         1          1            0   \n",
              "\n",
              "   solar_power  woodfloor  qlm_security  club_access  price  \n",
              "0            0          0             1            1   6835  \n",
              "1            0          0             1            1   9005  \n",
              "2            0          0             1            1   9005  \n",
              "3            0          1             1            0   5105  \n",
              "4            0          1             1            0   9105  "
            ],
            "text/html": [
              "\n",
              "  <div id=\"df-35222642-6be0-48bf-b5ca-235a3719fd4e\">\n",
              "    <div class=\"colab-df-container\">\n",
              "      <div>\n",
              "<style scoped>\n",
              "    .dataframe tbody tr th:only-of-type {\n",
              "        vertical-align: middle;\n",
              "    }\n",
              "\n",
              "    .dataframe tbody tr th {\n",
              "        vertical-align: top;\n",
              "    }\n",
              "\n",
              "    .dataframe thead th {\n",
              "        text-align: right;\n",
              "    }\n",
              "</style>\n",
              "<table border=\"1\" class=\"dataframe\">\n",
              "  <thead>\n",
              "    <tr style=\"text-align: right;\">\n",
              "      <th></th>\n",
              "      <th>room</th>\n",
              "      <th>bathroom</th>\n",
              "      <th>kitchen</th>\n",
              "      <th>french_door</th>\n",
              "      <th>backyard</th>\n",
              "      <th>furnished</th>\n",
              "      <th>green_paint</th>\n",
              "      <th>solar_power</th>\n",
              "      <th>woodfloor</th>\n",
              "      <th>qlm_security</th>\n",
              "      <th>club_access</th>\n",
              "      <th>price</th>\n",
              "    </tr>\n",
              "  </thead>\n",
              "  <tbody>\n",
              "    <tr>\n",
              "      <th>0</th>\n",
              "      <td>3</td>\n",
              "      <td>1</td>\n",
              "      <td>2</td>\n",
              "      <td>1</td>\n",
              "      <td>1</td>\n",
              "      <td>0</td>\n",
              "      <td>1</td>\n",
              "      <td>0</td>\n",
              "      <td>0</td>\n",
              "      <td>1</td>\n",
              "      <td>1</td>\n",
              "      <td>6835</td>\n",
              "    </tr>\n",
              "    <tr>\n",
              "      <th>1</th>\n",
              "      <td>5</td>\n",
              "      <td>2</td>\n",
              "      <td>2</td>\n",
              "      <td>2</td>\n",
              "      <td>1</td>\n",
              "      <td>0</td>\n",
              "      <td>0</td>\n",
              "      <td>0</td>\n",
              "      <td>0</td>\n",
              "      <td>1</td>\n",
              "      <td>1</td>\n",
              "      <td>9005</td>\n",
              "    </tr>\n",
              "    <tr>\n",
              "      <th>2</th>\n",
              "      <td>5</td>\n",
              "      <td>2</td>\n",
              "      <td>2</td>\n",
              "      <td>2</td>\n",
              "      <td>1</td>\n",
              "      <td>0</td>\n",
              "      <td>0</td>\n",
              "      <td>0</td>\n",
              "      <td>0</td>\n",
              "      <td>1</td>\n",
              "      <td>1</td>\n",
              "      <td>9005</td>\n",
              "    </tr>\n",
              "    <tr>\n",
              "      <th>3</th>\n",
              "      <td>1</td>\n",
              "      <td>2</td>\n",
              "      <td>1</td>\n",
              "      <td>2</td>\n",
              "      <td>0</td>\n",
              "      <td>0</td>\n",
              "      <td>0</td>\n",
              "      <td>0</td>\n",
              "      <td>1</td>\n",
              "      <td>1</td>\n",
              "      <td>0</td>\n",
              "      <td>5105</td>\n",
              "    </tr>\n",
              "    <tr>\n",
              "      <th>4</th>\n",
              "      <td>2</td>\n",
              "      <td>1</td>\n",
              "      <td>2</td>\n",
              "      <td>3</td>\n",
              "      <td>1</td>\n",
              "      <td>1</td>\n",
              "      <td>0</td>\n",
              "      <td>0</td>\n",
              "      <td>1</td>\n",
              "      <td>1</td>\n",
              "      <td>0</td>\n",
              "      <td>9105</td>\n",
              "    </tr>\n",
              "  </tbody>\n",
              "</table>\n",
              "</div>\n",
              "      <button class=\"colab-df-convert\" onclick=\"convertToInteractive('df-35222642-6be0-48bf-b5ca-235a3719fd4e')\"\n",
              "              title=\"Convert this dataframe to an interactive table.\"\n",
              "              style=\"display:none;\">\n",
              "        \n",
              "  <svg xmlns=\"http://www.w3.org/2000/svg\" height=\"24px\"viewBox=\"0 0 24 24\"\n",
              "       width=\"24px\">\n",
              "    <path d=\"M0 0h24v24H0V0z\" fill=\"none\"/>\n",
              "    <path d=\"M18.56 5.44l.94 2.06.94-2.06 2.06-.94-2.06-.94-.94-2.06-.94 2.06-2.06.94zm-11 1L8.5 8.5l.94-2.06 2.06-.94-2.06-.94L8.5 2.5l-.94 2.06-2.06.94zm10 10l.94 2.06.94-2.06 2.06-.94-2.06-.94-.94-2.06-.94 2.06-2.06.94z\"/><path d=\"M17.41 7.96l-1.37-1.37c-.4-.4-.92-.59-1.43-.59-.52 0-1.04.2-1.43.59L10.3 9.45l-7.72 7.72c-.78.78-.78 2.05 0 2.83L4 21.41c.39.39.9.59 1.41.59.51 0 1.02-.2 1.41-.59l7.78-7.78 2.81-2.81c.8-.78.8-2.07 0-2.86zM5.41 20L4 18.59l7.72-7.72 1.47 1.35L5.41 20z\"/>\n",
              "  </svg>\n",
              "      </button>\n",
              "      \n",
              "  <style>\n",
              "    .colab-df-container {\n",
              "      display:flex;\n",
              "      flex-wrap:wrap;\n",
              "      gap: 12px;\n",
              "    }\n",
              "\n",
              "    .colab-df-convert {\n",
              "      background-color: #E8F0FE;\n",
              "      border: none;\n",
              "      border-radius: 50%;\n",
              "      cursor: pointer;\n",
              "      display: none;\n",
              "      fill: #1967D2;\n",
              "      height: 32px;\n",
              "      padding: 0 0 0 0;\n",
              "      width: 32px;\n",
              "    }\n",
              "\n",
              "    .colab-df-convert:hover {\n",
              "      background-color: #E2EBFA;\n",
              "      box-shadow: 0px 1px 2px rgba(60, 64, 67, 0.3), 0px 1px 3px 1px rgba(60, 64, 67, 0.15);\n",
              "      fill: #174EA6;\n",
              "    }\n",
              "\n",
              "    [theme=dark] .colab-df-convert {\n",
              "      background-color: #3B4455;\n",
              "      fill: #D2E3FC;\n",
              "    }\n",
              "\n",
              "    [theme=dark] .colab-df-convert:hover {\n",
              "      background-color: #434B5C;\n",
              "      box-shadow: 0px 1px 3px 1px rgba(0, 0, 0, 0.15);\n",
              "      filter: drop-shadow(0px 1px 2px rgba(0, 0, 0, 0.3));\n",
              "      fill: #FFFFFF;\n",
              "    }\n",
              "  </style>\n",
              "\n",
              "      <script>\n",
              "        const buttonEl =\n",
              "          document.querySelector('#df-35222642-6be0-48bf-b5ca-235a3719fd4e button.colab-df-convert');\n",
              "        buttonEl.style.display =\n",
              "          google.colab.kernel.accessAllowed ? 'block' : 'none';\n",
              "\n",
              "        async function convertToInteractive(key) {\n",
              "          const element = document.querySelector('#df-35222642-6be0-48bf-b5ca-235a3719fd4e');\n",
              "          const dataTable =\n",
              "            await google.colab.kernel.invokeFunction('convertToInteractive',\n",
              "                                                     [key], {});\n",
              "          if (!dataTable) return;\n",
              "\n",
              "          const docLinkHtml = 'Like what you see? Visit the ' +\n",
              "            '<a target=\"_blank\" href=https://colab.research.google.com/notebooks/data_table.ipynb>data table notebook</a>'\n",
              "            + ' to learn more about interactive tables.';\n",
              "          element.innerHTML = '';\n",
              "          dataTable['output_type'] = 'display_data';\n",
              "          await google.colab.output.renderOutput(dataTable, element);\n",
              "          const docLink = document.createElement('div');\n",
              "          docLink.innerHTML = docLinkHtml;\n",
              "          element.appendChild(docLink);\n",
              "        }\n",
              "      </script>\n",
              "    </div>\n",
              "  </div>\n",
              "  "
            ]
          },
          "metadata": {},
          "execution_count": 38
        }
      ]
    },
    {
      "cell_type": "code",
      "source": [
        "training.iloc[:,:-1].nunique()"
      ],
      "metadata": {
        "colab": {
          "base_uri": "https://localhost:8080/"
        },
        "id": "SitWizFVydEp",
        "outputId": "510296cc-0475-4a74-8ba2-84b95ac625f5"
      },
      "execution_count": 39,
      "outputs": [
        {
          "output_type": "execute_result",
          "data": {
            "text/plain": [
              "room            5\n",
              "bathroom        2\n",
              "kitchen         2\n",
              "french_door     3\n",
              "backyard        2\n",
              "furnished       2\n",
              "green_paint     2\n",
              "solar_power     2\n",
              "woodfloor       2\n",
              "qlm_security    2\n",
              "club_access     2\n",
              "dtype: int64"
            ]
          },
          "metadata": {},
          "execution_count": 39
        }
      ]
    },
    {
      "cell_type": "code",
      "source": [
        "X_ = training.iloc[:,:-1]\n",
        "\n",
        "y = training[\"price\"]"
      ],
      "metadata": {
        "id": "FMlFK_K6-e1n"
      },
      "execution_count": 40,
      "outputs": []
    },
    {
      "cell_type": "code",
      "source": [
        "model = LinearRegression().fit(X_, y)"
      ],
      "metadata": {
        "id": "BiRVqNkL8nqt"
      },
      "execution_count": 41,
      "outputs": []
    },
    {
      "cell_type": "code",
      "source": [
        "y_pred = model.predict(X_)"
      ],
      "metadata": {
        "id": "dcHwX0ISAs0A"
      },
      "execution_count": 42,
      "outputs": []
    },
    {
      "cell_type": "code",
      "source": [
        "testing.head()"
      ],
      "metadata": {
        "colab": {
          "base_uri": "https://localhost:8080/",
          "height": 268
        },
        "id": "fODxWXhgZjEn",
        "outputId": "1fe18582-920d-49c3-d9e3-e052f5d9b173"
      },
      "execution_count": 43,
      "outputs": [
        {
          "output_type": "execute_result",
          "data": {
            "text/plain": [
              "   room  bathroom  kitchen  french_door  backyard  furnished  green_paint  \\\n",
              "0     1         1        1            3         0          0            1   \n",
              "1     5         1        1            2         0          0            0   \n",
              "2     5         1        1            3         0          0            0   \n",
              "3     4         2        2            1         0          1            1   \n",
              "4     5         2        1            1         0          1            1   \n",
              "\n",
              "   solar_power  woodfloor  qlm_security  club_access  price  \n",
              "0            1          0             1            0   5068  \n",
              "1            0          0             1            1   7658  \n",
              "2            1          1             1            1  11318  \n",
              "3            0          0             1            0   8858  \n",
              "4            1          0             0            1  11178  "
            ],
            "text/html": [
              "\n",
              "  <div id=\"df-62844ea8-f00d-4216-9cff-e5a5fed39328\">\n",
              "    <div class=\"colab-df-container\">\n",
              "      <div>\n",
              "<style scoped>\n",
              "    .dataframe tbody tr th:only-of-type {\n",
              "        vertical-align: middle;\n",
              "    }\n",
              "\n",
              "    .dataframe tbody tr th {\n",
              "        vertical-align: top;\n",
              "    }\n",
              "\n",
              "    .dataframe thead th {\n",
              "        text-align: right;\n",
              "    }\n",
              "</style>\n",
              "<table border=\"1\" class=\"dataframe\">\n",
              "  <thead>\n",
              "    <tr style=\"text-align: right;\">\n",
              "      <th></th>\n",
              "      <th>room</th>\n",
              "      <th>bathroom</th>\n",
              "      <th>kitchen</th>\n",
              "      <th>french_door</th>\n",
              "      <th>backyard</th>\n",
              "      <th>furnished</th>\n",
              "      <th>green_paint</th>\n",
              "      <th>solar_power</th>\n",
              "      <th>woodfloor</th>\n",
              "      <th>qlm_security</th>\n",
              "      <th>club_access</th>\n",
              "      <th>price</th>\n",
              "    </tr>\n",
              "  </thead>\n",
              "  <tbody>\n",
              "    <tr>\n",
              "      <th>0</th>\n",
              "      <td>1</td>\n",
              "      <td>1</td>\n",
              "      <td>1</td>\n",
              "      <td>3</td>\n",
              "      <td>0</td>\n",
              "      <td>0</td>\n",
              "      <td>1</td>\n",
              "      <td>1</td>\n",
              "      <td>0</td>\n",
              "      <td>1</td>\n",
              "      <td>0</td>\n",
              "      <td>5068</td>\n",
              "    </tr>\n",
              "    <tr>\n",
              "      <th>1</th>\n",
              "      <td>5</td>\n",
              "      <td>1</td>\n",
              "      <td>1</td>\n",
              "      <td>2</td>\n",
              "      <td>0</td>\n",
              "      <td>0</td>\n",
              "      <td>0</td>\n",
              "      <td>0</td>\n",
              "      <td>0</td>\n",
              "      <td>1</td>\n",
              "      <td>1</td>\n",
              "      <td>7658</td>\n",
              "    </tr>\n",
              "    <tr>\n",
              "      <th>2</th>\n",
              "      <td>5</td>\n",
              "      <td>1</td>\n",
              "      <td>1</td>\n",
              "      <td>3</td>\n",
              "      <td>0</td>\n",
              "      <td>0</td>\n",
              "      <td>0</td>\n",
              "      <td>1</td>\n",
              "      <td>1</td>\n",
              "      <td>1</td>\n",
              "      <td>1</td>\n",
              "      <td>11318</td>\n",
              "    </tr>\n",
              "    <tr>\n",
              "      <th>3</th>\n",
              "      <td>4</td>\n",
              "      <td>2</td>\n",
              "      <td>2</td>\n",
              "      <td>1</td>\n",
              "      <td>0</td>\n",
              "      <td>1</td>\n",
              "      <td>1</td>\n",
              "      <td>0</td>\n",
              "      <td>0</td>\n",
              "      <td>1</td>\n",
              "      <td>0</td>\n",
              "      <td>8858</td>\n",
              "    </tr>\n",
              "    <tr>\n",
              "      <th>4</th>\n",
              "      <td>5</td>\n",
              "      <td>2</td>\n",
              "      <td>1</td>\n",
              "      <td>1</td>\n",
              "      <td>0</td>\n",
              "      <td>1</td>\n",
              "      <td>1</td>\n",
              "      <td>1</td>\n",
              "      <td>0</td>\n",
              "      <td>0</td>\n",
              "      <td>1</td>\n",
              "      <td>11178</td>\n",
              "    </tr>\n",
              "  </tbody>\n",
              "</table>\n",
              "</div>\n",
              "      <button class=\"colab-df-convert\" onclick=\"convertToInteractive('df-62844ea8-f00d-4216-9cff-e5a5fed39328')\"\n",
              "              title=\"Convert this dataframe to an interactive table.\"\n",
              "              style=\"display:none;\">\n",
              "        \n",
              "  <svg xmlns=\"http://www.w3.org/2000/svg\" height=\"24px\"viewBox=\"0 0 24 24\"\n",
              "       width=\"24px\">\n",
              "    <path d=\"M0 0h24v24H0V0z\" fill=\"none\"/>\n",
              "    <path d=\"M18.56 5.44l.94 2.06.94-2.06 2.06-.94-2.06-.94-.94-2.06-.94 2.06-2.06.94zm-11 1L8.5 8.5l.94-2.06 2.06-.94-2.06-.94L8.5 2.5l-.94 2.06-2.06.94zm10 10l.94 2.06.94-2.06 2.06-.94-2.06-.94-.94-2.06-.94 2.06-2.06.94z\"/><path d=\"M17.41 7.96l-1.37-1.37c-.4-.4-.92-.59-1.43-.59-.52 0-1.04.2-1.43.59L10.3 9.45l-7.72 7.72c-.78.78-.78 2.05 0 2.83L4 21.41c.39.39.9.59 1.41.59.51 0 1.02-.2 1.41-.59l7.78-7.78 2.81-2.81c.8-.78.8-2.07 0-2.86zM5.41 20L4 18.59l7.72-7.72 1.47 1.35L5.41 20z\"/>\n",
              "  </svg>\n",
              "      </button>\n",
              "      \n",
              "  <style>\n",
              "    .colab-df-container {\n",
              "      display:flex;\n",
              "      flex-wrap:wrap;\n",
              "      gap: 12px;\n",
              "    }\n",
              "\n",
              "    .colab-df-convert {\n",
              "      background-color: #E8F0FE;\n",
              "      border: none;\n",
              "      border-radius: 50%;\n",
              "      cursor: pointer;\n",
              "      display: none;\n",
              "      fill: #1967D2;\n",
              "      height: 32px;\n",
              "      padding: 0 0 0 0;\n",
              "      width: 32px;\n",
              "    }\n",
              "\n",
              "    .colab-df-convert:hover {\n",
              "      background-color: #E2EBFA;\n",
              "      box-shadow: 0px 1px 2px rgba(60, 64, 67, 0.3), 0px 1px 3px 1px rgba(60, 64, 67, 0.15);\n",
              "      fill: #174EA6;\n",
              "    }\n",
              "\n",
              "    [theme=dark] .colab-df-convert {\n",
              "      background-color: #3B4455;\n",
              "      fill: #D2E3FC;\n",
              "    }\n",
              "\n",
              "    [theme=dark] .colab-df-convert:hover {\n",
              "      background-color: #434B5C;\n",
              "      box-shadow: 0px 1px 3px 1px rgba(0, 0, 0, 0.15);\n",
              "      filter: drop-shadow(0px 1px 2px rgba(0, 0, 0, 0.3));\n",
              "      fill: #FFFFFF;\n",
              "    }\n",
              "  </style>\n",
              "\n",
              "      <script>\n",
              "        const buttonEl =\n",
              "          document.querySelector('#df-62844ea8-f00d-4216-9cff-e5a5fed39328 button.colab-df-convert');\n",
              "        buttonEl.style.display =\n",
              "          google.colab.kernel.accessAllowed ? 'block' : 'none';\n",
              "\n",
              "        async function convertToInteractive(key) {\n",
              "          const element = document.querySelector('#df-62844ea8-f00d-4216-9cff-e5a5fed39328');\n",
              "          const dataTable =\n",
              "            await google.colab.kernel.invokeFunction('convertToInteractive',\n",
              "                                                     [key], {});\n",
              "          if (!dataTable) return;\n",
              "\n",
              "          const docLinkHtml = 'Like what you see? Visit the ' +\n",
              "            '<a target=\"_blank\" href=https://colab.research.google.com/notebooks/data_table.ipynb>data table notebook</a>'\n",
              "            + ' to learn more about interactive tables.';\n",
              "          element.innerHTML = '';\n",
              "          dataTable['output_type'] = 'display_data';\n",
              "          await google.colab.output.renderOutput(dataTable, element);\n",
              "          const docLink = document.createElement('div');\n",
              "          docLink.innerHTML = docLinkHtml;\n",
              "          element.appendChild(docLink);\n",
              "        }\n",
              "      </script>\n",
              "    </div>\n",
              "  </div>\n",
              "  "
            ]
          },
          "metadata": {},
          "execution_count": 43
        }
      ]
    },
    {
      "cell_type": "code",
      "source": [
        "X_test = testing.iloc[:,:-1]\n",
        "\n",
        "y_test = testing[\"price\"]"
      ],
      "metadata": {
        "id": "FOoiexsyZ5O7"
      },
      "execution_count": 44,
      "outputs": []
    },
    {
      "cell_type": "code",
      "source": [
        "ypred = model.predict(X_test)\n",
        "\n",
        "\n",
        "print(\"Root mean Squared Error\",mean_squared_error(y_test,ypred)**0.5)\n",
        "\n",
        "print(r2_score(y_test,ypred))\n",
        "\n"
      ],
      "metadata": {
        "id": "WamwiKe8Asrd",
        "colab": {
          "base_uri": "https://localhost:8080/"
        },
        "outputId": "c53d09a3-1d87-4d03-b833-c46c62bc8601"
      },
      "execution_count": 45,
      "outputs": [
        {
          "output_type": "stream",
          "name": "stdout",
          "text": [
            "Root mean Squared Error 13.000000000000467\n",
            "0.9999656095212318\n"
          ]
        }
      ]
    },
    {
      "cell_type": "code",
      "source": [
        "model.coef_"
      ],
      "metadata": {
        "id": "MnoQf3tR1-Yo",
        "outputId": "63baae2c-20c3-4326-8b9c-5f8d16f30624",
        "colab": {
          "base_uri": "https://localhost:8080/"
        }
      },
      "execution_count": 46,
      "outputs": [
        {
          "output_type": "execute_result",
          "data": {
            "text/plain": [
              "array([1000.,  300.,  500.,  240.,  560., 2000.,  370., 1530., 1890.,\n",
              "        440.,  730.])"
            ]
          },
          "metadata": {},
          "execution_count": 46
        }
      ]
    },
    {
      "cell_type": "code",
      "source": [
        "# Get the coefficients (importance) of the features\n",
        "feature_importance = model.coef_.ravel()\n",
        "\n",
        "# Convert the coefficients to absolute values and sort in descending order\n",
        "absolute_feature_importance = np.abs(feature_importance)\n",
        "sorted_idx = np.argsort(absolute_feature_importance)[::-1]\n",
        "\n",
        "col = []\n",
        "# Print the feature names and their corresponding importance scores\n",
        "for i in sorted_idx:\n",
        "  col.append(X_.columns[i])\n",
        "  print('Feature: %s, Importance: %.3f' % (X_.columns[i], absolute_feature_importance[i]))"
      ],
      "metadata": {
        "id": "Obvty5Pr9Px5",
        "colab": {
          "base_uri": "https://localhost:8080/"
        },
        "outputId": "9adfe9ce-ebf0-4bd2-916f-d981dd5539a3"
      },
      "execution_count": 47,
      "outputs": [
        {
          "output_type": "stream",
          "name": "stdout",
          "text": [
            "Feature: furnished, Importance: 2000.000\n",
            "Feature: woodfloor, Importance: 1890.000\n",
            "Feature: solar_power, Importance: 1530.000\n",
            "Feature: room, Importance: 1000.000\n",
            "Feature: club_access, Importance: 730.000\n",
            "Feature: backyard, Importance: 560.000\n",
            "Feature: kitchen, Importance: 500.000\n",
            "Feature: qlm_security, Importance: 440.000\n",
            "Feature: green_paint, Importance: 370.000\n",
            "Feature: bathroom, Importance: 300.000\n",
            "Feature: french_door, Importance: 240.000\n"
          ]
        }
      ]
    },
    {
      "cell_type": "code",
      "source": [
        "sort_ = np.sort(absolute_feature_importance)\n",
        "col\n",
        "sort_ "
      ],
      "metadata": {
        "colab": {
          "base_uri": "https://localhost:8080/"
        },
        "id": "pL8X7elbnglN",
        "outputId": "6f3a3556-5e2f-49c7-f68e-f42b1d5cfd95"
      },
      "execution_count": 48,
      "outputs": [
        {
          "output_type": "execute_result",
          "data": {
            "text/plain": [
              "array([ 240.,  300.,  370.,  440.,  500.,  560.,  730., 1000., 1530.,\n",
              "       1890., 2000.])"
            ]
          },
          "metadata": {},
          "execution_count": 48
        }
      ]
    },
    {
      "cell_type": "code",
      "source": [
        "plt.barh(col[::-1],sort_)\n",
        "plt.title(\"Important Features\")\n",
        "plt.show()"
      ],
      "metadata": {
        "colab": {
          "base_uri": "https://localhost:8080/",
          "height": 452
        },
        "id": "mY7pCtSimr4M",
        "outputId": "081dc9be-7d65-4375-decb-91893bb21200"
      },
      "execution_count": 49,
      "outputs": [
        {
          "output_type": "display_data",
          "data": {
            "text/plain": [
              "<Figure size 640x480 with 1 Axes>"
            ],
            "image/png": "[encoded data removed]"
          },
          "metadata": {}
        }
      ]
    },
    {
      "cell_type": "markdown",
      "source": [
        "#Another Library to get the p-value"
      ],
      "metadata": {
        "id": "Mv-LwpzBGP3L"
      }
    },
    {
      "cell_type": "code",
      "source": [
        "X2 = sm.add_constant(X_)\n",
        "\n",
        "model2 = sm.OLS(y,X2)"
      ],
      "metadata": {
        "id": "PYaPwbgDxisQ"
      },
      "execution_count": 50,
      "outputs": []
    },
    {
      "cell_type": "code",
      "source": [
        "model_fit  = model2.fit()\n",
        "print(model_fit.summary())"
      ],
      "metadata": {
        "colab": {
          "base_uri": "https://localhost:8080/"
        },
        "id": "YsGE49uTGmmK",
        "outputId": "f255c05d-a9a6-4fe9-9fc9-c54ecddfd765"
      },
      "execution_count": 51,
      "outputs": [
        {
          "output_type": "stream",
          "name": "stdout",
          "text": [
            "                            OLS Regression Results                            \n",
            "==============================================================================\n",
            "Dep. Variable:                  price   R-squared:                       1.000\n",
            "Model:                            OLS   Adj. R-squared:                  1.000\n",
            "Method:                 Least Squares   F-statistic:                 1.142e+30\n",
            "Date:                Tue, 02 May 2023   Prob (F-statistic):               0.00\n",
            "Time:                        12:45:53   Log-Likelihood:                 68042.\n",
            "No. Observations:                3000   AIC:                        -1.361e+05\n",
            "Df Residuals:                    2988   BIC:                        -1.360e+05\n",
            "Df Model:                          11                                         \n",
            "Covariance Type:            nonrobust                                         \n",
            "================================================================================\n",
            "                   coef    std err          t      P>|t|      [0.025      0.975]\n",
            "--------------------------------------------------------------------------------\n",
            "const          195.0000    3.8e-12   5.14e+13      0.000     195.000     195.000\n",
            "room          1000.0000   4.39e-13   2.28e+15      0.000    1000.000    1000.000\n",
            "bathroom       300.0000   1.25e-12   2.39e+14      0.000     300.000     300.000\n",
            "kitchen        500.0000   1.25e-12   3.99e+14      0.000     500.000     500.000\n",
            "french_door    240.0000    7.7e-13   3.12e+14      0.000     240.000     240.000\n",
            "backyard       560.0000   1.25e-12   4.48e+14      0.000     560.000     560.000\n",
            "furnished     2000.0000   1.25e-12    1.6e+15      0.000    2000.000    2000.000\n",
            "green_paint    370.0000   1.25e-12   2.95e+14      0.000     370.000     370.000\n",
            "solar_power   1530.0000   1.25e-12   1.22e+15      0.000    1530.000    1530.000\n",
            "woodfloor     1890.0000   1.25e-12   1.51e+15      0.000    1890.000    1890.000\n",
            "qlm_security   440.0000   1.25e-12   3.51e+14      0.000     440.000     440.000\n",
            "club_access    730.0000   1.25e-12   5.83e+14      0.000     730.000     730.000\n",
            "==============================================================================\n",
            "Omnibus:                       36.776   Durbin-Watson:                   0.034\n",
            "Prob(Omnibus):                  0.000   Jarque-Bera (JB):               22.699\n",
            "Skew:                           0.002   Prob(JB):                     1.18e-05\n",
            "Kurtosis:                       2.574   Cond. No.                         29.2\n",
            "==============================================================================\n",
            "\n",
            "Notes:\n",
            "[1] Standard Errors assume that the covariance matrix of the errors is correctly specified.\n"
          ]
        }
      ]
    },
    {
      "cell_type": "code",
      "source": [
        "t_value = model_fit.tvalues.sort_values(ascending=False)"
      ],
      "metadata": {
        "id": "lJjLiPPsHJeq"
      },
      "execution_count": 52,
      "outputs": []
    },
    {
      "cell_type": "code",
      "source": [
        "t_value"
      ],
      "metadata": {
        "colab": {
          "base_uri": "https://localhost:8080/"
        },
        "id": "9HBMDqjkJU7c",
        "outputId": "ad318f04-dfba-4ff0-a364-94c709fea855"
      },
      "execution_count": 53,
      "outputs": [
        {
          "output_type": "execute_result",
          "data": {
            "text/plain": [
              "room            2.275854e+15\n",
              "furnished       1.597486e+15\n",
              "woodfloor       1.510231e+15\n",
              "solar_power     1.222612e+15\n",
              "club_access     5.829885e+14\n",
              "backyard        4.476104e+14\n",
              "kitchen         3.990791e+14\n",
              "qlm_security    3.510575e+14\n",
              "french_door     3.117821e+14\n",
              "green_paint     2.952641e+14\n",
              "bathroom        2.394388e+14\n",
              "const           5.135108e+13\n",
              "dtype: float64"
            ]
          },
          "metadata": {},
          "execution_count": 53
        }
      ]
    },
    {
      "cell_type": "code",
      "source": [
        "plt.bar(t_value.index[:-1],t_value[:-1])\n",
        "plt.title(\"Important Features using the T-statistics value\")\n",
        "plt.xticks(rotation=90)\n",
        "plt.show()"
      ],
      "metadata": {
        "colab": {
          "base_uri": "https://localhost:8080/",
          "height": 527
        },
        "id": "RLupaSEhIIGh",
        "outputId": "be555676-2e03-44af-8535-d377078b84e1"
      },
      "execution_count": 54,
      "outputs": [
        {
          "output_type": "display_data",
          "data": {
            "text/plain": [
              "<Figure size 640x480 with 1 Axes>"
            ],
            "image/png": "[encoded data removed]"
          },
          "metadata": {}
        }
      ]
    },
    {
      "cell_type": "code",
      "source": [
        "X_new = sm.add_constant(X_.iloc[:,1:]) #To check the extent at which Room variable is important\n",
        "\n",
        "model_new = sm.OLS(y,X_new).fit()"
      ],
      "metadata": {
        "id": "UQA_GYrMJEt6"
      },
      "execution_count": 55,
      "outputs": []
    },
    {
      "cell_type": "code",
      "source": [
        "print(model_new.summary())"
      ],
      "metadata": {
        "colab": {
          "base_uri": "https://localhost:8080/"
        },
        "id": "0l1bpLsnNfjo",
        "outputId": "f86ff097-0e25-4fb2-af60-6ce2cb183d21"
      },
      "execution_count": 56,
      "outputs": [
        {
          "output_type": "stream",
          "name": "stdout",
          "text": [
            "                            OLS Regression Results                            \n",
            "==============================================================================\n",
            "Dep. Variable:                  price   R-squared:                       0.588\n",
            "Model:                            OLS   Adj. R-squared:                  0.586\n",
            "Method:                 Least Squares   F-statistic:                     426.2\n",
            "Date:                Tue, 02 May 2023   Prob (F-statistic):               0.00\n",
            "Time:                        12:46:03   Log-Likelihood:                -26038.\n",
            "No. Observations:                3000   AIC:                         5.210e+04\n",
            "Df Residuals:                    2989   BIC:                         5.216e+04\n",
            "Df Model:                          10                                         \n",
            "Covariance Type:            nonrobust                                         \n",
            "================================================================================\n",
            "                   coef    std err          t      P>|t|      [0.025      0.975]\n",
            "--------------------------------------------------------------------------------\n",
            "const         3018.1104    149.404     20.201      0.000    2725.165    3311.056\n",
            "bathroom       345.3024     52.150      6.621      0.000     243.049     447.556\n",
            "kitchen        564.5207     52.141     10.827      0.000     462.284     666.757\n",
            "french_door    257.4274     32.042      8.034      0.000     194.601     320.254\n",
            "backyard       561.8067     52.080     10.787      0.000     459.691     663.922\n",
            "furnished     2011.9327     52.116     38.605      0.000    1909.746    2114.119\n",
            "green_paint    324.6029     52.158      6.224      0.000     222.335     426.871\n",
            "solar_power   1514.1522     52.093     29.066      0.000    1412.011    1616.294\n",
            "woodfloor     1928.5435     52.091     37.023      0.000    1826.406    2030.681\n",
            "qlm_security   370.9996     52.159      7.113      0.000     268.729     473.271\n",
            "club_access    735.9700     52.125     14.119      0.000     633.766     838.174\n",
            "==============================================================================\n",
            "Omnibus:                    10911.600   Durbin-Watson:                   2.011\n",
            "Prob(Omnibus):                  0.000   Jarque-Bera (JB):              213.855\n",
            "Skew:                           0.021   Prob(JB):                     3.65e-47\n",
            "Kurtosis:                       1.693   Cond. No.                         20.6\n",
            "==============================================================================\n",
            "\n",
            "Notes:\n",
            "[1] Standard Errors assume that the covariance matrix of the errors is correctly specified.\n"
          ]
        }
      ]
    },
    {
      "cell_type": "code",
      "source": [
        "X_cons = X_.copy()\n",
        "\n",
        "X_[\"cons\"] = 1"
      ],
      "metadata": {
        "id": "FRYSeKRwd3D3"
      },
      "execution_count": 57,
      "outputs": []
    },
    {
      "cell_type": "code",
      "source": [
        "columns = ['room', 'bathroom', 'kitchen', 'french_door', 'backyard', 'furnished',\n",
        "       'green_paint', 'solar_power', 'woodfloor', 'qlm_security',\n",
        "       'club_access']"
      ],
      "metadata": {
        "id": "GQTpaJK2aOmb"
      },
      "execution_count": 58,
      "outputs": []
    },
    {
      "cell_type": "code",
      "source": [
        "#room = X_[['bathroom', 'kitchen', 'french_door', 'backyard', 'furnished',\n",
        "       #'green_paint', 'solar_power', 'woodfloor', 'qlm_security',\n",
        "      # 'club_access']]\n",
        "\n",
        "#bath = X_[['room', 'kitchen', 'french_door', 'backyard', 'furnished', 'green_paint', 'solar_power', 'woodfloor', 'qlm_security', 'club_access']]\n"
      ],
      "metadata": {
        "id": "wGfdWRTBadeB"
      },
      "execution_count": 59,
      "outputs": []
    },
    {
      "cell_type": "code",
      "source": [
        "room = X_.drop('room', axis=1)\n",
        "bathroom = X_.drop('bathroom', axis=1)\n",
        "kitchen = X_.drop('kitchen', axis=1)\n",
        "french_door = X_.drop('french_door', axis=1)\n",
        "backyard = X_.drop('backyard', axis=1)\n",
        "furnished = X_.drop('furnished', axis=1)\n",
        "green_paint = X_.drop('green_paint', axis=1)\n",
        "solar_power = X_.drop('solar_power', axis=1)\n",
        "woodfloor = X_.drop('woodfloor', axis=1)\n",
        "qlm_security = X_.drop('qlm_security', axis=1)\n",
        "club_access = X_.drop('club_access', axis=1)"
      ],
      "metadata": {
        "id": "ciWATl8jbwC7"
      },
      "execution_count": 60,
      "outputs": []
    },
    {
      "cell_type": "code",
      "source": [
        " #To check the extent at which Room variable is important\n",
        "\n",
        "model_room = sm.OLS(y,room).fit()\n",
        "model_broom = sm.OLS(y,bathroom).fit()\n",
        "model_kit = sm.OLS(y,kitchen).fit()\n",
        "model_fdoor = sm.OLS(y,french_door).fit()\n",
        "model_backyard = sm.OLS(y,backyard).fit()\n",
        "model_furnished = sm.OLS(y,furnished).fit()\n",
        "model_green_paint = sm.OLS(y,green_paint).fit()\n",
        "model_solar_power = sm.OLS(y,solar_power).fit()\n",
        "model_woodfloor = sm.OLS(y,woodfloor).fit()\n",
        "model_qlm_security = sm.OLS(y,qlm_security).fit()\n",
        "model_club_access = sm.OLS(y,club_access).fit()\n",
        "\n"
      ],
      "metadata": {
        "id": "HjQG0X5Mdbpd"
      },
      "execution_count": 63,
      "outputs": []
    },
    {
      "cell_type": "code",
      "source": [
        "from statsmodels.iolib.summary2 import summary_col\n",
        "res = summary_col([model_fit,model_room,model_broom,model_kit,model_fdoor,model_backyard,model_furnished,model_green_paint,model_solar_power,model_woodfloor,model_qlm_security,model_club_access], regressor_order=model_fit.params.index.tolist())\n",
        "print(res)"
      ],
      "metadata": {
        "id": "ecKvZ8lVNoHa",
        "colab": {
          "base_uri": "https://localhost:8080/"
        },
        "outputId": "02c2945d-305d-4253-c150-b02e4e906c16"
      },
      "execution_count": 65,
      "outputs": [
        {
          "output_type": "stream",
          "name": "stdout",
          "text": [
            "\n",
            "====================================================================================================================================================================================\n",
            "                price I   price II  price III price IIII price IIIII price IIIIII price IIIIIII price IIIIIIII price IIIIIIIII price IIIIIIIIII price IIIIIIIIIII price IIIIIIIIIIII\n",
            "------------------------------------------------------------------------------------------------------------------------------------------------------------------------------------\n",
            "const          195.0000                                                                                                                                                             \n",
            "               (0.0000)                                                                                                                                                             \n",
            "room           1000.0000            1001.6715 1003.9679  1001.3628   1000.1248    1002.9396     997.9348       997.0107        1008.9802        996.2686          1000.5366         \n",
            "               (0.0000)             (1.9241)  (3.2066)   (2.5057)    (3.5974)     (12.8388)     (2.3727)       (9.8260)        (12.1366)        (2.8206)          (4.6855)          \n",
            "bathroom       300.0000  345.3024             293.5042   303.3884    305.8106     276.2125      312.8684       264.9080        302.9733         290.1134          280.6673          \n",
            "               (0.0000)  (52.1499)            (9.1450)   (7.1449)    (10.2575)    (36.6075)     (6.7626)       (28.0116)       (34.6104)        (8.0433)          (13.3558)         \n",
            "kitchen        500.0000  564.5207   496.1028             491.9316    499.8087     506.0882      491.7281       504.6626        481.0577         509.9723          501.1953          \n",
            "               (0.0000)  (52.1412)  (5.4866)             (7.1434)    (10.2577)    (36.6086)     (6.7647)       (28.0179)       (34.6075)        (8.0429)          (13.3600)         \n",
            "french_door    240.0000  257.4274   241.5987  233.6548               242.8695     226.4515      242.1734       226.7693        260.1840         233.3215          233.7575          \n",
            "               (0.0000)  (32.0420)  (3.3711)  (5.6178)               (6.3021)     (22.4909)     (4.1571)       (17.2125)       (21.2606)        (4.9413)          (8.2076)          \n",
            "backyard       560.0000  561.8067   563.1037  559.8297   563.2485                 555.4667      560.4853       551.9142        580.9555         555.1476          543.9477          \n",
            "               (0.0000)  (52.0798)  (5.4789)  (9.1324)   (7.1345)                 (36.5562)     (6.7567)       (27.9774)       (34.5574)        (8.0330)          (13.3377)         \n",
            "furnished      2000.0000 2011.9327  1996.4374 2001.5198  1995.6993   1998.7289                  2012.1310      1970.3530       2015.2292        1993.3277         2012.2752         \n",
            "               (0.0000)  (52.1159)  (5.4827)  (9.1388)   (7.1393)    (10.2501)                  (6.7578)       (27.9922)       (34.5827)        (8.0382)          (13.3484)         \n",
            "green_paint    370.0000  324.6029   380.4370  358.8176   373.7360    370.7369     435.6933                     358.9840        347.6748         368.4193          356.9130          \n",
            "               (0.0000)  (52.1576)  (5.4848)  (9.1449)   (7.1459)    (10.2595)    (36.5958)                    (28.0224)       (34.6132)        (8.0464)          (13.3604)         \n",
            "solar_power    1530.0000 1514.1522  1523.1358 1531.5202  1524.5148   1527.0389    1491.2797     1527.3432                      1493.7970        1527.9380         1519.8896         \n",
            "               (0.0000)  (52.0927)  (5.4792)  (9.1347)   (7.1359)    (10.2455)    (36.5591)     (6.7583)                       (34.5624)        (8.0355)          (13.3431)         \n",
            "woodfloor      1890.0000 1928.5435  1890.4709 1885.0002  1896.7744   1896.2128    1906.1026     1885.6410      1860.6907                        1892.3091         1894.7365         \n",
            "               (0.0000)  (52.0907)  (5.4809)  (9.1347)   (7.1358)    (10.2454)    (36.5661)     (6.7583)       (27.9811)                        (8.0358)          (13.3446)         \n",
            "qlm_security   440.0000  370.9996   433.2545  451.3407   430.3424    433.8019     409.6043      438.6703       432.8076        449.9487                           460.0635          \n",
            "               (0.0000)  (52.1589)  (5.4878)  (9.1466)   (7.1455)    (10.2609)    (36.6183)     (6.7689)       (28.0282)       (34.6217)                          (13.3600)         \n",
            "club_access    730.0000  735.9700   722.0647  730.8178   724.5693    717.6646     763.6415      723.3769       708.7842        742.2768         742.0702                            \n",
            "               (0.0000)  (52.1247)  (5.4820)  (9.1403)   (7.1402)    (10.2493)    (36.5827)     (6.7615)       (27.9993)       (34.5887)        (8.0374)                            \n",
            "cons                     3018.1104  644.9647  967.2007   683.0604    462.8096     1195.8762     371.0431       1086.7720       1120.6665        430.7536          598.7544          \n",
            "                         (149.4043) (14.4517) (23.8508)  (19.7301)   (30.7018)    (109.4374)    (20.2541)      (83.3389)       (103.5221)       (23.9994)         (39.8141)         \n",
            "R-squared      1.0000    0.5878     0.9954    0.9873     0.9923      0.9841       0.7969        0.9931         0.8810          0.8185           0.9902            0.9730            \n",
            "R-squared Adj. 1.0000    0.5864     0.9954    0.9873     0.9922      0.9840       0.7962        0.9930         0.8806          0.8179           0.9902            0.9729            \n",
            "====================================================================================================================================================================================\n",
            "Standard errors in parentheses.\n"
          ]
        }
      ]
    },
    {
      "cell_type": "code",
      "source": [
        "res.tables[0].to_csv(\"test.csv\")\n",
        "table  = pd.read_csv(\"test.csv\")"
      ],
      "metadata": {
        "id": "QT8GjebmQeKq"
      },
      "execution_count": 67,
      "outputs": []
    },
    {
      "cell_type": "code",
      "source": [
        "new = table.iloc[27,:]"
      ],
      "metadata": {
        "id": "UL_X-onuZQit"
      },
      "execution_count": 89,
      "outputs": []
    },
    {
      "cell_type": "code",
      "source": [
        "new.index =  [\"lab\",'full','room', 'bathroom', 'kitchen', 'french_door', 'backyard', 'furnished',\n",
        "       'green_paint', 'solar_power', 'woodfloor', 'qlm_security',\n",
        "       'club_access']"
      ],
      "metadata": {
        "id": "6DtLFcCahAf7"
      },
      "execution_count": 90,
      "outputs": []
    },
    {
      "cell_type": "code",
      "source": [
        "sort = pd.Series(new[2:].sort_values(ascending = False), dtype = float)"
      ],
      "metadata": {
        "id": "J8UPdjmohxXC"
      },
      "execution_count": 107,
      "outputs": []
    },
    {
      "cell_type": "code",
      "source": [
        "plt.barh(sort.index,sort.values)\n",
        "plt.title(\"Important Features using the R-Square value\")\n",
        "plt.xticks(rotation=90)\n",
        "plt.show()"
      ],
      "metadata": {
        "colab": {
          "base_uri": "https://localhost:8080/",
          "height": 460
        },
        "id": "G92tHT2fh5SL",
        "outputId": "e3e2987a-5e96-445d-ef5e-01ccadbe2e73"
      },
      "execution_count": 109,
      "outputs": [
        {
          "output_type": "display_data",
          "data": {
            "text/plain": [
              "<Figure size 640x480 with 1 Axes>"
            ],
            "image/png": "[encoded data removed]"
          },
          "metadata": {}
        }
      ]
    },
    {
      "cell_type": "code",
      "source": [],
      "metadata": {
        "id": "MD1hDw_NjeMB"
      },
      "execution_count": null,
      "outputs": []
    }
  ]
}