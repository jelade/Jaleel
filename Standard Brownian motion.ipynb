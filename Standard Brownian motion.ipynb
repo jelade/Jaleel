{
  "nbformat": 4,
  "nbformat_minor": 0,
  "metadata": {
    "colab": {
      "name": "Abduljaleel Jaleel Adejumo - CFwP_Quiz1.ipynb",
      "provenance": [],
      "collapsed_sections": [],
      "include_colab_link": true
    },
    "kernelspec": {
      "name": "python3",
      "display_name": "Python 3"
    },
    "language_info": {
      "name": "python"
    }
  },
  "cells": [
    {
      "cell_type": "markdown",
      "metadata": {
        "id": "view-in-github",
        "colab_type": "text"
      },
      "source": [
        "<a href=\"https://colab.research.google.com/github/jelade/Jaleel/blob/master/Standard%20Brownian%20motion.ipynb\" target=\"_parent\"><img src=\"https://colab.research.google.com/assets/colab-badge.svg\" alt=\"Open In Colab\"/></a>"
      ]
    },
    {
      "cell_type": "markdown",
      "source": [
        "# Quiz 1: Asset model in continuous time"
      ],
      "metadata": {
        "id": "uAvY2zGhe3_A"
      }
    },
    {
      "cell_type": "markdown",
      "source": [
        "We have derived the following model for the price of an asset S evolving in continuous time:\n",
        "\\begin{equation}S(t) = S_0e^{(\\mu-\\sigma^2/2)t+B(t)}, \\quad t\\in[0,T]\\end{equation}"
      ],
      "metadata": {
        "id": "Jzmv9qEufXR5"
      }
    },
    {
      "cell_type": "markdown",
      "source": [
        "where $B$ is a standard Brownian motion and $S(0) = S_0$ is the initial value of the asset. We also saw that\n",
        "\n",
        "\n",
        "\n",
        "*   a 95% confidence interval for the asset price at time $t$ is given by \\begin{equation}\\left[S_0e^{-1.96\\sigma\\sqrt{t}+(\\mu-\\sigma^2/2)t}, S_0e^{+1.96\\sigma\\sqrt{t}+(\\mu-\\sigma^2/2)t}\\right]\\tag{1}\\end{equation}\n",
        "*   an approximate 95% confidence interval for the asset price at time $t$ is given by \n",
        "\\begin{equation}\n",
        "\\left[S_0-S_0\\times1.96\\sigma\\sqrt{t}, S_0+S_0\\times 1.96\\sigma\\sqrt{t}\\right] \\tag{2}\n",
        "\\end{equation}\n",
        "\n"
      ],
      "metadata": {
        "id": "mrUruPlbgAcT"
      }
    },
    {
      "cell_type": "markdown",
      "source": [
        "1.   Write a Python function called `assetCI()` that takes $S_0$, $\\mu$, $\\sigma$, and $t$ as arguments and which returns an array containing the lower and upper limits of the confidence interval (1)\n",
        "\n",
        " "
      ],
      "metadata": {
        "id": "AsDBZkQqgO1H"
      }
    },
    {
      "cell_type": "code",
      "source": [
        "import numpy as np\n",
        "import math"
      ],
      "metadata": {
        "id": "4JNuhAXyWAI5"
      },
      "execution_count": 1,
      "outputs": []
    },
    {
      "cell_type": "code",
      "source": [
        "## YOUR CODE HERE\n",
        "def assetCI(S,zigma,t,miu):\n",
        "  lower = S*np.exp((-1.96)*(zigma)*np.sqrt(t)+(miu-(zigma**2)/2)*t)\n",
        "  upper = S*np.exp(1.96*(zigma)*np.sqrt(t)+(miu-(zigma**2)/2)*t)\n",
        "  return(lower,upper)"
      ],
      "metadata": {
        "id": "uT2EIWgukS3w"
      },
      "execution_count": 14,
      "outputs": []
    },
    {
      "cell_type": "markdown",
      "source": [
        "2.   Write a Python function called `assetCIapprox()` that takes $S_0$, $\\mu$, $\\sigma$, and $t$ as arguments and which returns an array containing the lower and upper limits of the approximate confidence interval (2)."
      ],
      "metadata": {
        "id": "QPQFkXwCkTex"
      }
    },
    {
      "cell_type": "code",
      "source": [
        "## YOUR CODE HERE\n",
        "def assetCIapprox(S,zigma,t,miu):\n",
        "  lower = S-(S*1.96*(zigma)*np.sqrt(t))\n",
        "  upper = S+(S*1.96*(zigma)*np.sqrt(t))\n",
        "  return(lower,upper)"
      ],
      "metadata": {
        "id": "2ZP2NUuHkV4J"
      },
      "execution_count": 15,
      "outputs": []
    },
    {
      "cell_type": "markdown",
      "source": [
        "3. Use `assetCI()` and `assetCIapprox()` in turn to compute 95% confidence intervals for the value of $S(t)$ at $t = 0.004$, when $S_0 = 10, μ = 0.05$, and $\\sigma = 0.3$. Are they similar?"
      ],
      "metadata": {
        "id": "0UZ36CHwkWmk"
      }
    },
    {
      "cell_type": "code",
      "source": [
        "## YOUR CODE HERE\n",
        "assetCI(10,0.3,0.004,0.05)"
      ],
      "metadata": {
        "id": "saU8S4LlkYU7",
        "colab": {
          "base_uri": "https://localhost:8080/"
        },
        "outputId": "905df0a7-609c-4467-f642-40fdcfcad74c"
      },
      "execution_count": 16,
      "outputs": [
        {
          "output_type": "execute_result",
          "data": {
            "text/plain": [
              "(9.635138801308022, 10.379092833247508)"
            ]
          },
          "metadata": {},
          "execution_count": 16
        }
      ]
    },
    {
      "cell_type": "code",
      "source": [
        "assetCIapprox(10,0.3,0.004,0.05)"
      ],
      "metadata": {
        "colab": {
          "base_uri": "https://localhost:8080/"
        },
        "id": "BlnXycE5XKjX",
        "outputId": "9f1aac59-02d3-4d6d-e2d0-700d38e76e19"
      },
      "execution_count": 17,
      "outputs": [
        {
          "output_type": "execute_result",
          "data": {
            "text/plain": [
              "(9.6281161471642, 10.3718838528358)"
            ]
          },
          "metadata": {},
          "execution_count": 17
        }
      ]
    },
    {
      "cell_type": "markdown",
      "source": [
        "*Note:* since there are approximately 252 trading days in a year the value of $t = 1/252 \\approx 0.004$ is chosen to represent a time of one trading day in the future."
      ],
      "metadata": {
        "id": "RXix3E0Pj2Q0"
      }
    }
  ]
}