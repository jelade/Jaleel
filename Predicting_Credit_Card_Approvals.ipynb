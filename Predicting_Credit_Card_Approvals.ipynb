{
  "nbformat": 4,
  "nbformat_minor": 0,
  "metadata": {
    "colab": {
      "name": "Predicting Credit Card Approvals.ipynb",
      "provenance": [],
      "toc_visible": true,
      "authorship_tag": "ABX9TyM4Mz8gWQRPScxQjAC1n7+E",
      "include_colab_link": true
    },
    "kernelspec": {
      "name": "python3",
      "display_name": "Python 3"
    },
    "language_info": {
      "name": "python"
    }
  },
  "cells": [
    {
      "cell_type": "markdown",
      "metadata": {
        "id": "view-in-github",
        "colab_type": "text"
      },
      "source": [
        "<a href=\"https://colab.research.google.com/github/jelade/Jaleel/blob/master/Predicting_Credit_Card_Approvals.ipynb\" target=\"_parent\"><img src=\"https://colab.research.google.com/assets/colab-badge.svg\" alt=\"Open In Colab\"/></a>"
      ]
    },
    {
      "cell_type": "markdown",
      "source": [
        "# Predicting Credit Card Approvals"
      ],
      "metadata": {
        "id": "5HOT-rtYn6R2"
      }
    },
    {
      "cell_type": "markdown",
      "source": [
        "#![images.jpeg](data:image/jpeg;base64,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)"
      ],
      "metadata": {
        "id": "QXQtSl7FtOaI"
      }
    },
    {
      "cell_type": "code",
      "execution_count": null,
      "metadata": {
        "id": "AO-AHfrsXOa7"
      },
      "outputs": [],
      "source": [
        "import numpy as np\n",
        "import pandas as pd\n",
        "import matplotlib.pyplot as plt\n",
        "import seaborn as sns"
      ]
    },
    {
      "cell_type": "code",
      "source": [
        "cc_apps = pd.read_csv('http://archive.ics.uci.edu/ml/machine-learning-databases/credit-screening/crx.data', sep = \",\", header = None)"
      ],
      "metadata": {
        "id": "ZKvZuRBuXbXX"
      },
      "execution_count": null,
      "outputs": []
    },
    {
      "cell_type": "code",
      "source": [
        "print(cc_apps.head())"
      ],
      "metadata": {
        "colab": {
          "base_uri": "https://localhost:8080/"
        },
        "id": "eHa7_Gq6Xi6G",
        "outputId": "20d784b5-ae06-4a51-a777-23328cfc32ae"
      },
      "execution_count": null,
      "outputs": [
        {
          "output_type": "stream",
          "name": "stdout",
          "text": [
            "  0      1      2  3  4  5  6     7  8  9   10 11 12     13   14 15\n",
            "0  b  30.83  0.000  u  g  w  v  1.25  t  t   1  f  g  00202    0  +\n",
            "1  a  58.67  4.460  u  g  q  h  3.04  t  t   6  f  g  00043  560  +\n",
            "2  a  24.50  0.500  u  g  q  h  1.50  t  f   0  f  g  00280  824  +\n",
            "3  b  27.83  1.540  u  g  w  v  3.75  t  t   5  t  g  00100    3  +\n",
            "4  b  20.17  5.625  u  g  w  v  1.71  t  f   0  f  s  00120    0  +\n"
          ]
        }
      ]
    },
    {
      "cell_type": "markdown",
      "source": [
        "Checking for missing data"
      ],
      "metadata": {
        "id": "UvjdqYZToFNF"
      }
    },
    {
      "cell_type": "code",
      "source": [
        "# Print summary statistics\n",
        "cc_apps_description = cc_apps.describe()\n",
        "print(cc_apps_description)\n",
        "\n",
        "print('\\n')\n",
        "\n",
        "# Print DataFrame information\n",
        "cc_apps_info = cc_apps.info()\n",
        "print(cc_apps_info)\n",
        "\n",
        "print('\\n')\n",
        "\n",
        "# Inspect missing values in the dataset\n",
        "# ... YOUR CODE FOR TASK 2 ...\n",
        "cc_apps.tail(7)"
      ],
      "metadata": {
        "colab": {
          "base_uri": "https://localhost:8080/",
          "height": 949
        },
        "id": "-y4wy0XJXmbh",
        "outputId": "a8649a9e-3fd4-4a61-842f-fe2568518a69"
      },
      "execution_count": null,
      "outputs": [
        {
          "output_type": "stream",
          "name": "stdout",
          "text": [
            "               2           7          10             14\n",
            "count  690.000000  690.000000  690.00000     690.000000\n",
            "mean     4.758725    2.223406    2.40000    1017.385507\n",
            "std      4.978163    3.346513    4.86294    5210.102598\n",
            "min      0.000000    0.000000    0.00000       0.000000\n",
            "25%      1.000000    0.165000    0.00000       0.000000\n",
            "50%      2.750000    1.000000    0.00000       5.000000\n",
            "75%      7.207500    2.625000    3.00000     395.500000\n",
            "max     28.000000   28.500000   67.00000  100000.000000\n",
            "\n",
            "\n",
            "<class 'pandas.core.frame.DataFrame'>\n",
            "RangeIndex: 690 entries, 0 to 689\n",
            "Data columns (total 16 columns):\n",
            " #   Column  Non-Null Count  Dtype  \n",
            "---  ------  --------------  -----  \n",
            " 0   0       690 non-null    object \n",
            " 1   1       690 non-null    object \n",
            " 2   2       690 non-null    float64\n",
            " 3   3       690 non-null    object \n",
            " 4   4       690 non-null    object \n",
            " 5   5       690 non-null    object \n",
            " 6   6       690 non-null    object \n",
            " 7   7       690 non-null    float64\n",
            " 8   8       690 non-null    object \n",
            " 9   9       690 non-null    object \n",
            " 10  10      690 non-null    int64  \n",
            " 11  11      690 non-null    object \n",
            " 12  12      690 non-null    object \n",
            " 13  13      690 non-null    object \n",
            " 14  14      690 non-null    int64  \n",
            " 15  15      690 non-null    object \n",
            "dtypes: float64(2), int64(2), object(12)\n",
            "memory usage: 86.4+ KB\n",
            "None\n",
            "\n",
            "\n"
          ]
        },
        {
          "output_type": "execute_result",
          "data": {
            "text/plain": [
              "    0      1       2  3  4   5   6      7  8  9   10 11 12     13   14 15\n",
              "683  b  36.42   0.750  y  p   d   v  0.585  f  f   0  f  g  00240    3  -\n",
              "684  b  40.58   3.290  u  g   m   v  3.500  f  f   0  t  s  00400    0  -\n",
              "685  b  21.08  10.085  y  p   e   h  1.250  f  f   0  f  g  00260    0  -\n",
              "686  a  22.67   0.750  u  g   c   v  2.000  f  t   2  t  g  00200  394  -\n",
              "687  a  25.25  13.500  y  p  ff  ff  2.000  f  t   1  t  g  00200    1  -\n",
              "688  b  17.92   0.205  u  g  aa   v  0.040  f  f   0  f  g  00280  750  -\n",
              "689  b  35.00   3.375  u  g   c   h  8.290  f  f   0  t  g  00000    0  -"
            ],
            "text/html": [
              "\n",
              "  <div id=\"df-d133ad5e-7dff-4d6e-95ab-a4987c3e876a\">\n",
              "    <div class=\"colab-df-container\">\n",
              "      <div>\n",
              "<style scoped>\n",
              "    .dataframe tbody tr th:only-of-type {\n",
              "        vertical-align: middle;\n",
              "    }\n",
              "\n",
              "    .dataframe tbody tr th {\n",
              "        vertical-align: top;\n",
              "    }\n",
              "\n",
              "    .dataframe thead th {\n",
              "        text-align: right;\n",
              "    }\n",
              "</style>\n",
              "<table border=\"1\" class=\"dataframe\">\n",
              "  <thead>\n",
              "    <tr style=\"text-align: right;\">\n",
              "      <th></th>\n",
              "      <th>0</th>\n",
              "      <th>1</th>\n",
              "      <th>2</th>\n",
              "      <th>3</th>\n",
              "      <th>4</th>\n",
              "      <th>5</th>\n",
              "      <th>6</th>\n",
              "      <th>7</th>\n",
              "      <th>8</th>\n",
              "      <th>9</th>\n",
              "      <th>10</th>\n",
              "      <th>11</th>\n",
              "      <th>12</th>\n",
              "      <th>13</th>\n",
              "      <th>14</th>\n",
              "      <th>15</th>\n",
              "    </tr>\n",
              "  </thead>\n",
              "  <tbody>\n",
              "    <tr>\n",
              "      <th>683</th>\n",
              "      <td>b</td>\n",
              "      <td>36.42</td>\n",
              "      <td>0.750</td>\n",
              "      <td>y</td>\n",
              "      <td>p</td>\n",
              "      <td>d</td>\n",
              "      <td>v</td>\n",
              "      <td>0.585</td>\n",
              "      <td>f</td>\n",
              "      <td>f</td>\n",
              "      <td>0</td>\n",
              "      <td>f</td>\n",
              "      <td>g</td>\n",
              "      <td>00240</td>\n",
              "      <td>3</td>\n",
              "      <td>-</td>\n",
              "    </tr>\n",
              "    <tr>\n",
              "      <th>684</th>\n",
              "      <td>b</td>\n",
              "      <td>40.58</td>\n",
              "      <td>3.290</td>\n",
              "      <td>u</td>\n",
              "      <td>g</td>\n",
              "      <td>m</td>\n",
              "      <td>v</td>\n",
              "      <td>3.500</td>\n",
              "      <td>f</td>\n",
              "      <td>f</td>\n",
              "      <td>0</td>\n",
              "      <td>t</td>\n",
              "      <td>s</td>\n",
              "      <td>00400</td>\n",
              "      <td>0</td>\n",
              "      <td>-</td>\n",
              "    </tr>\n",
              "    <tr>\n",
              "      <th>685</th>\n",
              "      <td>b</td>\n",
              "      <td>21.08</td>\n",
              "      <td>10.085</td>\n",
              "      <td>y</td>\n",
              "      <td>p</td>\n",
              "      <td>e</td>\n",
              "      <td>h</td>\n",
              "      <td>1.250</td>\n",
              "      <td>f</td>\n",
              "      <td>f</td>\n",
              "      <td>0</td>\n",
              "      <td>f</td>\n",
              "      <td>g</td>\n",
              "      <td>00260</td>\n",
              "      <td>0</td>\n",
              "      <td>-</td>\n",
              "    </tr>\n",
              "    <tr>\n",
              "      <th>686</th>\n",
              "      <td>a</td>\n",
              "      <td>22.67</td>\n",
              "      <td>0.750</td>\n",
              "      <td>u</td>\n",
              "      <td>g</td>\n",
              "      <td>c</td>\n",
              "      <td>v</td>\n",
              "      <td>2.000</td>\n",
              "      <td>f</td>\n",
              "      <td>t</td>\n",
              "      <td>2</td>\n",
              "      <td>t</td>\n",
              "      <td>g</td>\n",
              "      <td>00200</td>\n",
              "      <td>394</td>\n",
              "      <td>-</td>\n",
              "    </tr>\n",
              "    <tr>\n",
              "      <th>687</th>\n",
              "      <td>a</td>\n",
              "      <td>25.25</td>\n",
              "      <td>13.500</td>\n",
              "      <td>y</td>\n",
              "      <td>p</td>\n",
              "      <td>ff</td>\n",
              "      <td>ff</td>\n",
              "      <td>2.000</td>\n",
              "      <td>f</td>\n",
              "      <td>t</td>\n",
              "      <td>1</td>\n",
              "      <td>t</td>\n",
              "      <td>g</td>\n",
              "      <td>00200</td>\n",
              "      <td>1</td>\n",
              "      <td>-</td>\n",
              "    </tr>\n",
              "    <tr>\n",
              "      <th>688</th>\n",
              "      <td>b</td>\n",
              "      <td>17.92</td>\n",
              "      <td>0.205</td>\n",
              "      <td>u</td>\n",
              "      <td>g</td>\n",
              "      <td>aa</td>\n",
              "      <td>v</td>\n",
              "      <td>0.040</td>\n",
              "      <td>f</td>\n",
              "      <td>f</td>\n",
              "      <td>0</td>\n",
              "      <td>f</td>\n",
              "      <td>g</td>\n",
              "      <td>00280</td>\n",
              "      <td>750</td>\n",
              "      <td>-</td>\n",
              "    </tr>\n",
              "    <tr>\n",
              "      <th>689</th>\n",
              "      <td>b</td>\n",
              "      <td>35.00</td>\n",
              "      <td>3.375</td>\n",
              "      <td>u</td>\n",
              "      <td>g</td>\n",
              "      <td>c</td>\n",
              "      <td>h</td>\n",
              "      <td>8.290</td>\n",
              "      <td>f</td>\n",
              "      <td>f</td>\n",
              "      <td>0</td>\n",
              "      <td>t</td>\n",
              "      <td>g</td>\n",
              "      <td>00000</td>\n",
              "      <td>0</td>\n",
              "      <td>-</td>\n",
              "    </tr>\n",
              "  </tbody>\n",
              "</table>\n",
              "</div>\n",
              "      <button class=\"colab-df-convert\" onclick=\"convertToInteractive('df-d133ad5e-7dff-4d6e-95ab-a4987c3e876a')\"\n",
              "              title=\"Convert this dataframe to an interactive table.\"\n",
              "              style=\"display:none;\">\n",
              "        \n",
              "  <svg xmlns=\"http://www.w3.org/2000/svg\" height=\"24px\"viewBox=\"0 0 24 24\"\n",
              "       width=\"24px\">\n",
              "    <path d=\"M0 0h24v24H0V0z\" fill=\"none\"/>\n",
              "    <path d=\"M18.56 5.44l.94 2.06.94-2.06 2.06-.94-2.06-.94-.94-2.06-.94 2.06-2.06.94zm-11 1L8.5 8.5l.94-2.06 2.06-.94-2.06-.94L8.5 2.5l-.94 2.06-2.06.94zm10 10l.94 2.06.94-2.06 2.06-.94-2.06-.94-.94-2.06-.94 2.06-2.06.94z\"/><path d=\"M17.41 7.96l-1.37-1.37c-.4-.4-.92-.59-1.43-.59-.52 0-1.04.2-1.43.59L10.3 9.45l-7.72 7.72c-.78.78-.78 2.05 0 2.83L4 21.41c.39.39.9.59 1.41.59.51 0 1.02-.2 1.41-.59l7.78-7.78 2.81-2.81c.8-.78.8-2.07 0-2.86zM5.41 20L4 18.59l7.72-7.72 1.47 1.35L5.41 20z\"/>\n",
              "  </svg>\n",
              "      </button>\n",
              "      \n",
              "  <style>\n",
              "    .colab-df-container {\n",
              "      display:flex;\n",
              "      flex-wrap:wrap;\n",
              "      gap: 12px;\n",
              "    }\n",
              "\n",
              "    .colab-df-convert {\n",
              "      background-color: #E8F0FE;\n",
              "      border: none;\n",
              "      border-radius: 50%;\n",
              "      cursor: pointer;\n",
              "      display: none;\n",
              "      fill: #1967D2;\n",
              "      height: 32px;\n",
              "      padding: 0 0 0 0;\n",
              "      width: 32px;\n",
              "    }\n",
              "\n",
              "    .colab-df-convert:hover {\n",
              "      background-color: #E2EBFA;\n",
              "      box-shadow: 0px 1px 2px rgba(60, 64, 67, 0.3), 0px 1px 3px 1px rgba(60, 64, 67, 0.15);\n",
              "      fill: #174EA6;\n",
              "    }\n",
              "\n",
              "    [theme=dark] .colab-df-convert {\n",
              "      background-color: #3B4455;\n",
              "      fill: #D2E3FC;\n",
              "    }\n",
              "\n",
              "    [theme=dark] .colab-df-convert:hover {\n",
              "      background-color: #434B5C;\n",
              "      box-shadow: 0px 1px 3px 1px rgba(0, 0, 0, 0.15);\n",
              "      filter: drop-shadow(0px 1px 2px rgba(0, 0, 0, 0.3));\n",
              "      fill: #FFFFFF;\n",
              "    }\n",
              "  </style>\n",
              "\n",
              "      <script>\n",
              "        const buttonEl =\n",
              "          document.querySelector('#df-d133ad5e-7dff-4d6e-95ab-a4987c3e876a button.colab-df-convert');\n",
              "        buttonEl.style.display =\n",
              "          google.colab.kernel.accessAllowed ? 'block' : 'none';\n",
              "\n",
              "        async function convertToInteractive(key) {\n",
              "          const element = document.querySelector('#df-d133ad5e-7dff-4d6e-95ab-a4987c3e876a');\n",
              "          const dataTable =\n",
              "            await google.colab.kernel.invokeFunction('convertToInteractive',\n",
              "                                                     [key], {});\n",
              "          if (!dataTable) return;\n",
              "\n",
              "          const docLinkHtml = 'Like what you see? Visit the ' +\n",
              "            '<a target=\"_blank\" href=https://colab.research.google.com/notebooks/data_table.ipynb>data table notebook</a>'\n",
              "            + ' to learn more about interactive tables.';\n",
              "          element.innerHTML = '';\n",
              "          dataTable['output_type'] = 'display_data';\n",
              "          await google.colab.output.renderOutput(dataTable, element);\n",
              "          const docLink = document.createElement('div');\n",
              "          docLink.innerHTML = docLinkHtml;\n",
              "          element.appendChild(docLink);\n",
              "        }\n",
              "      </script>\n",
              "    </div>\n",
              "  </div>\n",
              "  "
            ]
          },
          "metadata": {},
          "execution_count": 29
        }
      ]
    },
    {
      "cell_type": "code",
      "source": [
        "# Import train_test_split\n",
        "from sklearn.model_selection import train_test_split \n",
        "# Drop the features 11 and 13\n",
        "cc_apps = cc_apps.drop(cc_apps.iloc[:,[11,13]], axis=1)\n",
        "print(cc_apps)\n",
        "# Split into train and test sets\n",
        "cc_apps_train, cc_apps_test = train_test_split(cc_apps, test_size=0.33, random_state=42)"
      ],
      "metadata": {
        "colab": {
          "base_uri": "https://localhost:8080/"
        },
        "id": "8qde5dMVdRQj",
        "outputId": "ddf4d9ef-e33d-4937-8a78-64e182870108"
      },
      "execution_count": null,
      "outputs": [
        {
          "output_type": "stream",
          "name": "stdout",
          "text": [
            "    0      1       2  3  4   5   6     7  8  9   10 12   14 15\n",
            "0    b  30.83   0.000  u  g   w   v  1.25  t  t   1  g    0  +\n",
            "1    a  58.67   4.460  u  g   q   h  3.04  t  t   6  g  560  +\n",
            "2    a  24.50   0.500  u  g   q   h  1.50  t  f   0  g  824  +\n",
            "3    b  27.83   1.540  u  g   w   v  3.75  t  t   5  g    3  +\n",
            "4    b  20.17   5.625  u  g   w   v  1.71  t  f   0  s    0  +\n",
            "..  ..    ...     ... .. ..  ..  ..   ... .. ..  .. ..  ... ..\n",
            "685  b  21.08  10.085  y  p   e   h  1.25  f  f   0  g    0  -\n",
            "686  a  22.67   0.750  u  g   c   v  2.00  f  t   2  g  394  -\n",
            "687  a  25.25  13.500  y  p  ff  ff  2.00  f  t   1  g    1  -\n",
            "688  b  17.92   0.205  u  g  aa   v  0.04  f  f   0  g  750  -\n",
            "689  b  35.00   3.375  u  g   c   h  8.29  f  f   0  g    0  -\n",
            "\n",
            "[690 rows x 14 columns]\n"
          ]
        }
      ]
    },
    {
      "cell_type": "code",
      "source": [
        "\n",
        "# Replace the '?'s with NaN in the train and test sets\n",
        "cc_apps_train = cc_apps_train.replace('?',np.NaN)\n",
        "cc_apps_test = cc_apps_test.replace('?',np.NaN)"
      ],
      "metadata": {
        "id": "Ve2REv21dnU8"
      },
      "execution_count": null,
      "outputs": []
    },
    {
      "cell_type": "code",
      "source": [
        "# Impute the missing values with mean imputation\n",
        "cc_apps_train.fillna(cc_apps_train.mean(), inplace=True)\n",
        "cc_apps_test.fillna(cc_apps_train.mean(), inplace=True)\n",
        "\n",
        "# Count the number of NaNs in the datasets and print the counts to verify\n",
        "print(cc_apps_train.isnull().sum())\n",
        "print(cc_apps_test.isnull().sum())"
      ],
      "metadata": {
        "colab": {
          "base_uri": "https://localhost:8080/"
        },
        "id": "AvoTEIH7eoQ1",
        "outputId": "b3c5cc90-6acb-4466-cc66-3bfbc8d14225"
      },
      "execution_count": null,
      "outputs": [
        {
          "output_type": "stream",
          "name": "stdout",
          "text": [
            "0     8\n",
            "1     5\n",
            "2     0\n",
            "3     6\n",
            "4     6\n",
            "5     7\n",
            "6     7\n",
            "7     0\n",
            "8     0\n",
            "9     0\n",
            "10    0\n",
            "12    0\n",
            "14    0\n",
            "15    0\n",
            "dtype: int64\n",
            "0     4\n",
            "1     7\n",
            "2     0\n",
            "3     0\n",
            "4     0\n",
            "5     2\n",
            "6     2\n",
            "7     0\n",
            "8     0\n",
            "9     0\n",
            "10    0\n",
            "12    0\n",
            "14    0\n",
            "15    0\n",
            "dtype: int64\n"
          ]
        },
        {
          "output_type": "stream",
          "name": "stderr",
          "text": [
            "/usr/local/lib/python3.7/dist-packages/ipykernel_launcher.py:2: FutureWarning: Dropping of nuisance columns in DataFrame reductions (with 'numeric_only=None') is deprecated; in a future version this will raise TypeError.  Select only valid columns before calling the reduction.\n",
            "  \n",
            "/usr/local/lib/python3.7/dist-packages/ipykernel_launcher.py:3: FutureWarning: Dropping of nuisance columns in DataFrame reductions (with 'numeric_only=None') is deprecated; in a future version this will raise TypeError.  Select only valid columns before calling the reduction.\n",
            "  This is separate from the ipykernel package so we can avoid doing imports until\n"
          ]
        }
      ]
    },
    {
      "cell_type": "code",
      "source": [
        "# Iterate over each column of cc_apps_train\n",
        "for col in cc_apps_train.columns:\n",
        "    # Check if the column is of object type\n",
        "    if cc_apps_train[col].dtypes == 'object':\n",
        "        # Impute with the most frequent value\n",
        "        cc_apps_train = cc_apps_train.fillna(cc_apps_train[col].value_counts().index[0])\n",
        "        cc_apps_test = cc_apps_test.fillna(cc_apps_train[col].value_counts().index[0])\n",
        "\n",
        "# Count the number of NaNs in the dataset and print the counts to verify\n",
        "print(cc_apps_train.isnull().sum())\n",
        "print(cc_apps_test.isnull().sum())"
      ],
      "metadata": {
        "colab": {
          "base_uri": "https://localhost:8080/"
        },
        "id": "jdQosYXAhKAd",
        "outputId": "30218c72-6d82-4e75-c85d-fbe1b3fea0b8"
      },
      "execution_count": null,
      "outputs": [
        {
          "output_type": "stream",
          "name": "stdout",
          "text": [
            "0     0\n",
            "1     0\n",
            "2     0\n",
            "3     0\n",
            "4     0\n",
            "5     0\n",
            "6     0\n",
            "7     0\n",
            "8     0\n",
            "9     0\n",
            "10    0\n",
            "12    0\n",
            "14    0\n",
            "15    0\n",
            "dtype: int64\n",
            "0     0\n",
            "1     0\n",
            "2     0\n",
            "3     0\n",
            "4     0\n",
            "5     0\n",
            "6     0\n",
            "7     0\n",
            "8     0\n",
            "9     0\n",
            "10    0\n",
            "12    0\n",
            "14    0\n",
            "15    0\n",
            "dtype: int64\n"
          ]
        }
      ]
    },
    {
      "cell_type": "code",
      "source": [
        ""
      ],
      "metadata": {
        "id": "DvEMcUhNoj61"
      },
      "execution_count": null,
      "outputs": []
    },
    {
      "cell_type": "markdown",
      "source": [
        "## Preprocessing of the data"
      ],
      "metadata": {
        "id": "iE4t_fxQokos"
      }
    },
    {
      "cell_type": "code",
      "source": [
        "# Convert the categorical features in the train and test sets independently\n",
        "cc_apps_train = pd.get_dummies(cc_apps_train)\n",
        "cc_apps_test = pd.get_dummies(cc_apps_test)\n",
        "\n",
        "# Reindex the columns of the test set aligning with the train set\n",
        "cc_apps_test = cc_apps_test.reindex(columns= cc_apps_train.columns, fill_value=0)"
      ],
      "metadata": {
        "id": "Gv32Kg3Zjxuk"
      },
      "execution_count": null,
      "outputs": []
    },
    {
      "cell_type": "code",
      "source": [
        "# Import MinMaxScaler\n",
        "from sklearn.preprocessing import MinMaxScaler\n",
        "\n",
        "# Segregate features and labels into separate variables\n",
        "X_train, y_train = cc_apps_train.iloc[:, :-1].values, cc_apps_train.iloc[:, [-1]].values\n",
        "X_test, y_test = cc_apps_test.iloc[:, :-1].values, cc_apps_test.iloc[:, [-1]].values\n",
        "\n",
        "# Instantiate MinMaxScaler and use it to rescale X_train and X_test\n",
        "scaler = MinMaxScaler(feature_range=(0, 1))\n",
        "rescaledX_train = scaler.fit_transform(X_train)\n",
        "rescaledX_test = scaler.transform(X_test)"
      ],
      "metadata": {
        "id": "4-5vBLm1lqG8"
      },
      "execution_count": null,
      "outputs": []
    },
    {
      "cell_type": "markdown",
      "source": [
        "### Performing a Logistics Regression"
      ],
      "metadata": {
        "id": "OLpiab1zorTU"
      }
    },
    {
      "cell_type": "code",
      "source": [
        "# Import LogisticRegression\n",
        "from sklearn.linear_model import LogisticRegression\n",
        "\n",
        "# Instantiate a LogisticRegression classifier with default parameter values\n",
        "logreg = LogisticRegression()\n",
        "\n",
        "# Fit logreg to the train set\n",
        "logreg.fit(rescaledX_train, y_train)"
      ],
      "metadata": {
        "colab": {
          "base_uri": "https://localhost:8080/"
        },
        "id": "FsJIaWsInAdV",
        "outputId": "daae40a3-9f13-45cd-d5e7-c1507d9be3f4"
      },
      "execution_count": null,
      "outputs": [
        {
          "output_type": "stream",
          "name": "stderr",
          "text": [
            "/usr/local/lib/python3.7/dist-packages/sklearn/utils/validation.py:993: DataConversionWarning: A column-vector y was passed when a 1d array was expected. Please change the shape of y to (n_samples, ), for example using ravel().\n",
            "  y = column_or_1d(y, warn=True)\n"
          ]
        },
        {
          "output_type": "execute_result",
          "data": {
            "text/plain": [
              "LogisticRegression()"
            ]
          },
          "metadata": {},
          "execution_count": 39
        }
      ]
    },
    {
      "cell_type": "markdown",
      "source": [
        "### Prediction and Evaluating performance"
      ],
      "metadata": {
        "id": "q2D6Z-PvpmoS"
      }
    },
    {
      "cell_type": "code",
      "source": [
        "# Import confusion_matrix\n",
        "from sklearn.metrics import confusion_matrix\n",
        "\n",
        "# Use logreg to predict instances from the test set and store it\n",
        "y_pred = logreg.predict(rescaledX_test)\n",
        "\n",
        "# Get the accuracy score of logreg model and print it\n",
        "print(\"Accuracy of logistic regression classifier: \", logreg.score(rescaledX_test,y_test))\n",
        "\n",
        "# Print the confusion matrix of the logreg model\n",
        "confusion_matrix(y_test,y_pred)"
      ],
      "metadata": {
        "colab": {
          "base_uri": "https://localhost:8080/"
        },
        "id": "2a8fFD1Uo5FA",
        "outputId": "b9d51f92-0aa0-4c50-d6c7-435c19b24c02"
      },
      "execution_count": null,
      "outputs": [
        {
          "output_type": "stream",
          "name": "stdout",
          "text": [
            "Accuracy of logistic regression classifier:  1.0\n"
          ]
        },
        {
          "output_type": "execute_result",
          "data": {
            "text/plain": [
              "array([[103,   0],\n",
              "       [  0, 125]])"
            ]
          },
          "metadata": {},
          "execution_count": 40
        }
      ]
    },
    {
      "cell_type": "code",
      "source": [
        "# Import GridSearchCV\n",
        "from sklearn.model_selection import GridSearchCV\n",
        "\n",
        "# Define the grid of values for tol and max_iter\n",
        "tol = [0.01, 0.001, 0.0001]\n",
        "max_iter = [100, 150 ,200]\n",
        "\n",
        "# Create a dictionary where tol and max_iter are keys and the lists of their values are corresponding values\n",
        "param_grid = dict(tol=tol,max_iter= max_iter)"
      ],
      "metadata": {
        "id": "OASf4z8Hp0z2"
      },
      "execution_count": null,
      "outputs": []
    },
    {
      "cell_type": "markdown",
      "source": [
        "## Find best Prforming Model"
      ],
      "metadata": {
        "id": "qiBWccFSs23A"
      }
    },
    {
      "cell_type": "code",
      "source": [
        "# Instantiate GridSearchCV with the required parameters\n",
        "grid_model = GridSearchCV(estimator=logreg, param_grid=param_grid, cv=5)\n",
        "\n",
        "# Fit grid_model to the data\n",
        "grid_model_result = grid_model.fit(rescaledX_train, y_train)\n",
        "\n",
        "# Summarize results\n",
        "best_score, best_params = grid_model_result.best_score_, grid_model_result.best_params_\n",
        "print(\"Best: %f using %s\" % (best_score, best_params))\n",
        "\n",
        "# Extract the best model and evaluate it on the test set\n",
        "best_model = grid_model_result.best_estimator_\n",
        "print(\"Accuracy of logistic regression classifier: \", best_model.score(rescaledX_test,y_test))"
      ],
      "metadata": {
        "colab": {
          "base_uri": "https://localhost:8080/"
        },
        "id": "VK-oQJ9Cro-C",
        "outputId": "f101b0f3-14a6-4a72-c6ba-03959c4b47b4"
      },
      "execution_count": null,
      "outputs": [
        {
          "output_type": "stream",
          "name": "stderr",
          "text": [
            "/usr/local/lib/python3.7/dist-packages/sklearn/utils/validation.py:993: DataConversionWarning: A column-vector y was passed when a 1d array was expected. Please change the shape of y to (n_samples, ), for example using ravel().\n",
            "  y = column_or_1d(y, warn=True)\n",
            "/usr/local/lib/python3.7/dist-packages/sklearn/utils/validation.py:993: DataConversionWarning: A column-vector y was passed when a 1d array was expected. Please change the shape of y to (n_samples, ), for example using ravel().\n",
            "  y = column_or_1d(y, warn=True)\n",
            "/usr/local/lib/python3.7/dist-packages/sklearn/utils/validation.py:993: DataConversionWarning: A column-vector y was passed when a 1d array was expected. Please change the shape of y to (n_samples, ), for example using ravel().\n",
            "  y = column_or_1d(y, warn=True)\n",
            "/usr/local/lib/python3.7/dist-packages/sklearn/utils/validation.py:993: DataConversionWarning: A column-vector y was passed when a 1d array was expected. Please change the shape of y to (n_samples, ), for example using ravel().\n",
            "  y = column_or_1d(y, warn=True)\n",
            "/usr/local/lib/python3.7/dist-packages/sklearn/utils/validation.py:993: DataConversionWarning: A column-vector y was passed when a 1d array was expected. Please change the shape of y to (n_samples, ), for example using ravel().\n",
            "  y = column_or_1d(y, warn=True)\n",
            "/usr/local/lib/python3.7/dist-packages/sklearn/utils/validation.py:993: DataConversionWarning: A column-vector y was passed when a 1d array was expected. Please change the shape of y to (n_samples, ), for example using ravel().\n",
            "  y = column_or_1d(y, warn=True)\n",
            "/usr/local/lib/python3.7/dist-packages/sklearn/utils/validation.py:993: DataConversionWarning: A column-vector y was passed when a 1d array was expected. Please change the shape of y to (n_samples, ), for example using ravel().\n",
            "  y = column_or_1d(y, warn=True)\n",
            "/usr/local/lib/python3.7/dist-packages/sklearn/utils/validation.py:993: DataConversionWarning: A column-vector y was passed when a 1d array was expected. Please change the shape of y to (n_samples, ), for example using ravel().\n",
            "  y = column_or_1d(y, warn=True)\n",
            "/usr/local/lib/python3.7/dist-packages/sklearn/utils/validation.py:993: DataConversionWarning: A column-vector y was passed when a 1d array was expected. Please change the shape of y to (n_samples, ), for example using ravel().\n",
            "  y = column_or_1d(y, warn=True)\n",
            "/usr/local/lib/python3.7/dist-packages/sklearn/utils/validation.py:993: DataConversionWarning: A column-vector y was passed when a 1d array was expected. Please change the shape of y to (n_samples, ), for example using ravel().\n",
            "  y = column_or_1d(y, warn=True)\n",
            "/usr/local/lib/python3.7/dist-packages/sklearn/utils/validation.py:993: DataConversionWarning: A column-vector y was passed when a 1d array was expected. Please change the shape of y to (n_samples, ), for example using ravel().\n",
            "  y = column_or_1d(y, warn=True)\n",
            "/usr/local/lib/python3.7/dist-packages/sklearn/utils/validation.py:993: DataConversionWarning: A column-vector y was passed when a 1d array was expected. Please change the shape of y to (n_samples, ), for example using ravel().\n",
            "  y = column_or_1d(y, warn=True)\n",
            "/usr/local/lib/python3.7/dist-packages/sklearn/utils/validation.py:993: DataConversionWarning: A column-vector y was passed when a 1d array was expected. Please change the shape of y to (n_samples, ), for example using ravel().\n",
            "  y = column_or_1d(y, warn=True)\n",
            "/usr/local/lib/python3.7/dist-packages/sklearn/utils/validation.py:993: DataConversionWarning: A column-vector y was passed when a 1d array was expected. Please change the shape of y to (n_samples, ), for example using ravel().\n",
            "  y = column_or_1d(y, warn=True)\n",
            "/usr/local/lib/python3.7/dist-packages/sklearn/utils/validation.py:993: DataConversionWarning: A column-vector y was passed when a 1d array was expected. Please change the shape of y to (n_samples, ), for example using ravel().\n",
            "  y = column_or_1d(y, warn=True)\n",
            "/usr/local/lib/python3.7/dist-packages/sklearn/utils/validation.py:993: DataConversionWarning: A column-vector y was passed when a 1d array was expected. Please change the shape of y to (n_samples, ), for example using ravel().\n",
            "  y = column_or_1d(y, warn=True)\n",
            "/usr/local/lib/python3.7/dist-packages/sklearn/utils/validation.py:993: DataConversionWarning: A column-vector y was passed when a 1d array was expected. Please change the shape of y to (n_samples, ), for example using ravel().\n",
            "  y = column_or_1d(y, warn=True)\n",
            "/usr/local/lib/python3.7/dist-packages/sklearn/utils/validation.py:993: DataConversionWarning: A column-vector y was passed when a 1d array was expected. Please change the shape of y to (n_samples, ), for example using ravel().\n",
            "  y = column_or_1d(y, warn=True)\n",
            "/usr/local/lib/python3.7/dist-packages/sklearn/utils/validation.py:993: DataConversionWarning: A column-vector y was passed when a 1d array was expected. Please change the shape of y to (n_samples, ), for example using ravel().\n",
            "  y = column_or_1d(y, warn=True)\n",
            "/usr/local/lib/python3.7/dist-packages/sklearn/utils/validation.py:993: DataConversionWarning: A column-vector y was passed when a 1d array was expected. Please change the shape of y to (n_samples, ), for example using ravel().\n",
            "  y = column_or_1d(y, warn=True)\n",
            "/usr/local/lib/python3.7/dist-packages/sklearn/utils/validation.py:993: DataConversionWarning: A column-vector y was passed when a 1d array was expected. Please change the shape of y to (n_samples, ), for example using ravel().\n",
            "  y = column_or_1d(y, warn=True)\n",
            "/usr/local/lib/python3.7/dist-packages/sklearn/utils/validation.py:993: DataConversionWarning: A column-vector y was passed when a 1d array was expected. Please change the shape of y to (n_samples, ), for example using ravel().\n",
            "  y = column_or_1d(y, warn=True)\n",
            "/usr/local/lib/python3.7/dist-packages/sklearn/utils/validation.py:993: DataConversionWarning: A column-vector y was passed when a 1d array was expected. Please change the shape of y to (n_samples, ), for example using ravel().\n",
            "  y = column_or_1d(y, warn=True)\n",
            "/usr/local/lib/python3.7/dist-packages/sklearn/utils/validation.py:993: DataConversionWarning: A column-vector y was passed when a 1d array was expected. Please change the shape of y to (n_samples, ), for example using ravel().\n",
            "  y = column_or_1d(y, warn=True)\n",
            "/usr/local/lib/python3.7/dist-packages/sklearn/utils/validation.py:993: DataConversionWarning: A column-vector y was passed when a 1d array was expected. Please change the shape of y to (n_samples, ), for example using ravel().\n",
            "  y = column_or_1d(y, warn=True)\n",
            "/usr/local/lib/python3.7/dist-packages/sklearn/utils/validation.py:993: DataConversionWarning: A column-vector y was passed when a 1d array was expected. Please change the shape of y to (n_samples, ), for example using ravel().\n",
            "  y = column_or_1d(y, warn=True)\n",
            "/usr/local/lib/python3.7/dist-packages/sklearn/utils/validation.py:993: DataConversionWarning: A column-vector y was passed when a 1d array was expected. Please change the shape of y to (n_samples, ), for example using ravel().\n",
            "  y = column_or_1d(y, warn=True)\n",
            "/usr/local/lib/python3.7/dist-packages/sklearn/utils/validation.py:993: DataConversionWarning: A column-vector y was passed when a 1d array was expected. Please change the shape of y to (n_samples, ), for example using ravel().\n",
            "  y = column_or_1d(y, warn=True)\n",
            "/usr/local/lib/python3.7/dist-packages/sklearn/utils/validation.py:993: DataConversionWarning: A column-vector y was passed when a 1d array was expected. Please change the shape of y to (n_samples, ), for example using ravel().\n",
            "  y = column_or_1d(y, warn=True)\n",
            "/usr/local/lib/python3.7/dist-packages/sklearn/utils/validation.py:993: DataConversionWarning: A column-vector y was passed when a 1d array was expected. Please change the shape of y to (n_samples, ), for example using ravel().\n",
            "  y = column_or_1d(y, warn=True)\n",
            "/usr/local/lib/python3.7/dist-packages/sklearn/utils/validation.py:993: DataConversionWarning: A column-vector y was passed when a 1d array was expected. Please change the shape of y to (n_samples, ), for example using ravel().\n",
            "  y = column_or_1d(y, warn=True)\n",
            "/usr/local/lib/python3.7/dist-packages/sklearn/utils/validation.py:993: DataConversionWarning: A column-vector y was passed when a 1d array was expected. Please change the shape of y to (n_samples, ), for example using ravel().\n",
            "  y = column_or_1d(y, warn=True)\n",
            "/usr/local/lib/python3.7/dist-packages/sklearn/utils/validation.py:993: DataConversionWarning: A column-vector y was passed when a 1d array was expected. Please change the shape of y to (n_samples, ), for example using ravel().\n",
            "  y = column_or_1d(y, warn=True)\n",
            "/usr/local/lib/python3.7/dist-packages/sklearn/utils/validation.py:993: DataConversionWarning: A column-vector y was passed when a 1d array was expected. Please change the shape of y to (n_samples, ), for example using ravel().\n",
            "  y = column_or_1d(y, warn=True)\n",
            "/usr/local/lib/python3.7/dist-packages/sklearn/utils/validation.py:993: DataConversionWarning: A column-vector y was passed when a 1d array was expected. Please change the shape of y to (n_samples, ), for example using ravel().\n",
            "  y = column_or_1d(y, warn=True)\n",
            "/usr/local/lib/python3.7/dist-packages/sklearn/utils/validation.py:993: DataConversionWarning: A column-vector y was passed when a 1d array was expected. Please change the shape of y to (n_samples, ), for example using ravel().\n",
            "  y = column_or_1d(y, warn=True)\n",
            "/usr/local/lib/python3.7/dist-packages/sklearn/utils/validation.py:993: DataConversionWarning: A column-vector y was passed when a 1d array was expected. Please change the shape of y to (n_samples, ), for example using ravel().\n",
            "  y = column_or_1d(y, warn=True)\n",
            "/usr/local/lib/python3.7/dist-packages/sklearn/utils/validation.py:993: DataConversionWarning: A column-vector y was passed when a 1d array was expected. Please change the shape of y to (n_samples, ), for example using ravel().\n",
            "  y = column_or_1d(y, warn=True)\n",
            "/usr/local/lib/python3.7/dist-packages/sklearn/utils/validation.py:993: DataConversionWarning: A column-vector y was passed when a 1d array was expected. Please change the shape of y to (n_samples, ), for example using ravel().\n",
            "  y = column_or_1d(y, warn=True)\n",
            "/usr/local/lib/python3.7/dist-packages/sklearn/utils/validation.py:993: DataConversionWarning: A column-vector y was passed when a 1d array was expected. Please change the shape of y to (n_samples, ), for example using ravel().\n",
            "  y = column_or_1d(y, warn=True)\n",
            "/usr/local/lib/python3.7/dist-packages/sklearn/utils/validation.py:993: DataConversionWarning: A column-vector y was passed when a 1d array was expected. Please change the shape of y to (n_samples, ), for example using ravel().\n",
            "  y = column_or_1d(y, warn=True)\n",
            "/usr/local/lib/python3.7/dist-packages/sklearn/utils/validation.py:993: DataConversionWarning: A column-vector y was passed when a 1d array was expected. Please change the shape of y to (n_samples, ), for example using ravel().\n",
            "  y = column_or_1d(y, warn=True)\n",
            "/usr/local/lib/python3.7/dist-packages/sklearn/utils/validation.py:993: DataConversionWarning: A column-vector y was passed when a 1d array was expected. Please change the shape of y to (n_samples, ), for example using ravel().\n",
            "  y = column_or_1d(y, warn=True)\n",
            "/usr/local/lib/python3.7/dist-packages/sklearn/utils/validation.py:993: DataConversionWarning: A column-vector y was passed when a 1d array was expected. Please change the shape of y to (n_samples, ), for example using ravel().\n",
            "  y = column_or_1d(y, warn=True)\n"
          ]
        },
        {
          "output_type": "stream",
          "name": "stdout",
          "text": [
            "Best: 1.000000 using {'max_iter': 100, 'tol': 0.01}\n",
            "Accuracy of logistic regression classifier:  1.0\n"
          ]
        },
        {
          "output_type": "stream",
          "name": "stderr",
          "text": [
            "/usr/local/lib/python3.7/dist-packages/sklearn/utils/validation.py:993: DataConversionWarning: A column-vector y was passed when a 1d array was expected. Please change the shape of y to (n_samples, ), for example using ravel().\n",
            "  y = column_or_1d(y, warn=True)\n",
            "/usr/local/lib/python3.7/dist-packages/sklearn/utils/validation.py:993: DataConversionWarning: A column-vector y was passed when a 1d array was expected. Please change the shape of y to (n_samples, ), for example using ravel().\n",
            "  y = column_or_1d(y, warn=True)\n"
          ]
        }
      ]
    },
    {
      "cell_type": "markdown",
      "source": [
        ""
      ],
      "metadata": {
        "id": "fAI688eItMVz"
      }
    },
    {
      "cell_type": "code",
      "source": [
        ""
      ],
      "metadata": {
        "id": "qDWw3AVjtAhA"
      },
      "execution_count": null,
      "outputs": []
    }
  ]
}