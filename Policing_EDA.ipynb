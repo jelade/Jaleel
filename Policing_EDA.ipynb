{
  "nbformat": 4,
  "nbformat_minor": 0,
  "metadata": {
    "colab": {
      "name": "Policing_EDA.ipynb",
      "provenance": [],
      "collapsed_sections": [],
      "authorship_tag": "ABX9TyMpkvJ9740gHxXdqrWHoIK4",
      "include_colab_link": true
    },
    "kernelspec": {
      "name": "python3",
      "display_name": "Python 3"
    },
    "language_info": {
      "name": "python"
    }
  },
  "cells": [
    {
      "cell_type": "markdown",
      "metadata": {
        "id": "view-in-github",
        "colab_type": "text"
      },
      "source": [
        "<a href=\"https://colab.research.google.com/github/jelade/Jaleel/blob/master/Policing_EDA.ipynb\" target=\"_parent\"><img src=\"https://colab.research.google.com/assets/colab-badge.svg\" alt=\"Open In Colab\"/></a>"
      ]
    },
    {
      "cell_type": "code",
      "execution_count": null,
      "metadata": {
        "id": "6JNh144VTCSE"
      },
      "outputs": [],
      "source": [
        "import pandas as pd\n",
        "import numpy as np\n",
        "import matplotlib.pyplot as plt\n",
        "import seaborn as sns"
      ]
    },
    {
      "cell_type": "code",
      "source": [
        "police = pd.read_csv('/content/police.csv')\n",
        "weather = pd.read_csv('/content/weather.csv')"
      ],
      "metadata": {
        "id": "EOrwo4w3UsCT"
      },
      "execution_count": null,
      "outputs": []
    },
    {
      "cell_type": "code",
      "source": [
        "police.head(3)"
      ],
      "metadata": {
        "colab": {
          "base_uri": "https://localhost:8080/",
          "height": 260
        },
        "id": "gwLO6zVmU5lW",
        "outputId": "846a80b2-6950-4302-b2b7-85880d0984c1"
      },
      "execution_count": null,
      "outputs": [
        {
          "output_type": "execute_result",
          "data": {
            "text/plain": [
              "  state   stop_date stop_time  county_name driver_gender driver_race  \\\n",
              "0    RI  2005-01-04     12:55          NaN             M       White   \n",
              "1    RI  2005-01-23     23:15          NaN             M       White   \n",
              "2    RI  2005-02-17     04:15          NaN             M       White   \n",
              "\n",
              "                    violation_raw  violation  search_conducted search_type  \\\n",
              "0  Equipment/Inspection Violation  Equipment             False         NaN   \n",
              "1                        Speeding   Speeding             False         NaN   \n",
              "2                        Speeding   Speeding             False         NaN   \n",
              "\n",
              "  stop_outcome is_arrested stop_duration  drugs_related_stop district  \n",
              "0     Citation       False      0-15 Min               False  Zone X4  \n",
              "1     Citation       False      0-15 Min               False  Zone K3  \n",
              "2     Citation       False      0-15 Min               False  Zone X4  "
            ],
            "text/html": [
              "\n",
              "  <div id=\"df-668284b8-5264-4e17-8ae5-5cc749728c73\">\n",
              "    <div class=\"colab-df-container\">\n",
              "      <div>\n",
              "<style scoped>\n",
              "    .dataframe tbody tr th:only-of-type {\n",
              "        vertical-align: middle;\n",
              "    }\n",
              "\n",
              "    .dataframe tbody tr th {\n",
              "        vertical-align: top;\n",
              "    }\n",
              "\n",
              "    .dataframe thead th {\n",
              "        text-align: right;\n",
              "    }\n",
              "</style>\n",
              "<table border=\"1\" class=\"dataframe\">\n",
              "  <thead>\n",
              "    <tr style=\"text-align: right;\">\n",
              "      <th></th>\n",
              "      <th>state</th>\n",
              "      <th>stop_date</th>\n",
              "      <th>stop_time</th>\n",
              "      <th>county_name</th>\n",
              "      <th>driver_gender</th>\n",
              "      <th>driver_race</th>\n",
              "      <th>violation_raw</th>\n",
              "      <th>violation</th>\n",
              "      <th>search_conducted</th>\n",
              "      <th>search_type</th>\n",
              "      <th>stop_outcome</th>\n",
              "      <th>is_arrested</th>\n",
              "      <th>stop_duration</th>\n",
              "      <th>drugs_related_stop</th>\n",
              "      <th>district</th>\n",
              "    </tr>\n",
              "  </thead>\n",
              "  <tbody>\n",
              "    <tr>\n",
              "      <th>0</th>\n",
              "      <td>RI</td>\n",
              "      <td>2005-01-04</td>\n",
              "      <td>12:55</td>\n",
              "      <td>NaN</td>\n",
              "      <td>M</td>\n",
              "      <td>White</td>\n",
              "      <td>Equipment/Inspection Violation</td>\n",
              "      <td>Equipment</td>\n",
              "      <td>False</td>\n",
              "      <td>NaN</td>\n",
              "      <td>Citation</td>\n",
              "      <td>False</td>\n",
              "      <td>0-15 Min</td>\n",
              "      <td>False</td>\n",
              "      <td>Zone X4</td>\n",
              "    </tr>\n",
              "    <tr>\n",
              "      <th>1</th>\n",
              "      <td>RI</td>\n",
              "      <td>2005-01-23</td>\n",
              "      <td>23:15</td>\n",
              "      <td>NaN</td>\n",
              "      <td>M</td>\n",
              "      <td>White</td>\n",
              "      <td>Speeding</td>\n",
              "      <td>Speeding</td>\n",
              "      <td>False</td>\n",
              "      <td>NaN</td>\n",
              "      <td>Citation</td>\n",
              "      <td>False</td>\n",
              "      <td>0-15 Min</td>\n",
              "      <td>False</td>\n",
              "      <td>Zone K3</td>\n",
              "    </tr>\n",
              "    <tr>\n",
              "      <th>2</th>\n",
              "      <td>RI</td>\n",
              "      <td>2005-02-17</td>\n",
              "      <td>04:15</td>\n",
              "      <td>NaN</td>\n",
              "      <td>M</td>\n",
              "      <td>White</td>\n",
              "      <td>Speeding</td>\n",
              "      <td>Speeding</td>\n",
              "      <td>False</td>\n",
              "      <td>NaN</td>\n",
              "      <td>Citation</td>\n",
              "      <td>False</td>\n",
              "      <td>0-15 Min</td>\n",
              "      <td>False</td>\n",
              "      <td>Zone X4</td>\n",
              "    </tr>\n",
              "  </tbody>\n",
              "</table>\n",
              "</div>\n",
              "      <button class=\"colab-df-convert\" onclick=\"convertToInteractive('df-668284b8-5264-4e17-8ae5-5cc749728c73')\"\n",
              "              title=\"Convert this dataframe to an interactive table.\"\n",
              "              style=\"display:none;\">\n",
              "        \n",
              "  <svg xmlns=\"http://www.w3.org/2000/svg\" height=\"24px\"viewBox=\"0 0 24 24\"\n",
              "       width=\"24px\">\n",
              "    <path d=\"M0 0h24v24H0V0z\" fill=\"none\"/>\n",
              "    <path d=\"M18.56 5.44l.94 2.06.94-2.06 2.06-.94-2.06-.94-.94-2.06-.94 2.06-2.06.94zm-11 1L8.5 8.5l.94-2.06 2.06-.94-2.06-.94L8.5 2.5l-.94 2.06-2.06.94zm10 10l.94 2.06.94-2.06 2.06-.94-2.06-.94-.94-2.06-.94 2.06-2.06.94z\"/><path d=\"M17.41 7.96l-1.37-1.37c-.4-.4-.92-.59-1.43-.59-.52 0-1.04.2-1.43.59L10.3 9.45l-7.72 7.72c-.78.78-.78 2.05 0 2.83L4 21.41c.39.39.9.59 1.41.59.51 0 1.02-.2 1.41-.59l7.78-7.78 2.81-2.81c.8-.78.8-2.07 0-2.86zM5.41 20L4 18.59l7.72-7.72 1.47 1.35L5.41 20z\"/>\n",
              "  </svg>\n",
              "      </button>\n",
              "      \n",
              "  <style>\n",
              "    .colab-df-container {\n",
              "      display:flex;\n",
              "      flex-wrap:wrap;\n",
              "      gap: 12px;\n",
              "    }\n",
              "\n",
              "    .colab-df-convert {\n",
              "      background-color: #E8F0FE;\n",
              "      border: none;\n",
              "      border-radius: 50%;\n",
              "      cursor: pointer;\n",
              "      display: none;\n",
              "      fill: #1967D2;\n",
              "      height: 32px;\n",
              "      padding: 0 0 0 0;\n",
              "      width: 32px;\n",
              "    }\n",
              "\n",
              "    .colab-df-convert:hover {\n",
              "      background-color: #E2EBFA;\n",
              "      box-shadow: 0px 1px 2px rgba(60, 64, 67, 0.3), 0px 1px 3px 1px rgba(60, 64, 67, 0.15);\n",
              "      fill: #174EA6;\n",
              "    }\n",
              "\n",
              "    [theme=dark] .colab-df-convert {\n",
              "      background-color: #3B4455;\n",
              "      fill: #D2E3FC;\n",
              "    }\n",
              "\n",
              "    [theme=dark] .colab-df-convert:hover {\n",
              "      background-color: #434B5C;\n",
              "      box-shadow: 0px 1px 3px 1px rgba(0, 0, 0, 0.15);\n",
              "      filter: drop-shadow(0px 1px 2px rgba(0, 0, 0, 0.3));\n",
              "      fill: #FFFFFF;\n",
              "    }\n",
              "  </style>\n",
              "\n",
              "      <script>\n",
              "        const buttonEl =\n",
              "          document.querySelector('#df-668284b8-5264-4e17-8ae5-5cc749728c73 button.colab-df-convert');\n",
              "        buttonEl.style.display =\n",
              "          google.colab.kernel.accessAllowed ? 'block' : 'none';\n",
              "\n",
              "        async function convertToInteractive(key) {\n",
              "          const element = document.querySelector('#df-668284b8-5264-4e17-8ae5-5cc749728c73');\n",
              "          const dataTable =\n",
              "            await google.colab.kernel.invokeFunction('convertToInteractive',\n",
              "                                                     [key], {});\n",
              "          if (!dataTable) return;\n",
              "\n",
              "          const docLinkHtml = 'Like what you see? Visit the ' +\n",
              "            '<a target=\"_blank\" href=https://colab.research.google.com/notebooks/data_table.ipynb>data table notebook</a>'\n",
              "            + ' to learn more about interactive tables.';\n",
              "          element.innerHTML = '';\n",
              "          dataTable['output_type'] = 'display_data';\n",
              "          await google.colab.output.renderOutput(dataTable, element);\n",
              "          const docLink = document.createElement('div');\n",
              "          docLink.innerHTML = docLinkHtml;\n",
              "          element.appendChild(docLink);\n",
              "        }\n",
              "      </script>\n",
              "    </div>\n",
              "  </div>\n",
              "  "
            ]
          },
          "metadata": {},
          "execution_count": 32
        }
      ]
    },
    {
      "cell_type": "code",
      "source": [
        "weather.head(3)"
      ],
      "metadata": {
        "colab": {
          "base_uri": "https://localhost:8080/",
          "height": 289
        },
        "id": "ehurwkS5U83Z",
        "outputId": "72d2ad86-a502-4fa6-845c-564073729798"
      },
      "execution_count": null,
      "outputs": [
        {
          "output_type": "execute_result",
          "data": {
            "text/plain": [
              "       STATION        DATE  TAVG  TMIN  TMAX  AWND  WSF2  WT01  WT02  WT03  \\\n",
              "0  USW00014765  2005-01-01  44.0    35    53  8.95  25.1   1.0   NaN   NaN   \n",
              "1  USW00014765  2005-01-02  36.0    28    44  9.40  14.1   NaN   NaN   NaN   \n",
              "2  USW00014765  2005-01-03  49.0    44    53  6.93  17.0   1.0   NaN   NaN   \n",
              "\n",
              "   ...  WT11  WT13  WT14  WT15  WT16  WT17  WT18  WT19  WT21  WT22  \n",
              "0  ...   NaN   1.0   NaN   NaN   NaN   NaN   NaN   NaN   NaN   NaN  \n",
              "1  ...   NaN   NaN   NaN   NaN   1.0   NaN   1.0   NaN   NaN   NaN  \n",
              "2  ...   NaN   1.0   NaN   NaN   1.0   NaN   NaN   NaN   NaN   NaN  \n",
              "\n",
              "[3 rows x 27 columns]"
            ],
            "text/html": [
              "\n",
              "  <div id=\"df-165340b0-e4d6-4369-87f0-94835c0c4944\">\n",
              "    <div class=\"colab-df-container\">\n",
              "      <div>\n",
              "<style scoped>\n",
              "    .dataframe tbody tr th:only-of-type {\n",
              "        vertical-align: middle;\n",
              "    }\n",
              "\n",
              "    .dataframe tbody tr th {\n",
              "        vertical-align: top;\n",
              "    }\n",
              "\n",
              "    .dataframe thead th {\n",
              "        text-align: right;\n",
              "    }\n",
              "</style>\n",
              "<table border=\"1\" class=\"dataframe\">\n",
              "  <thead>\n",
              "    <tr style=\"text-align: right;\">\n",
              "      <th></th>\n",
              "      <th>STATION</th>\n",
              "      <th>DATE</th>\n",
              "      <th>TAVG</th>\n",
              "      <th>TMIN</th>\n",
              "      <th>TMAX</th>\n",
              "      <th>AWND</th>\n",
              "      <th>WSF2</th>\n",
              "      <th>WT01</th>\n",
              "      <th>WT02</th>\n",
              "      <th>WT03</th>\n",
              "      <th>...</th>\n",
              "      <th>WT11</th>\n",
              "      <th>WT13</th>\n",
              "      <th>WT14</th>\n",
              "      <th>WT15</th>\n",
              "      <th>WT16</th>\n",
              "      <th>WT17</th>\n",
              "      <th>WT18</th>\n",
              "      <th>WT19</th>\n",
              "      <th>WT21</th>\n",
              "      <th>WT22</th>\n",
              "    </tr>\n",
              "  </thead>\n",
              "  <tbody>\n",
              "    <tr>\n",
              "      <th>0</th>\n",
              "      <td>USW00014765</td>\n",
              "      <td>2005-01-01</td>\n",
              "      <td>44.0</td>\n",
              "      <td>35</td>\n",
              "      <td>53</td>\n",
              "      <td>8.95</td>\n",
              "      <td>25.1</td>\n",
              "      <td>1.0</td>\n",
              "      <td>NaN</td>\n",
              "      <td>NaN</td>\n",
              "      <td>...</td>\n",
              "      <td>NaN</td>\n",
              "      <td>1.0</td>\n",
              "      <td>NaN</td>\n",
              "      <td>NaN</td>\n",
              "      <td>NaN</td>\n",
              "      <td>NaN</td>\n",
              "      <td>NaN</td>\n",
              "      <td>NaN</td>\n",
              "      <td>NaN</td>\n",
              "      <td>NaN</td>\n",
              "    </tr>\n",
              "    <tr>\n",
              "      <th>1</th>\n",
              "      <td>USW00014765</td>\n",
              "      <td>2005-01-02</td>\n",
              "      <td>36.0</td>\n",
              "      <td>28</td>\n",
              "      <td>44</td>\n",
              "      <td>9.40</td>\n",
              "      <td>14.1</td>\n",
              "      <td>NaN</td>\n",
              "      <td>NaN</td>\n",
              "      <td>NaN</td>\n",
              "      <td>...</td>\n",
              "      <td>NaN</td>\n",
              "      <td>NaN</td>\n",
              "      <td>NaN</td>\n",
              "      <td>NaN</td>\n",
              "      <td>1.0</td>\n",
              "      <td>NaN</td>\n",
              "      <td>1.0</td>\n",
              "      <td>NaN</td>\n",
              "      <td>NaN</td>\n",
              "      <td>NaN</td>\n",
              "    </tr>\n",
              "    <tr>\n",
              "      <th>2</th>\n",
              "      <td>USW00014765</td>\n",
              "      <td>2005-01-03</td>\n",
              "      <td>49.0</td>\n",
              "      <td>44</td>\n",
              "      <td>53</td>\n",
              "      <td>6.93</td>\n",
              "      <td>17.0</td>\n",
              "      <td>1.0</td>\n",
              "      <td>NaN</td>\n",
              "      <td>NaN</td>\n",
              "      <td>...</td>\n",
              "      <td>NaN</td>\n",
              "      <td>1.0</td>\n",
              "      <td>NaN</td>\n",
              "      <td>NaN</td>\n",
              "      <td>1.0</td>\n",
              "      <td>NaN</td>\n",
              "      <td>NaN</td>\n",
              "      <td>NaN</td>\n",
              "      <td>NaN</td>\n",
              "      <td>NaN</td>\n",
              "    </tr>\n",
              "  </tbody>\n",
              "</table>\n",
              "<p>3 rows × 27 columns</p>\n",
              "</div>\n",
              "      <button class=\"colab-df-convert\" onclick=\"convertToInteractive('df-165340b0-e4d6-4369-87f0-94835c0c4944')\"\n",
              "              title=\"Convert this dataframe to an interactive table.\"\n",
              "              style=\"display:none;\">\n",
              "        \n",
              "  <svg xmlns=\"http://www.w3.org/2000/svg\" height=\"24px\"viewBox=\"0 0 24 24\"\n",
              "       width=\"24px\">\n",
              "    <path d=\"M0 0h24v24H0V0z\" fill=\"none\"/>\n",
              "    <path d=\"M18.56 5.44l.94 2.06.94-2.06 2.06-.94-2.06-.94-.94-2.06-.94 2.06-2.06.94zm-11 1L8.5 8.5l.94-2.06 2.06-.94-2.06-.94L8.5 2.5l-.94 2.06-2.06.94zm10 10l.94 2.06.94-2.06 2.06-.94-2.06-.94-.94-2.06-.94 2.06-2.06.94z\"/><path d=\"M17.41 7.96l-1.37-1.37c-.4-.4-.92-.59-1.43-.59-.52 0-1.04.2-1.43.59L10.3 9.45l-7.72 7.72c-.78.78-.78 2.05 0 2.83L4 21.41c.39.39.9.59 1.41.59.51 0 1.02-.2 1.41-.59l7.78-7.78 2.81-2.81c.8-.78.8-2.07 0-2.86zM5.41 20L4 18.59l7.72-7.72 1.47 1.35L5.41 20z\"/>\n",
              "  </svg>\n",
              "      </button>\n",
              "      \n",
              "  <style>\n",
              "    .colab-df-container {\n",
              "      display:flex;\n",
              "      flex-wrap:wrap;\n",
              "      gap: 12px;\n",
              "    }\n",
              "\n",
              "    .colab-df-convert {\n",
              "      background-color: #E8F0FE;\n",
              "      border: none;\n",
              "      border-radius: 50%;\n",
              "      cursor: pointer;\n",
              "      display: none;\n",
              "      fill: #1967D2;\n",
              "      height: 32px;\n",
              "      padding: 0 0 0 0;\n",
              "      width: 32px;\n",
              "    }\n",
              "\n",
              "    .colab-df-convert:hover {\n",
              "      background-color: #E2EBFA;\n",
              "      box-shadow: 0px 1px 2px rgba(60, 64, 67, 0.3), 0px 1px 3px 1px rgba(60, 64, 67, 0.15);\n",
              "      fill: #174EA6;\n",
              "    }\n",
              "\n",
              "    [theme=dark] .colab-df-convert {\n",
              "      background-color: #3B4455;\n",
              "      fill: #D2E3FC;\n",
              "    }\n",
              "\n",
              "    [theme=dark] .colab-df-convert:hover {\n",
              "      background-color: #434B5C;\n",
              "      box-shadow: 0px 1px 3px 1px rgba(0, 0, 0, 0.15);\n",
              "      filter: drop-shadow(0px 1px 2px rgba(0, 0, 0, 0.3));\n",
              "      fill: #FFFFFF;\n",
              "    }\n",
              "  </style>\n",
              "\n",
              "      <script>\n",
              "        const buttonEl =\n",
              "          document.querySelector('#df-165340b0-e4d6-4369-87f0-94835c0c4944 button.colab-df-convert');\n",
              "        buttonEl.style.display =\n",
              "          google.colab.kernel.accessAllowed ? 'block' : 'none';\n",
              "\n",
              "        async function convertToInteractive(key) {\n",
              "          const element = document.querySelector('#df-165340b0-e4d6-4369-87f0-94835c0c4944');\n",
              "          const dataTable =\n",
              "            await google.colab.kernel.invokeFunction('convertToInteractive',\n",
              "                                                     [key], {});\n",
              "          if (!dataTable) return;\n",
              "\n",
              "          const docLinkHtml = 'Like what you see? Visit the ' +\n",
              "            '<a target=\"_blank\" href=https://colab.research.google.com/notebooks/data_table.ipynb>data table notebook</a>'\n",
              "            + ' to learn more about interactive tables.';\n",
              "          element.innerHTML = '';\n",
              "          dataTable['output_type'] = 'display_data';\n",
              "          await google.colab.output.renderOutput(dataTable, element);\n",
              "          const docLink = document.createElement('div');\n",
              "          docLink.innerHTML = docLinkHtml;\n",
              "          element.appendChild(docLink);\n",
              "        }\n",
              "      </script>\n",
              "    </div>\n",
              "  </div>\n",
              "  "
            ]
          },
          "metadata": {},
          "execution_count": 33
        }
      ]
    },
    {
      "cell_type": "code",
      "source": [
        "police.columns"
      ],
      "metadata": {
        "colab": {
          "base_uri": "https://localhost:8080/"
        },
        "id": "oEeZz4i_VDLD",
        "outputId": "e1f4a3c5-8884-42d2-9436-72a086c5a6f3"
      },
      "execution_count": null,
      "outputs": [
        {
          "output_type": "execute_result",
          "data": {
            "text/plain": [
              "Index(['state', 'stop_date', 'stop_time', 'county_name', 'driver_gender',\n",
              "       'driver_race', 'violation_raw', 'violation', 'search_conducted',\n",
              "       'search_type', 'stop_outcome', 'is_arrested', 'stop_duration',\n",
              "       'drugs_related_stop', 'district'],\n",
              "      dtype='object')"
            ]
          },
          "metadata": {},
          "execution_count": 34
        }
      ]
    },
    {
      "cell_type": "code",
      "source": [
        "weather.columns"
      ],
      "metadata": {
        "colab": {
          "base_uri": "https://localhost:8080/"
        },
        "id": "i5SBq7y3VFH9",
        "outputId": "dfe1e8b9-5394-4e7a-c3ec-df7b0c2166d3"
      },
      "execution_count": null,
      "outputs": [
        {
          "output_type": "execute_result",
          "data": {
            "text/plain": [
              "Index(['STATION', 'DATE', 'TAVG', 'TMIN', 'TMAX', 'AWND', 'WSF2', 'WT01',\n",
              "       'WT02', 'WT03', 'WT04', 'WT05', 'WT06', 'WT07', 'WT08', 'WT09', 'WT10',\n",
              "       'WT11', 'WT13', 'WT14', 'WT15', 'WT16', 'WT17', 'WT18', 'WT19', 'WT21',\n",
              "       'WT22'],\n",
              "      dtype='object')"
            ]
          },
          "metadata": {},
          "execution_count": 35
        }
      ]
    },
    {
      "cell_type": "code",
      "source": [
        "police.isna().sum()"
      ],
      "metadata": {
        "colab": {
          "base_uri": "https://localhost:8080/"
        },
        "id": "kEq3FbpVVHLc",
        "outputId": "1d233c20-6cb3-4384-fbd8-879f09aa7306"
      },
      "execution_count": null,
      "outputs": [
        {
          "output_type": "execute_result",
          "data": {
            "text/plain": [
              "state                     0\n",
              "stop_date                 0\n",
              "stop_time                 0\n",
              "county_name           91741\n",
              "driver_gender          5205\n",
              "driver_race            5202\n",
              "violation_raw          5202\n",
              "violation              5202\n",
              "search_conducted          0\n",
              "search_type           88434\n",
              "stop_outcome           5202\n",
              "is_arrested            5202\n",
              "stop_duration          5202\n",
              "drugs_related_stop        0\n",
              "district                  0\n",
              "dtype: int64"
            ]
          },
          "metadata": {},
          "execution_count": 36
        }
      ]
    },
    {
      "cell_type": "code",
      "source": [
        "police.drop(['state','county_name'],axis='columns', inplace=True)"
      ],
      "metadata": {
        "id": "WjscOIm5Va7M"
      },
      "execution_count": null,
      "outputs": []
    },
    {
      "cell_type": "code",
      "source": [
        "# Drop all rows that are missing 'driver_gender'\n",
        "police.dropna(subset=['driver_gender'], inplace=True)\n",
        "\n",
        "# Count the number of missing values in each column (again)\n",
        "print(police.isna().sum())\n",
        "\n",
        "# Examine the shape of the DataFrame\n",
        "print(police.shape)"
      ],
      "metadata": {
        "colab": {
          "base_uri": "https://localhost:8080/"
        },
        "id": "SIWxMmOAWSUb",
        "outputId": "d508ba0e-2596-4af4-f2f0-ef7cb5be0b4b"
      },
      "execution_count": null,
      "outputs": [
        {
          "output_type": "stream",
          "name": "stdout",
          "text": [
            "stop_date                 0\n",
            "stop_time                 0\n",
            "driver_gender             0\n",
            "driver_race               0\n",
            "violation_raw             0\n",
            "violation                 0\n",
            "search_conducted          0\n",
            "search_type           83229\n",
            "stop_outcome              0\n",
            "is_arrested               0\n",
            "stop_duration             0\n",
            "drugs_related_stop        0\n",
            "district                  0\n",
            "dtype: int64\n",
            "(86536, 13)\n"
          ]
        }
      ]
    },
    {
      "cell_type": "code",
      "source": [
        "# Examine the head of the 'is_arrested' column\n",
        "print(police.is_arrested.dtype)\n",
        "\n",
        "# Change the data type of 'is_arrested' to 'bool'\n",
        "police['is_arrested'] = police.is_arrested.astype('bool')\n",
        "\n",
        "# Check the data type of 'is_arrested' \n",
        "print(police.is_arrested.dtype)"
      ],
      "metadata": {
        "colab": {
          "base_uri": "https://localhost:8080/"
        },
        "id": "PN5ISm4IWVF9",
        "outputId": "489a4a42-c3db-40c8-9008-9860331a27c7"
      },
      "execution_count": null,
      "outputs": [
        {
          "output_type": "stream",
          "name": "stdout",
          "text": [
            "object\n",
            "bool\n"
          ]
        }
      ]
    },
    {
      "cell_type": "code",
      "source": [
        "# Concatenate 'stop_date' and 'stop_time' (separated by a space)\n",
        "combined = police.stop_date.str.cat(police.stop_time,sep = ' ')\n",
        "\n",
        "# Convert 'combined' to datetime format\n",
        "police['stop_datetime'] = pd.to_datetime(combined)\n",
        "\n",
        "# Examine the data types of the DataFrame\n",
        "print(police.dtypes)"
      ],
      "metadata": {
        "colab": {
          "base_uri": "https://localhost:8080/"
        },
        "id": "DLh6JtuIZ2Fi",
        "outputId": "20d8c288-276f-489f-c957-b8d2618a0fb7"
      },
      "execution_count": null,
      "outputs": [
        {
          "output_type": "stream",
          "name": "stdout",
          "text": [
            "stop_date                     object\n",
            "stop_time                     object\n",
            "driver_gender                 object\n",
            "driver_race                   object\n",
            "violation_raw                 object\n",
            "violation                     object\n",
            "search_conducted                bool\n",
            "search_type                   object\n",
            "stop_outcome                  object\n",
            "is_arrested                     bool\n",
            "stop_duration                 object\n",
            "drugs_related_stop              bool\n",
            "district                      object\n",
            "stop_datetime         datetime64[ns]\n",
            "dtype: object\n"
          ]
        }
      ]
    },
    {
      "cell_type": "code",
      "source": [
        "# Set 'stop_datetime' as the index\n",
        "police.set_index('stop_datetime', inplace=True)\n",
        "\n",
        "# Examine the index\n",
        "print(police.index)\n",
        "\n",
        "# Examine the columns\n",
        "print(police.columns)"
      ],
      "metadata": {
        "colab": {
          "base_uri": "https://localhost:8080/"
        },
        "id": "_ZoA-wmHbyYG",
        "outputId": "93609b4c-8bf7-40ee-e070-540b6ce63ebf"
      },
      "execution_count": null,
      "outputs": [
        {
          "output_type": "stream",
          "name": "stdout",
          "text": [
            "DatetimeIndex(['2005-01-04 12:55:00', '2005-01-23 23:15:00',\n",
            "               '2005-02-17 04:15:00', '2005-02-20 17:15:00',\n",
            "               '2005-02-24 01:20:00', '2005-03-14 10:00:00',\n",
            "               '2005-03-29 21:55:00', '2005-04-04 21:25:00',\n",
            "               '2005-07-14 11:20:00', '2005-07-14 19:55:00',\n",
            "               ...\n",
            "               '2015-12-31 13:23:00', '2015-12-31 18:59:00',\n",
            "               '2015-12-31 19:13:00', '2015-12-31 20:20:00',\n",
            "               '2015-12-31 20:50:00', '2015-12-31 21:21:00',\n",
            "               '2015-12-31 21:59:00', '2015-12-31 22:04:00',\n",
            "               '2015-12-31 22:09:00', '2015-12-31 22:47:00'],\n",
            "              dtype='datetime64[ns]', name='stop_datetime', length=86536, freq=None)\n",
            "Index(['stop_date', 'stop_time', 'driver_gender', 'driver_race',\n",
            "       'violation_raw', 'violation', 'search_conducted', 'search_type',\n",
            "       'stop_outcome', 'is_arrested', 'stop_duration', 'drugs_related_stop',\n",
            "       'district'],\n",
            "      dtype='object')\n"
          ]
        }
      ]
    },
    {
      "cell_type": "code",
      "source": [
        "# Count the unique values in 'violation'\n",
        "print(police.violation.value_counts())\n",
        "\n",
        "# Express the counts as proportions\n",
        "print(police.violation.value_counts(normalize=True))"
      ],
      "metadata": {
        "colab": {
          "base_uri": "https://localhost:8080/"
        },
        "id": "d_QcBDdQb2hk",
        "outputId": "abfa2e5e-b73c-4547-a20d-2da44200719d"
      },
      "execution_count": null,
      "outputs": [
        {
          "output_type": "stream",
          "name": "stdout",
          "text": [
            "Speeding               48423\n",
            "Moving violation       16224\n",
            "Equipment              10921\n",
            "Other                   4409\n",
            "Registration/plates     3703\n",
            "Seat belt               2856\n",
            "Name: violation, dtype: int64\n",
            "Speeding               0.559571\n",
            "Moving violation       0.187483\n",
            "Equipment              0.126202\n",
            "Other                  0.050950\n",
            "Registration/plates    0.042791\n",
            "Seat belt              0.033004\n",
            "Name: violation, dtype: float64\n"
          ]
        }
      ]
    },
    {
      "cell_type": "code",
      "source": [
        "# Create a DataFrame of female drivers\n",
        "female = police[police.driver_gender=='F']\n",
        "\n",
        "# Create a DataFrame of male drivers\n",
        "male = police[police.driver_gender=='M']\n",
        "\n",
        "# Compute the violations by female drivers (as proportions)\n",
        "print(female.violation.value_counts(normalize = True))\n",
        "\n",
        "# Compute the violations by male drivers (as proportions)\n",
        "print(male.violation.value_counts(normalize = True))"
      ],
      "metadata": {
        "colab": {
          "base_uri": "https://localhost:8080/"
        },
        "id": "N3EQR-gLgpZy",
        "outputId": "76d5d504-9943-4847-eed6-48ec11af8d3f"
      },
      "execution_count": null,
      "outputs": [
        {
          "output_type": "stream",
          "name": "stdout",
          "text": [
            "Speeding               0.658114\n",
            "Moving violation       0.138218\n",
            "Equipment              0.105199\n",
            "Registration/plates    0.044418\n",
            "Other                  0.029738\n",
            "Seat belt              0.024312\n",
            "Name: violation, dtype: float64\n",
            "Speeding               0.522243\n",
            "Moving violation       0.206144\n",
            "Equipment              0.134158\n",
            "Other                  0.058985\n",
            "Registration/plates    0.042175\n",
            "Seat belt              0.036296\n",
            "Name: violation, dtype: float64\n"
          ]
        }
      ]
    },
    {
      "cell_type": "code",
      "source": [
        "# Create a DataFrame of female drivers stopped for speeding\n",
        "female_and_speeding = police[(police.driver_gender == 'F') & (police.violation == 'Speeding')]\n",
        "\n",
        "# Create a DataFrame of male drivers stopped for speeding\n",
        "male_and_speeding = police[(police.driver_gender == 'M') & (police.violation == 'Speeding')]\n",
        "\n",
        "# Compute the stop outcomes for female drivers (as proportions)\n",
        "print(female_and_speeding.stop_outcome.value_counts(normalize = True))\n",
        "\n",
        "# Compute the stop outcomes for male drivers (as proportions)\n",
        "print(male_and_speeding.stop_outcome.value_counts(normalize = True))"
      ],
      "metadata": {
        "colab": {
          "base_uri": "https://localhost:8080/"
        },
        "id": "P17l4Ku5iXc_",
        "outputId": "2426575a-b7ed-44fb-95cf-2c78f9e22356"
      },
      "execution_count": null,
      "outputs": [
        {
          "output_type": "stream",
          "name": "stdout",
          "text": [
            "Citation            0.952192\n",
            "Warning             0.040074\n",
            "Arrest Driver       0.005752\n",
            "N/D                 0.000959\n",
            "Arrest Passenger    0.000639\n",
            "No Action           0.000383\n",
            "Name: stop_outcome, dtype: float64\n",
            "Citation            0.944595\n",
            "Warning             0.036184\n",
            "Arrest Driver       0.015895\n",
            "Arrest Passenger    0.001281\n",
            "No Action           0.001068\n",
            "N/D                 0.000976\n",
            "Name: stop_outcome, dtype: float64\n"
          ]
        }
      ]
    },
    {
      "cell_type": "code",
      "source": [
        "# Check the data type of 'search_conducted'\n",
        "print(police.search_conducted.dtype)\n",
        "\n",
        "# Calculate the search rate by counting the values\n",
        "print(police.search_conducted.value_counts(normalize =True))\n",
        "\n",
        "# Calculate the search rate by taking the mean\n",
        "print(police.search_conducted.mean())"
      ],
      "metadata": {
        "colab": {
          "base_uri": "https://localhost:8080/"
        },
        "id": "H3Jwz4Egj26Y",
        "outputId": "6bb1213c-5eee-49d3-bc02-0ff9192a4750"
      },
      "execution_count": null,
      "outputs": [
        {
          "output_type": "stream",
          "name": "stdout",
          "text": [
            "0.0382153092354627\n"
          ]
        }
      ]
    },
    {
      "cell_type": "code",
      "source": [
        "# Calculate the search rate for both groups simultaneously\n",
        "print(police.groupby('driver_gender').search_conducted.mean())"
      ],
      "metadata": {
        "colab": {
          "base_uri": "https://localhost:8080/"
        },
        "id": "GtltO02wluM0",
        "outputId": "a6fb4938-79c1-43bb-95c8-59f71193da0f"
      },
      "execution_count": null,
      "outputs": [
        {
          "output_type": "stream",
          "name": "stdout",
          "text": [
            "driver_gender\n",
            "F    0.019181\n",
            "M    0.045426\n",
            "Name: search_conducted, dtype: float64\n"
          ]
        }
      ]
    },
    {
      "cell_type": "code",
      "source": [
        "# Calculate the search rate for each combination of gender and violation\n",
        "print(police.groupby(['driver_gender','violation']).search_conducted.mean())"
      ],
      "metadata": {
        "colab": {
          "base_uri": "https://localhost:8080/"
        },
        "id": "xek2hZ1xm6HF",
        "outputId": "a72f5aae-e69b-4352-fbae-380021ee8359"
      },
      "execution_count": null,
      "outputs": [
        {
          "output_type": "stream",
          "name": "stdout",
          "text": [
            "driver_gender  violation          \n",
            "F              Equipment              0.039984\n",
            "               Moving violation       0.039257\n",
            "               Other                  0.041018\n",
            "               Registration/plates    0.054924\n",
            "               Seat belt              0.017301\n",
            "               Speeding               0.008309\n",
            "M              Equipment              0.071496\n",
            "               Moving violation       0.061524\n",
            "               Other                  0.046191\n",
            "               Registration/plates    0.108802\n",
            "               Seat belt              0.035119\n",
            "               Speeding               0.027885\n",
            "Name: search_conducted, dtype: float64\n"
          ]
        }
      ]
    },
    {
      "cell_type": "code",
      "source": [
        "# Count the 'search_type' values\n",
        "print(police.search_type.value_counts())\n",
        "\n",
        "# Check if 'search_type' contains the string 'Protective Frisk'\n",
        "police['frisk'] = police.search_type.str.contains('Protective Frisk', na=False)\n",
        "\n",
        "# Check the data type of 'frisk'\n",
        "print(police.frisk.dtype)\n",
        "\n",
        "# Take the sum of 'frisk'\n",
        "print(police.frisk.sum())"
      ],
      "metadata": {
        "colab": {
          "base_uri": "https://localhost:8080/"
        },
        "id": "UJPNni6FnRiw",
        "outputId": "f3546781-da38-4088-d71c-bb876b9604e8"
      },
      "execution_count": null,
      "outputs": [
        {
          "output_type": "stream",
          "name": "stdout",
          "text": [
            "Incident to Arrest                                          1290\n",
            "Probable Cause                                               924\n",
            "Inventory                                                    219\n",
            "Reasonable Suspicion                                         214\n",
            "Protective Frisk                                             164\n",
            "Incident to Arrest,Inventory                                 123\n",
            "Incident to Arrest,Probable Cause                            100\n",
            "Probable Cause,Reasonable Suspicion                           54\n",
            "Incident to Arrest,Inventory,Probable Cause                   35\n",
            "Probable Cause,Protective Frisk                               35\n",
            "Incident to Arrest,Protective Frisk                           33\n",
            "Inventory,Probable Cause                                      25\n",
            "Protective Frisk,Reasonable Suspicion                         19\n",
            "Incident to Arrest,Inventory,Protective Frisk                 18\n",
            "Incident to Arrest,Probable Cause,Protective Frisk            13\n",
            "Inventory,Protective Frisk                                    12\n",
            "Incident to Arrest,Reasonable Suspicion                        8\n",
            "Probable Cause,Protective Frisk,Reasonable Suspicion           5\n",
            "Incident to Arrest,Probable Cause,Reasonable Suspicion         5\n",
            "Incident to Arrest,Inventory,Reasonable Suspicion              4\n",
            "Incident to Arrest,Protective Frisk,Reasonable Suspicion       2\n",
            "Inventory,Reasonable Suspicion                                 2\n",
            "Inventory,Protective Frisk,Reasonable Suspicion                1\n",
            "Inventory,Probable Cause,Reasonable Suspicion                  1\n",
            "Inventory,Probable Cause,Protective Frisk                      1\n",
            "Name: search_type, dtype: int64\n",
            "bool\n",
            "303\n"
          ]
        }
      ]
    },
    {
      "cell_type": "code",
      "source": [
        "# Create a DataFrame of stops in which a search was conducted\n",
        "searched = police[police.search_conducted == True]\n",
        "\n",
        "# Calculate the overall frisk rate by taking the mean of 'frisk'\n",
        "print(searched.frisk.mean())\n",
        "\n",
        "# Calculate the frisk rate for each gender\n",
        "print(searched.groupby('driver_gender').frisk.mean())"
      ],
      "metadata": {
        "colab": {
          "base_uri": "https://localhost:8080/"
        },
        "id": "RyQqQyICo-NQ",
        "outputId": "b2f423ec-4bf6-4b96-f178-e27fc2a1c8c5"
      },
      "execution_count": null,
      "outputs": [
        {
          "output_type": "stream",
          "name": "stdout",
          "text": [
            "0.09162382824312065\n",
            "driver_gender\n",
            "F    0.074561\n",
            "M    0.094353\n",
            "Name: frisk, dtype: float64\n"
          ]
        }
      ]
    },
    {
      "cell_type": "code",
      "source": [
        "# Calculate the overall arrest rate\n",
        "print(police.is_arrested.mean())\n",
        "\n",
        "# Calculate the hourly arrest rate\n",
        "print(police.groupby(police.index.hour).is_arrested.mean().sort_values(ascending=False))\n",
        "\n",
        "# Save the hourly arrest rate\n",
        "hourly_arrest_rate = police.groupby(police.index.hour).is_arrested.mean()"
      ],
      "metadata": {
        "colab": {
          "base_uri": "https://localhost:8080/"
        },
        "id": "LOMDCeXDqAmM",
        "outputId": "047145e1-890a-4454-d8f1-2faffeda3c5a"
      },
      "execution_count": null,
      "outputs": [
        {
          "output_type": "stream",
          "name": "stdout",
          "text": [
            "stop_datetime\n",
            "1     0.064932\n",
            "21    0.064541\n",
            "2     0.060798\n",
            "3     0.060549\n",
            "0     0.051431\n",
            "22    0.048666\n",
            "4     0.048000\n",
            "23    0.047592\n",
            "5     0.042781\n",
            "17    0.040619\n",
            "18    0.038204\n",
            "20    0.038107\n",
            "12    0.037399\n",
            "16    0.035281\n",
            "19    0.032245\n",
            "13    0.030776\n",
            "15    0.030679\n",
            "14    0.030605\n",
            "11    0.028897\n",
            "10    0.028213\n",
            "9     0.025206\n",
            "8     0.021854\n",
            "6     0.013813\n",
            "7     0.013032\n",
            "Name: is_arrested, dtype: float64\n"
          ]
        }
      ]
    },
    {
      "cell_type": "code",
      "source": [
        "# Create a line plot of 'hourly_arrest_rate'\n",
        "hourly_arrest_rate.plot()\n",
        "\n",
        "# Add the xlabel, ylabel, and title\n",
        "plt.xlabel('Hour')\n",
        "plt.ylabel('Arrest Rate')\n",
        "plt.title('Arrest Rate by Time of Day')\n",
        "\n",
        "# Display the plot\n",
        "plt.show()"
      ],
      "metadata": {
        "colab": {
          "base_uri": "https://localhost:8080/",
          "height": 295
        },
        "id": "RI-vGo15sUy9",
        "outputId": "b0ad145d-637d-4c80-f81e-08a87176ab97"
      },
      "execution_count": null,
      "outputs": [
        {
          "output_type": "display_data",
          "data": {
            "text/plain": [
              "<Figure size 432x288 with 1 Axes>"
            ],
            "image/png": "[encoded data removed]"
          },
          "metadata": {
            "needs_background": "light"
          }
        }
      ]
    },
    {
      "cell_type": "code",
      "source": [
        "# Calculate the annual rate of drug-related stops\n",
        "print(police.drugs_related_stop.resample('A').mean())\n",
        "\n",
        "# Save the annual rate of drug-related stops\n",
        "annual_drug_rate = police.drugs_related_stop.resample('A').mean()\n",
        "\n",
        "# Create a line plot of 'annual_drug_rate'\n",
        "annual_drug_rate.plot()\n",
        "\n",
        "# Display the plot\n",
        "plt.show()"
      ],
      "metadata": {
        "colab": {
          "base_uri": "https://localhost:8080/",
          "height": 506
        },
        "id": "Uh-2QfL4sXHY",
        "outputId": "404f717b-6090-4812-f314-cca71a36c2bd"
      },
      "execution_count": null,
      "outputs": [
        {
          "output_type": "stream",
          "name": "stdout",
          "text": [
            "stop_datetime\n",
            "2005-12-31    0.006501\n",
            "2006-12-31    0.007258\n",
            "2007-12-31    0.007970\n",
            "2008-12-31    0.007505\n",
            "2009-12-31    0.009889\n",
            "2010-12-31    0.010081\n",
            "2011-12-31    0.009731\n",
            "2012-12-31    0.009921\n",
            "2013-12-31    0.013094\n",
            "2014-12-31    0.013826\n",
            "2015-12-31    0.012266\n",
            "Freq: A-DEC, Name: drugs_related_stop, dtype: float64\n"
          ]
        },
        {
          "output_type": "display_data",
          "data": {
            "text/plain": [
              "<Figure size 432x288 with 1 Axes>"
            ],
            "image/png": "[encoded data removed]"
          },
          "metadata": {
            "needs_background": "light"
          }
        }
      ]
    },
    {
      "cell_type": "code",
      "source": [
        "# Calculate and save the annual search rate\n",
        "annual_search_rate = police.search_conducted.resample('A').mean()\n",
        "\n",
        "# Concatenate 'annual_drug_rate' and 'annual_search_rate'\n",
        "annual = pd.concat([annual_drug_rate ,annual_search_rate], axis='columns')\n",
        "\n",
        "# Create subplots from 'annual'\n",
        "annual.plot(subplots=True)\n",
        "\n",
        "# Display the subplots\n",
        "plt.show()"
      ],
      "metadata": {
        "colab": {
          "base_uri": "https://localhost:8080/",
          "height": 280
        },
        "id": "b9xkVZdXyRFD",
        "outputId": "13bdbb49-4ba4-4f60-9d79-d9746d5c6c1d"
      },
      "execution_count": null,
      "outputs": [
        {
          "output_type": "display_data",
          "data": {
            "text/plain": [
              "<Figure size 432x288 with 2 Axes>"
            ],
            "image/png": "[encoded data removed]"
          },
          "metadata": {
            "needs_background": "light"
          }
        }
      ]
    },
    {
      "cell_type": "code",
      "source": [
        "# Create a frequency table of districts and violations\n",
        "print(pd.crosstab(police.district,police.violation))\n",
        "\n",
        "# Save the frequency table as 'all_zones'\n",
        "all_zones = pd.crosstab(police.district,police.violation)\n",
        "\n",
        "# Select rows 'Zone K1' through 'Zone K3'\n",
        "print(all_zones.loc['Zone K1':'Zone K3'])\n",
        "\n",
        "# Save the smaller table as 'k_zones'\n",
        "k_zones = all_zones.loc['Zone K1':'Zone K3']"
      ],
      "metadata": {
        "colab": {
          "base_uri": "https://localhost:8080/"
        },
        "id": "8DkcSqgezc5S",
        "outputId": "8c43834a-7a8c-45bc-f6ae-6bfdd536d314"
      },
      "execution_count": null,
      "outputs": [
        {
          "output_type": "stream",
          "name": "stdout",
          "text": [
            "violation  Equipment  Moving violation  Other  Registration/plates  Seat belt  \\\n",
            "district                                                                        \n",
            "Zone K1          672              1254    290                  120          0   \n",
            "Zone K2         2061              2962    942                  768        481   \n",
            "Zone K3         2302              2898    705                  695        638   \n",
            "Zone X1          296               671    143                   38         74   \n",
            "Zone X3         2049              3086    769                  671        820   \n",
            "Zone X4         3541              5353   1560                 1411        843   \n",
            "\n",
            "violation  Speeding  \n",
            "district             \n",
            "Zone K1        5960  \n",
            "Zone K2       10448  \n",
            "Zone K3       12322  \n",
            "Zone X1        1119  \n",
            "Zone X3        8779  \n",
            "Zone X4        9795  \n",
            "violation  Equipment  Moving violation  Other  Registration/plates  Seat belt  \\\n",
            "district                                                                        \n",
            "Zone K1          672              1254    290                  120          0   \n",
            "Zone K2         2061              2962    942                  768        481   \n",
            "Zone K3         2302              2898    705                  695        638   \n",
            "\n",
            "violation  Speeding  \n",
            "district             \n",
            "Zone K1        5960  \n",
            "Zone K2       10448  \n",
            "Zone K3       12322  \n"
          ]
        }
      ]
    },
    {
      "cell_type": "code",
      "source": [
        "# Create a bar plot of 'k_zones'\n",
        "k_zones.plot(kind='bar')\n",
        "\n",
        "# Display the plot\n",
        "plt.show()"
      ],
      "metadata": {
        "colab": {
          "base_uri": "https://localhost:8080/",
          "height": 311
        },
        "id": "0hGcGbU23_wX",
        "outputId": "6a853555-32bf-41b0-d691-0a2cc108e95d"
      },
      "execution_count": null,
      "outputs": [
        {
          "output_type": "display_data",
          "data": {
            "text/plain": [
              "<Figure size 432x288 with 1 Axes>"
            ],
            "image/png": "[encoded data removed]"
          },
          "metadata": {
            "needs_background": "light"
          }
        }
      ]
    },
    {
      "cell_type": "code",
      "source": [
        "# Create a stacked bar plot of 'k_zones'\n",
        "k_zones.plot(kind = 'bar',stacked = True)\n",
        "\n",
        "# Display the plot\n",
        "plt.show()"
      ],
      "metadata": {
        "colab": {
          "base_uri": "https://localhost:8080/",
          "height": 311
        },
        "id": "OqMc1Ncq4kB2",
        "outputId": "7db542fb-4587-442e-dca0-c66317969627"
      },
      "execution_count": null,
      "outputs": [
        {
          "output_type": "display_data",
          "data": {
            "text/plain": [
              "<Figure size 432x288 with 1 Axes>"
            ],
            "image/png": "[encoded data removed]"
          },
          "metadata": {
            "needs_background": "light"
          }
        }
      ]
    },
    {
      "cell_type": "code",
      "source": [
        "# Print the unique values in 'stop_duration'\n",
        "print(police.stop_duration.unique())\n",
        "\n",
        "# Create a dictionary that maps strings to integers\n",
        "mapping = {'0-15 Min': 8,'16-30 Min':23, '30+ Min': 45}\n",
        "\n",
        "# Convert the 'stop_duration' strings to integers using the 'mapping'\n",
        "police['stop_minutes'] = police.stop_duration.map(mapping)\n",
        "\n",
        "# Print the unique values in 'stop_minutes'\n",
        "print(police.stop_minutes.unique())"
      ],
      "metadata": {
        "colab": {
          "base_uri": "https://localhost:8080/"
        },
        "id": "i6VneOPp5W4J",
        "outputId": "cff89f86-2150-406e-c8d3-de18895b29ad"
      },
      "execution_count": null,
      "outputs": [
        {
          "output_type": "stream",
          "name": "stdout",
          "text": [
            "['0-15 Min' '16-30 Min' '30+ Min']\n",
            "[ 8 23 45]\n"
          ]
        }
      ]
    },
    {
      "cell_type": "code",
      "source": [
        "# Calculate the mean 'stop_minutes' for each value in 'violation_raw'\n",
        "print(police.groupby('violation_raw').stop_minutes.mean())\n",
        "\n",
        "# Save the resulting Series as 'stop_length'\n",
        "stop_length = police.groupby('violation_raw').stop_minutes.mean()\n",
        "\n",
        "# Sort 'stop_length' by its values and create a horizontal bar plot\n",
        "stop_length.sort_values().plot(kind='barh')\n",
        "\n",
        "# Display the plot\n",
        "plt.show()"
      ],
      "metadata": {
        "colab": {
          "base_uri": "https://localhost:8080/",
          "height": 508
        },
        "id": "Q3QAqtLIArd4",
        "outputId": "18dd3da6-9dc4-4e33-f5a5-a4c38a626eff"
      },
      "execution_count": null,
      "outputs": [
        {
          "output_type": "stream",
          "name": "stdout",
          "text": [
            "violation_raw\n",
            "APB                                 17.967033\n",
            "Call for Service                    22.124371\n",
            "Equipment/Inspection Violation      11.445655\n",
            "Motorist Assist/Courtesy            17.741463\n",
            "Other Traffic Violation             13.844490\n",
            "Registration Violation              13.736970\n",
            "Seatbelt Violation                   9.662815\n",
            "Special Detail/Directed Patrol      15.123632\n",
            "Speeding                            10.581562\n",
            "Suspicious Person                   14.910714\n",
            "Violation of City/Town Ordinance    13.254144\n",
            "Warrant                             24.055556\n",
            "Name: stop_minutes, dtype: float64\n"
          ]
        },
        {
          "output_type": "display_data",
          "data": {
            "text/plain": [
              "<Figure size 432x288 with 1 Axes>"
            ],
            "image/png": "[encoded data removed]"
          },
          "metadata": {
            "needs_background": "light"
          }
        }
      ]
    },
    {
      "cell_type": "code",
      "source": [
        "# Read 'weather.csv' into a DataFrame named 'weather'\n",
        "weather = pd.read_csv('weather.csv')\n",
        "\n",
        "# Describe the temperature columns\n",
        "print(weather[['TMIN', 'TAVG', 'TMAX']].describe())\n",
        "\n",
        "# Create a box plot of the temperature columns\n",
        "weather[['TMIN', 'TAVG', 'TMAX']].plot(kind='box')\n",
        "plt.xlabel('Temperature')\n",
        "plt.title('Temperature Box-plot')\n",
        "# Display the plot\n",
        "plt.show()"
      ],
      "metadata": {
        "colab": {
          "base_uri": "https://localhost:8080/",
          "height": 506
        },
        "id": "9v5XHkdiB9nn",
        "outputId": "628fa6db-a6ed-4681-f4aa-f162219ea607"
      },
      "execution_count": null,
      "outputs": [
        {
          "output_type": "stream",
          "name": "stdout",
          "text": [
            "              TMIN         TAVG         TMAX\n",
            "count  4017.000000  1217.000000  4017.000000\n",
            "mean     43.484441    52.493016    61.268608\n",
            "std      17.020298    17.830714    18.199517\n",
            "min      -5.000000     6.000000    15.000000\n",
            "25%      30.000000    39.000000    47.000000\n",
            "50%      44.000000    54.000000    62.000000\n",
            "75%      58.000000    68.000000    77.000000\n",
            "max      77.000000    86.000000   102.000000\n"
          ]
        },
        {
          "output_type": "stream",
          "name": "stderr",
          "text": [
            "/usr/local/lib/python3.7/dist-packages/matplotlib/cbook/__init__.py:1376: VisibleDeprecationWarning: Creating an ndarray from ragged nested sequences (which is a list-or-tuple of lists-or-tuples-or ndarrays with different lengths or shapes) is deprecated. If you meant to do this, you must specify 'dtype=object' when creating the ndarray.\n",
            "  X = np.atleast_1d(X.T if isinstance(X, np.ndarray) else np.asarray(X))\n"
          ]
        },
        {
          "output_type": "display_data",
          "data": {
            "text/plain": [
              "<Figure size 432x288 with 1 Axes>"
            ],
            "image/png": "[encoded data removed]"
          },
          "metadata": {
            "needs_background": "light"
          }
        }
      ]
    },
    {
      "cell_type": "code",
      "source": [
        "# Create a 'TDIFF' column that represents temperature difference\n",
        "weather['TDIFF'] = weather.TMAX - weather.TMIN\n",
        "\n",
        "# Describe the 'TDIFF' column\n",
        "print(weather.TDIFF.describe())\n",
        "\n",
        "# Create a histogram with 20 bins to visualize 'TDIFF'\n",
        "weather.TDIFF.plot(kind = 'hist', bins = 20)\n",
        "\n",
        "# Display the plot\n",
        "plt.show()"
      ],
      "metadata": {
        "colab": {
          "base_uri": "https://localhost:8080/",
          "height": 421
        },
        "id": "lc5z74cEDNy5",
        "outputId": "a2975412-fd1c-472a-c75b-423b058921de"
      },
      "execution_count": null,
      "outputs": [
        {
          "output_type": "stream",
          "name": "stdout",
          "text": [
            "count    4017.000000\n",
            "mean       17.784167\n",
            "std         6.350720\n",
            "min         2.000000\n",
            "25%        14.000000\n",
            "50%        18.000000\n",
            "75%        22.000000\n",
            "max        43.000000\n",
            "Name: TDIFF, dtype: float64\n"
          ]
        },
        {
          "output_type": "display_data",
          "data": {
            "text/plain": [
              "<Figure size 432x288 with 1 Axes>"
            ],
            "image/png": "[encoded data removed]"
          },
          "metadata": {
            "needs_background": "light"
          }
        }
      ]
    },
    {
      "cell_type": "code",
      "source": [
        "# Copy 'WT01' through 'WT22' to a new DataFrame\n",
        "WT = weather.loc[:,'WT01':'WT22']\n",
        "\n",
        "# Calculate the sum of each row in 'WT'\n",
        "weather['bad_conditions'] = WT.sum(axis='columns')\n",
        "\n",
        "# Replace missing values in 'bad_conditions' with '0'\n",
        "weather['bad_conditions'] = weather.bad_conditions.fillna(0).astype('int')\n",
        "\n",
        "# Create a histogram to visualize 'bad_conditions'\n",
        "weather.bad_conditions.plot(kind='hist')\n",
        "\n",
        "# Display the plot\n",
        "plt.show()"
      ],
      "metadata": {
        "colab": {
          "base_uri": "https://localhost:8080/",
          "height": 265
        },
        "id": "gLq-VP_8EjMi",
        "outputId": "bf1f4f11-6eb9-4316-d054-32bd470d233b"
      },
      "execution_count": null,
      "outputs": [
        {
          "output_type": "display_data",
          "data": {
            "text/plain": [
              "<Figure size 432x288 with 1 Axes>"
            ],
            "image/png": "[encoded data removed]"
          },
          "metadata": {
            "needs_background": "light"
          }
        }
      ]
    },
    {
      "cell_type": "code",
      "source": [
        "# Count the unique values in 'bad_conditions' and sort the index\n",
        "print(weather.bad_conditions.value_counts().sort_index())\n",
        "\n",
        "# Create a dictionary that maps integers to strings\n",
        "mapping = {0:'good', 1:'bad', 2:'bad', 3:'bad', 4:'bad', 5:'worse',6:'worse',7:'worse',8:'worse',9:'worse'}\n",
        "\n",
        "# Convert the 'bad_conditions' integers to strings using the 'mapping'\n",
        "weather['rating'] = weather.bad_conditions.map(mapping)\n",
        "\n",
        "# Count the unique values in 'rating'\n",
        "print(weather.rating.value_counts())"
      ],
      "metadata": {
        "colab": {
          "base_uri": "https://localhost:8080/"
        },
        "id": "ldSWO8HJONxh",
        "outputId": "d01e49a3-518d-499a-fbd3-8560539c6cb3"
      },
      "execution_count": null,
      "outputs": [
        {
          "output_type": "stream",
          "name": "stdout",
          "text": [
            "0    1749\n",
            "1     613\n",
            "2     367\n",
            "3     380\n",
            "4     476\n",
            "5     282\n",
            "6     101\n",
            "7      41\n",
            "8       4\n",
            "9       4\n",
            "Name: bad_conditions, dtype: int64\n",
            "bad      1836\n",
            "good     1749\n",
            "worse     432\n",
            "Name: rating, dtype: int64\n"
          ]
        }
      ]
    },
    {
      "cell_type": "code",
      "source": [
        "# Specify the logical order of the weather ratings\n",
        "cats = pd.CategoricalDtype(['good', 'bad', 'worse'], ordered=True)\n",
        "\n",
        "# Change the data type of 'rating' to category\n",
        "weather['rating'] = weather.rating.astype(cats)\n",
        "\n",
        "# Examine the head of 'rating'\n",
        "print(weather.rating.head())"
      ],
      "metadata": {
        "colab": {
          "base_uri": "https://localhost:8080/"
        },
        "id": "1xO0wXTwPZF8",
        "outputId": "1606b49b-1d0c-49f6-86f5-315f58c7d138"
      },
      "execution_count": null,
      "outputs": [
        {
          "output_type": "stream",
          "name": "stdout",
          "text": [
            "0    bad\n",
            "1    bad\n",
            "2    bad\n",
            "3    bad\n",
            "4    bad\n",
            "Name: rating, dtype: category\n",
            "Categories (3, object): ['good' < 'bad' < 'worse']\n"
          ]
        }
      ]
    },
    {
      "cell_type": "code",
      "source": [
        "# Reset the index of 'ri'\n",
        "police.reset_index(inplace=True)\n",
        "\n",
        "# Examine the head of 'ri'\n",
        "print(police.head())\n",
        "\n",
        "# Create a DataFrame from the 'DATE' and 'rating' columns\n",
        "weather_rating = weather[['DATE','rating']]\n",
        "\n",
        "# Examine the head of 'weather_rating'\n",
        "print(weather_rating.head())"
      ],
      "metadata": {
        "colab": {
          "base_uri": "https://localhost:8080/"
        },
        "id": "Vx1lsb_dQuEN",
        "outputId": "c8dd722d-5890-4943-ecd5-cab97ee83e46"
      },
      "execution_count": null,
      "outputs": [
        {
          "output_type": "stream",
          "name": "stdout",
          "text": [
            "        stop_datetime   stop_date stop_time driver_gender driver_race  \\\n",
            "0 2005-01-04 12:55:00  2005-01-04     12:55             M       White   \n",
            "1 2005-01-23 23:15:00  2005-01-23     23:15             M       White   \n",
            "2 2005-02-17 04:15:00  2005-02-17     04:15             M       White   \n",
            "3 2005-02-20 17:15:00  2005-02-20     17:15             M       White   \n",
            "4 2005-02-24 01:20:00  2005-02-24     01:20             F       White   \n",
            "\n",
            "                    violation_raw  violation  search_conducted search_type  \\\n",
            "0  Equipment/Inspection Violation  Equipment             False         NaN   \n",
            "1                        Speeding   Speeding             False         NaN   \n",
            "2                        Speeding   Speeding             False         NaN   \n",
            "3                Call for Service      Other             False         NaN   \n",
            "4                        Speeding   Speeding             False         NaN   \n",
            "\n",
            "    stop_outcome  is_arrested stop_duration  drugs_related_stop district  \\\n",
            "0       Citation        False      0-15 Min               False  Zone X4   \n",
            "1       Citation        False      0-15 Min               False  Zone K3   \n",
            "2       Citation        False      0-15 Min               False  Zone X4   \n",
            "3  Arrest Driver         True     16-30 Min               False  Zone X1   \n",
            "4       Citation        False      0-15 Min               False  Zone X3   \n",
            "\n",
            "   frisk  stop_minutes  \n",
            "0  False             8  \n",
            "1  False             8  \n",
            "2  False             8  \n",
            "3  False            23  \n",
            "4  False             8  \n",
            "         DATE rating\n",
            "0  2005-01-01    bad\n",
            "1  2005-01-02    bad\n",
            "2  2005-01-03    bad\n",
            "3  2005-01-04    bad\n",
            "4  2005-01-05    bad\n"
          ]
        }
      ]
    },
    {
      "cell_type": "code",
      "source": [
        "# Examine the shape of 'ri'\n",
        "print(police.shape)\n",
        "\n",
        "# Merge 'ri' and 'weather_rating' using a left join\n",
        "police_weather = pd.merge(left=police, right=weather_rating, left_on='stop_date', right_on='DATE', how='left')\n",
        "\n",
        "# Examine the shape of 'ri_weather'\n",
        "print(police_weather.shape)\n",
        "\n",
        "# Set 'stop_datetime' as the index of 'ri_weather'\n",
        "police_weather.set_index('stop_datetime', inplace=True)"
      ],
      "metadata": {
        "colab": {
          "base_uri": "https://localhost:8080/"
        },
        "id": "I4lN-matVilm",
        "outputId": "de37b023-f8ab-4265-8dab-42d1c40668cd"
      },
      "execution_count": null,
      "outputs": [
        {
          "output_type": "stream",
          "name": "stdout",
          "text": [
            "(86536, 16)\n",
            "(86536, 18)\n"
          ]
        }
      ]
    },
    {
      "cell_type": "code",
      "source": [
        "# Calculate the arrest rate for each 'violation' and 'rating'\n",
        "print(police_weather.groupby(['violation','rating']).is_arrested.mean())"
      ],
      "metadata": {
        "colab": {
          "base_uri": "https://localhost:8080/"
        },
        "id": "FzBxG53kWRAC",
        "outputId": "886870df-9edc-4de0-fc48-a6d8ea338512"
      },
      "execution_count": null,
      "outputs": [
        {
          "output_type": "stream",
          "name": "stdout",
          "text": [
            "violation            rating\n",
            "Equipment            good      0.059007\n",
            "                     bad       0.066311\n",
            "                     worse     0.097357\n",
            "Moving violation     good      0.056227\n",
            "                     bad       0.058050\n",
            "                     worse     0.065860\n",
            "Other                good      0.076966\n",
            "                     bad       0.087443\n",
            "                     worse     0.062893\n",
            "Registration/plates  good      0.081574\n",
            "                     bad       0.098160\n",
            "                     worse     0.115625\n",
            "Seat belt            good      0.028587\n",
            "                     bad       0.022493\n",
            "                     worse     0.000000\n",
            "Speeding             good      0.013405\n",
            "                     bad       0.013314\n",
            "                     worse     0.016886\n",
            "Name: is_arrested, dtype: float64\n"
          ]
        }
      ]
    },
    {
      "cell_type": "code",
      "source": [
        "# Save the output of the groupby operation from the last exercise\n",
        "arrest_rate = police_weather.groupby(['violation', 'rating']).is_arrested.mean()\n",
        "\n",
        "# Print the 'arrest_rate' Series\n",
        "print(arrest_rate)\n",
        "\n",
        "# Print the arrest rate for moving violations in bad weather\n",
        "print(arrest_rate.loc['Moving violation','bad'])\n",
        "\n",
        "# Print the arrest rates for speeding violations in all three weather conditions\n",
        "print(arrest_rate.loc['Speeding'])"
      ],
      "metadata": {
        "colab": {
          "base_uri": "https://localhost:8080/"
        },
        "id": "8sc2Pr0DX4l0",
        "outputId": "b38af5e8-ae44-4394-ca44-2c4fee789892"
      },
      "execution_count": null,
      "outputs": [
        {
          "output_type": "stream",
          "name": "stdout",
          "text": [
            "violation            rating\n",
            "Equipment            good      0.059007\n",
            "                     bad       0.066311\n",
            "                     worse     0.097357\n",
            "Moving violation     good      0.056227\n",
            "                     bad       0.058050\n",
            "                     worse     0.065860\n",
            "Other                good      0.076966\n",
            "                     bad       0.087443\n",
            "                     worse     0.062893\n",
            "Registration/plates  good      0.081574\n",
            "                     bad       0.098160\n",
            "                     worse     0.115625\n",
            "Seat belt            good      0.028587\n",
            "                     bad       0.022493\n",
            "                     worse     0.000000\n",
            "Speeding             good      0.013405\n",
            "                     bad       0.013314\n",
            "                     worse     0.016886\n",
            "Name: is_arrested, dtype: float64\n",
            "0.05804964058049641\n",
            "rating\n",
            "good     0.013405\n",
            "bad      0.013314\n",
            "worse    0.016886\n",
            "Name: is_arrested, dtype: float64\n"
          ]
        }
      ]
    },
    {
      "cell_type": "code",
      "source": [
        "# Unstack the 'arrest_rate' Series into a DataFrame\n",
        "print(arrest_rate.unstack())\n",
        "\n",
        "# Create the same DataFrame using a pivot table\n",
        "print(police_weather.pivot_table(index='violation', columns='rating', values='is_arrested'))"
      ],
      "metadata": {
        "colab": {
          "base_uri": "https://localhost:8080/"
        },
        "id": "nC2UMnHSZGF_",
        "outputId": "9d15e00d-9c71-459a-a678-9e94ec09b062"
      },
      "execution_count": null,
      "outputs": [
        {
          "output_type": "stream",
          "name": "stdout",
          "text": [
            "rating                   good       bad     worse\n",
            "violation                                        \n",
            "Equipment            0.059007  0.066311  0.097357\n",
            "Moving violation     0.056227  0.058050  0.065860\n",
            "Other                0.076966  0.087443  0.062893\n",
            "Registration/plates  0.081574  0.098160  0.115625\n",
            "Seat belt            0.028587  0.022493  0.000000\n",
            "Speeding             0.013405  0.013314  0.016886\n",
            "rating                   good       bad     worse\n",
            "violation                                        \n",
            "Equipment            0.059007  0.066311  0.097357\n",
            "Moving violation     0.056227  0.058050  0.065860\n",
            "Other                0.076966  0.087443  0.062893\n",
            "Registration/plates  0.081574  0.098160  0.115625\n",
            "Seat belt            0.028587  0.022493  0.000000\n",
            "Speeding             0.013405  0.013314  0.016886\n"
          ]
        }
      ]
    },
    {
      "cell_type": "code",
      "source": [
        ""
      ],
      "metadata": {
        "id": "RrQ32ar5ZVPM"
      },
      "execution_count": null,
      "outputs": []
    }
  ]
}