{
  "cells": [
    {
      "cell_type": "markdown",
      "metadata": {
        "id": "view-in-github",
        "colab_type": "text"
      },
      "source": [
        "<a href=\"https://colab.research.google.com/github/jelade/Jaleel/blob/master/Group_work_MFP.ipynb\" target=\"_parent\"><img src=\"https://colab.research.google.com/assets/colab-badge.svg\" alt=\"Open In Colab\"/></a>"
      ]
    },
    {
      "cell_type": "code",
      "execution_count": null,
      "metadata": {
        "id": "34GnCQvz_2QM",
        "outputId": "75b75fa9-b4f2-4169-ffc4-0460309d626f",
        "colab": {
          "base_uri": "https://localhost:8080/"
        }
      },
      "outputs": [
        {
          "output_type": "stream",
          "name": "stderr",
          "text": [
            "/usr/local/lib/python3.7/dist-packages/statsmodels/tools/_testing.py:19: FutureWarning: pandas.util.testing is deprecated. Use the functions in the public API at pandas.testing instead.\n",
            "  import pandas.util.testing as tm\n"
          ]
        }
      ],
      "source": [
        "import numpy as np\n",
        "import pandas as pd\n",
        "import matplotlib.pyplot as plt\n",
        "import seaborn as sns\n",
        "import statsmodels.api as sm\n",
        "import scipy.stats \n",
        "from scipy.stats import shapiro\n",
        "import warnings\n",
        "warnings.filterwarnings('ignore')"
      ]
    },
    {
      "cell_type": "code",
      "execution_count": null,
      "metadata": {
        "scrolled": true,
        "id": "9vSxEc_U_2QZ",
        "outputId": "98601b5f-3b8f-4fe7-e30a-9c6f20899fbb"
      },
      "outputs": [
        {
          "data": {
            "text/html": [
              "<div>\n",
              "<style scoped>\n",
              "    .dataframe tbody tr th:only-of-type {\n",
              "        vertical-align: middle;\n",
              "    }\n",
              "\n",
              "    .dataframe tbody tr th {\n",
              "        vertical-align: top;\n",
              "    }\n",
              "\n",
              "    .dataframe thead th {\n",
              "        text-align: right;\n",
              "    }\n",
              "</style>\n",
              "<table border=\"1\" class=\"dataframe\">\n",
              "  <thead>\n",
              "    <tr style=\"text-align: right;\">\n",
              "      <th></th>\n",
              "      <th>High</th>\n",
              "      <th>Low</th>\n",
              "      <th>Open</th>\n",
              "      <th>Close</th>\n",
              "      <th>Volume</th>\n",
              "      <th>Adj Close</th>\n",
              "    </tr>\n",
              "  </thead>\n",
              "  <tbody>\n",
              "    <tr>\n",
              "      <th>0</th>\n",
              "      <td>43.075001</td>\n",
              "      <td>42.314999</td>\n",
              "      <td>42.540001</td>\n",
              "      <td>43.064999</td>\n",
              "      <td>102223600.0</td>\n",
              "      <td>41.380238</td>\n",
              "    </tr>\n",
              "    <tr>\n",
              "      <th>1</th>\n",
              "      <td>43.637501</td>\n",
              "      <td>42.990002</td>\n",
              "      <td>43.132500</td>\n",
              "      <td>43.057499</td>\n",
              "      <td>118071600.0</td>\n",
              "      <td>41.373032</td>\n",
              "    </tr>\n",
              "    <tr>\n",
              "      <th>2</th>\n",
              "      <td>43.367500</td>\n",
              "      <td>43.020000</td>\n",
              "      <td>43.134998</td>\n",
              "      <td>43.257500</td>\n",
              "      <td>89738400.0</td>\n",
              "      <td>41.565216</td>\n",
              "    </tr>\n",
              "    <tr>\n",
              "      <th>3</th>\n",
              "      <td>43.842499</td>\n",
              "      <td>43.262501</td>\n",
              "      <td>43.360001</td>\n",
              "      <td>43.750000</td>\n",
              "      <td>94640000.0</td>\n",
              "      <td>42.038452</td>\n",
              "    </tr>\n",
              "    <tr>\n",
              "      <th>4</th>\n",
              "      <td>43.902500</td>\n",
              "      <td>43.482498</td>\n",
              "      <td>43.587502</td>\n",
              "      <td>43.587502</td>\n",
              "      <td>82271200.0</td>\n",
              "      <td>41.882305</td>\n",
              "    </tr>\n",
              "    <tr>\n",
              "      <th>...</th>\n",
              "      <td>...</td>\n",
              "      <td>...</td>\n",
              "      <td>...</td>\n",
              "      <td>...</td>\n",
              "      <td>...</td>\n",
              "      <td>...</td>\n",
              "    </tr>\n",
              "    <tr>\n",
              "      <th>751</th>\n",
              "      <td>133.460007</td>\n",
              "      <td>131.100006</td>\n",
              "      <td>131.320007</td>\n",
              "      <td>131.970001</td>\n",
              "      <td>54930100.0</td>\n",
              "      <td>131.773087</td>\n",
              "    </tr>\n",
              "    <tr>\n",
              "      <th>752</th>\n",
              "      <td>137.339996</td>\n",
              "      <td>133.509995</td>\n",
              "      <td>133.990005</td>\n",
              "      <td>136.690002</td>\n",
              "      <td>124486200.0</td>\n",
              "      <td>136.486053</td>\n",
              "    </tr>\n",
              "    <tr>\n",
              "      <th>753</th>\n",
              "      <td>138.789993</td>\n",
              "      <td>134.339996</td>\n",
              "      <td>138.050003</td>\n",
              "      <td>134.869995</td>\n",
              "      <td>121047300.0</td>\n",
              "      <td>134.668762</td>\n",
              "    </tr>\n",
              "    <tr>\n",
              "      <th>754</th>\n",
              "      <td>135.990005</td>\n",
              "      <td>133.399994</td>\n",
              "      <td>135.580002</td>\n",
              "      <td>133.720001</td>\n",
              "      <td>96452100.0</td>\n",
              "      <td>133.520477</td>\n",
              "    </tr>\n",
              "    <tr>\n",
              "      <th>755</th>\n",
              "      <td>134.740005</td>\n",
              "      <td>131.720001</td>\n",
              "      <td>134.080002</td>\n",
              "      <td>132.690002</td>\n",
              "      <td>99116600.0</td>\n",
              "      <td>132.492020</td>\n",
              "    </tr>\n",
              "  </tbody>\n",
              "</table>\n",
              "<p>756 rows × 6 columns</p>\n",
              "</div>"
            ],
            "text/plain": [
              "           High         Low        Open       Close       Volume   Adj Close\n",
              "0     43.075001   42.314999   42.540001   43.064999  102223600.0   41.380238\n",
              "1     43.637501   42.990002   43.132500   43.057499  118071600.0   41.373032\n",
              "2     43.367500   43.020000   43.134998   43.257500   89738400.0   41.565216\n",
              "3     43.842499   43.262501   43.360001   43.750000   94640000.0   42.038452\n",
              "4     43.902500   43.482498   43.587502   43.587502   82271200.0   41.882305\n",
              "..          ...         ...         ...         ...          ...         ...\n",
              "751  133.460007  131.100006  131.320007  131.970001   54930100.0  131.773087\n",
              "752  137.339996  133.509995  133.990005  136.690002  124486200.0  136.486053\n",
              "753  138.789993  134.339996  138.050003  134.869995  121047300.0  134.668762\n",
              "754  135.990005  133.399994  135.580002  133.720001   96452100.0  133.520477\n",
              "755  134.740005  131.720001  134.080002  132.690002   99116600.0  132.492020\n",
              "\n",
              "[756 rows x 6 columns]"
            ]
          },
          "execution_count": 2,
          "metadata": {},
          "output_type": "execute_result"
        }
      ],
      "source": [
        "data = pd.read_csv('/home/diouma/Documents/Mathematical Finance with Python/AAPL.csv')\n",
        "data"
      ]
    },
    {
      "cell_type": "code",
      "execution_count": null,
      "metadata": {
        "id": "PmybwxGc_2Qi",
        "outputId": "619adeec-4387-4070-9b05-b3027f0815ef"
      },
      "outputs": [
        {
          "data": {
            "text/plain": [
              "(756, 6)"
            ]
          },
          "execution_count": 3,
          "metadata": {},
          "output_type": "execute_result"
        }
      ],
      "source": [
        "data.shape"
      ]
    },
    {
      "cell_type": "code",
      "execution_count": null,
      "metadata": {
        "id": "EcoylxFt_2Qq",
        "outputId": "75a3416a-b1ad-4138-a638-3f5cf93e31de"
      },
      "outputs": [
        {
          "data": {
            "text/html": [
              "<div>\n",
              "<style scoped>\n",
              "    .dataframe tbody tr th:only-of-type {\n",
              "        vertical-align: middle;\n",
              "    }\n",
              "\n",
              "    .dataframe tbody tr th {\n",
              "        vertical-align: top;\n",
              "    }\n",
              "\n",
              "    .dataframe thead th {\n",
              "        text-align: right;\n",
              "    }\n",
              "</style>\n",
              "<table border=\"1\" class=\"dataframe\">\n",
              "  <thead>\n",
              "    <tr style=\"text-align: right;\">\n",
              "      <th></th>\n",
              "      <th>High</th>\n",
              "      <th>Low</th>\n",
              "      <th>Open</th>\n",
              "      <th>Close</th>\n",
              "      <th>Volume</th>\n",
              "      <th>Adj Close</th>\n",
              "    </tr>\n",
              "  </thead>\n",
              "  <tbody>\n",
              "    <tr>\n",
              "      <th>count</th>\n",
              "      <td>756.000000</td>\n",
              "      <td>756.000000</td>\n",
              "      <td>756.000000</td>\n",
              "      <td>756.000000</td>\n",
              "      <td>7.560000e+02</td>\n",
              "      <td>756.000000</td>\n",
              "    </tr>\n",
              "    <tr>\n",
              "      <th>mean</th>\n",
              "      <td>65.687440</td>\n",
              "      <td>64.154517</td>\n",
              "      <td>64.901078</td>\n",
              "      <td>64.955076</td>\n",
              "      <td>1.352900e+08</td>\n",
              "      <td>64.039674</td>\n",
              "    </tr>\n",
              "    <tr>\n",
              "      <th>std</th>\n",
              "      <td>26.140361</td>\n",
              "      <td>25.265343</td>\n",
              "      <td>25.750101</td>\n",
              "      <td>25.717217</td>\n",
              "      <td>6.107473e+07</td>\n",
              "      <td>26.054833</td>\n",
              "    </tr>\n",
              "    <tr>\n",
              "      <th>min</th>\n",
              "      <td>36.430000</td>\n",
              "      <td>35.500000</td>\n",
              "      <td>35.994999</td>\n",
              "      <td>35.547501</td>\n",
              "      <td>4.544800e+07</td>\n",
              "      <td>34.669640</td>\n",
              "    </tr>\n",
              "    <tr>\n",
              "      <th>25%</th>\n",
              "      <td>46.900624</td>\n",
              "      <td>46.174999</td>\n",
              "      <td>46.526875</td>\n",
              "      <td>46.525624</td>\n",
              "      <td>9.311270e+07</td>\n",
              "      <td>45.182574</td>\n",
              "    </tr>\n",
              "    <tr>\n",
              "      <th>50%</th>\n",
              "      <td>54.834999</td>\n",
              "      <td>53.375000</td>\n",
              "      <td>54.127501</td>\n",
              "      <td>53.938751</td>\n",
              "      <td>1.208860e+08</td>\n",
              "      <td>52.563511</td>\n",
              "    </tr>\n",
              "    <tr>\n",
              "      <th>75%</th>\n",
              "      <td>78.218752</td>\n",
              "      <td>76.302502</td>\n",
              "      <td>77.147501</td>\n",
              "      <td>77.390627</td>\n",
              "      <td>1.613882e+08</td>\n",
              "      <td>76.673529</td>\n",
              "    </tr>\n",
              "    <tr>\n",
              "      <th>max</th>\n",
              "      <td>138.789993</td>\n",
              "      <td>134.339996</td>\n",
              "      <td>138.050003</td>\n",
              "      <td>136.690002</td>\n",
              "      <td>4.268848e+08</td>\n",
              "      <td>136.486053</td>\n",
              "    </tr>\n",
              "  </tbody>\n",
              "</table>\n",
              "</div>"
            ],
            "text/plain": [
              "             High         Low        Open       Close        Volume  \\\n",
              "count  756.000000  756.000000  756.000000  756.000000  7.560000e+02   \n",
              "mean    65.687440   64.154517   64.901078   64.955076  1.352900e+08   \n",
              "std     26.140361   25.265343   25.750101   25.717217  6.107473e+07   \n",
              "min     36.430000   35.500000   35.994999   35.547501  4.544800e+07   \n",
              "25%     46.900624   46.174999   46.526875   46.525624  9.311270e+07   \n",
              "50%     54.834999   53.375000   54.127501   53.938751  1.208860e+08   \n",
              "75%     78.218752   76.302502   77.147501   77.390627  1.613882e+08   \n",
              "max    138.789993  134.339996  138.050003  136.690002  4.268848e+08   \n",
              "\n",
              "        Adj Close  \n",
              "count  756.000000  \n",
              "mean    64.039674  \n",
              "std     26.054833  \n",
              "min     34.669640  \n",
              "25%     45.182574  \n",
              "50%     52.563511  \n",
              "75%     76.673529  \n",
              "max    136.486053  "
            ]
          },
          "execution_count": 4,
          "metadata": {},
          "output_type": "execute_result"
        }
      ],
      "source": [
        "data.describe()"
      ]
    },
    {
      "cell_type": "code",
      "execution_count": null,
      "metadata": {
        "id": "MV28cciy_2Qu",
        "outputId": "68d25c5f-19b5-4b68-a846-ff1f6668de8d"
      },
      "outputs": [
        {
          "data": {
            "image/png": "[encoded data removed]",
            "text/plain": [
              "<Figure size 720x576 with 1 Axes>"
            ]
          },
          "metadata": {
            "needs_background": "light"
          },
          "output_type": "display_data"
        }
      ],
      "source": [
        "plt.figure(figsize=(10,8))\n",
        "data[\"Close\"].plot()\n",
        "plt.xlabel(\"Date\")\n",
        "plt.ylabel(\"Close Price\")\n",
        "plt.title(\"Apple price data\")\n",
        "plt.show()"
      ]
    },
    {
      "cell_type": "code",
      "execution_count": null,
      "metadata": {
        "id": "9XTZM7G2_2Qz",
        "outputId": "4f5f833b-6fd7-4d83-fb11-15644f98e897"
      },
      "outputs": [
        {
          "data": {
            "text/plain": [
              "High         0\n",
              "Low          0\n",
              "Open         0\n",
              "Close        0\n",
              "Volume       0\n",
              "Adj Close    0\n",
              "dtype: int64"
            ]
          },
          "execution_count": 6,
          "metadata": {},
          "output_type": "execute_result"
        }
      ],
      "source": [
        "data.isnull().sum()"
      ]
    },
    {
      "cell_type": "markdown",
      "metadata": {
        "id": "2SkRpPD0_2Q5"
      },
      "source": [
        "### 1) Let's compute the daily log-returns of the asset, defined to be $r_i=\\log\\left(S_{i+1}/S_i\\right)$ where $S_i$ is the closing price of the asset on the $i^{th}$ day."
      ]
    },
    {
      "cell_type": "code",
      "execution_count": null,
      "metadata": {
        "scrolled": true,
        "id": "p5Ob04sd_2RD",
        "outputId": "35153cb2-4f26-43ca-9f47-4c65445ca970"
      },
      "outputs": [
        {
          "name": "stdout",
          "output_type": "stream",
          "text": [
            "[-0.00017416343129299762, 0.004634214772755386, 0.01132099110982105, -0.003721165794595393, -0.00011474287041224705, -0.00022952524615844756, 0.005664148310559515, 0.01027336891843143, -0.005095085182133711, 0.01638137108627444, 0.0008928921401781262, -0.004472711192521281, -0.008214791519307336, 0.0002259252460815553, -0.016056782422488546, -0.018012247286530253, 0.0023349138048535055, -0.020915646126741017, -0.005911732917225749, 0.002751146851711774, 0.0020882804190405645, -0.04435964757246036, -0.025301797292657732, 0.04094208018655196, -0.021639593063639776, -0.02790228084538627, 0.008088436544735648, 0.0394887283143338, 0.009967913805295886, 0.018269471132480272, 0.0330269197613298, -0.003242506577551034, -0.0033692757231914747, -0.004549166534010014, 0.00832436419305261, 0.017241806434505954, 0.019579157944110165, -0.0032460395082993215, -0.0015147083012800758, -0.01767147911693719, 0.006890529758635103, 0.0034558037173992354, -0.0008487321392243571, -0.009326194431830744, 0.010853325024679495, 0.017035004014097844, 0.009621337741426607, -0.009676870492771286, -0.008537753173917082, 0.0011761263627543357, -0.0035326227740852113, -0.01539711819471679, -0.0003423150437444519, -0.02291521070217602, -0.014230500610903859, -0.023428996772143572, 0.04637946870888006, -0.025975532886686973, -0.011110565607316112, 0.0077784337206608664, -0.006577827530076312, 0.010206951385132272, 0.018941749973244847, 0.006910410059758822, -0.025911515122305277, 0.009869170491157098, 0.018643108670570025, -0.004686274033074572, 0.009810205858583908, 0.003382331003636857, 0.0062188851813563826, 0.013670201477322116, -0.0022467384940544955, -0.028749375033192383, -0.04183524945533162, -0.002900628803146555, -0.01401694590614893, 0.004347913785071221, 0.0034770360629481248, -0.011637259074327826, 0.017950217393856518, 0.022970333965141858, 0.04322714779659128, 0.001810627209713053, 0.03848336045040925, 0.007208908485782957, 0.00479513525437192, 0.0070164319115258575, 0.014202637882966586, -0.007659213884105462, -0.0023358425060892155, -0.009130000000416675, 0.009289428057870442, -0.006343743791625089, -0.0036432289373861406, 0.007060024594644387, -0.0025080789581602768, 0.0063911430509534795, -0.0011155440158800351, 0.0022828451474086377, -0.0036124558105959156, -0.0021310285261668324, -0.0033656836057635088, 0.017873300012685722, 0.008323110876053356, 0.007685532610671791, 0.0034599336360186888, -0.0026842314815690616, -0.009139173326409736, -0.0024547643992712674, 0.005475766944308136, -0.008251140073741278, 0.0005242784052756824, -0.01032569872329514, -0.0005296405878440488, -0.016291805937327503, 0.004352609323613101, -0.005591977510630634, -0.002915972355089683, -0.014982982226763721, 0.012329640990597994, -0.0014649831229350376, 0.007249917188440846, -0.0021046357786589144, 0.011120435330998202, -0.017569811100615694, 0.00801474971174467, 0.013766761911684067, 0.013789681405201015, -0.0012075486346373545, -0.013061027745415786, 0.01662699023765838, 0.0015692180816020717, -0.002197563478096213, 0.002824529994115296, -0.005499571682084475, 0.007743111780097748, -0.0022957457281114193, 0.0008876030740209181, 0.0072281294778932855, 0.009385904032722393, -0.003136010530107011, -0.01677139425669254, -0.00561839314126081, 0.0019988940220761384, 0.05724019235511406, 0.02881169429553223, 0.002888952350950988, 0.005179131117691106, -0.009419103115860248, 0.0006757379803526583, 0.00783415375162994, -0.0064840461155215, 0.006436123838432793, 0.004204319857370166, 0.002333416076993486, 0.014543658642513297, 0.019773187341661266, -0.009791298781817384, -0.0019512825133623742, 4.654730736367104e-05, 0.0020439568256556497, 0.003104360907226153, 0.008200915597385202, 0.00804315874906201, 0.014819096678693005, 0.009151659046341397, 0.011487803984920972, 0.00320180855886716, -0.006546189082562486, -0.016757015890012796, -0.008100867949100365, -0.01351157278547986, 0.024968523891406927, -0.012496785375285754, 0.023868104561782403, -0.011416036582784535, -0.026987019630750165, 0.0016509248993549072, 0.0005954496126176332, 0.007573045706150938, -0.010829666051332575, 0.014277764021043436, 0.006320889566401486, -0.007998073723988882, 0.020343332764519405, 0.003505777140712374, 0.006710793457076533, 0.008849246437202942, 0.012095123099262575, -0.017737289417715768, -0.016361964986470634, -0.0023210697225941254, 0.013758386957984215, -0.04743345486203004, -0.008867093091963183, 0.03509616066612419, -0.021617789472273444, 0.021797833981053723, -0.004330730199900897, -0.023651055938858433, 0.01511522711878952, 0.006091465166832538, 0.009382548327119987, -0.03490372821874855, 0.021661527691367626, -0.016051708785843742, -0.018948611356590605, 0.004981904073320011, 0.025732618994418085, 0.015235628870008561, -0.06863295875804025, -0.028799015264835453, 0.010756014153714164, 0.02987746481464106, -0.006978287789222323, -0.01946983338029187, -0.05168721684884751, -0.010041505037206917, -0.028654007407217363, 0.02437920125852102, 0.011014789514398162, -0.0404388274915696, -0.04895699771484617, -0.001130692970687484, -0.025726950151686197, 0.013433091844251989, -0.002178465709083557, 0.037731807379427156, -0.007711760421707029, -0.00541704732630913, 0.03434572774633863, -0.0449856196428088, -0.011212098902849134, -0.03630826609055687, 0.006566325892903786, -0.005735764707643062, 0.0027832973607845174, 0.010880806234899737, -0.03252078245893687, -0.009349793657660293, 0.012908908204906528, -0.03168853245251457, -0.025558470047603997, -0.0396722993444331, -0.026214661031888797, 0.06805254299266192, -0.0065109657965132985, 0.0005122084349903626, 0.009618889717449796, 0.0011404212963359083, -0.10492435551203613, 0.04180324359937803, -0.002228312784927654, 0.018883696214533664, 0.016839163790429983, 0.003191077516197131, -0.00986652313639065, -0.015151259681275484, 0.020260086856178132, 0.012142580008430107, 0.005920211370575425, 0.006140525175957054, -0.02270189172253216, 0.00403616923638681, -0.007957782781980848, 0.032599663795302374, -0.009297599082139885, -0.010418837564118141, 0.06610105934348101, 0.007175420051331279, 0.0004805492009913996, 0.02800902915821639, 0.016964728072546495, 0.0003444854961924585, -0.019121058690960906, -0.0031053124108205155, -0.005767500667860776, 0.008580252145781262, -0.004163413703872242, 0.0036366418385634976, -0.0022273315664589934, 0.0029881054635016733, 0.006414799994127669, -0.00565451523266056, 0.011103818232729537, 0.007258064799711384, 0.0005738243456517365, 0.0030927475445332578, -0.009884577204483082, 0.010456302034614052, 0.005016855995467426, -0.0018214321147683496, -0.005770588777250424, -0.011642136265204965, 0.002374012624563746, 0.03405570730178242, 0.011172733878122981, 0.004412356333335049, 0.011055218768405506, 0.012924335364069037, 0.010156762132149982, -0.007956285361644248, 0.008700606660804314, 0.03616828760478263, -0.020925781911268808, -0.012164754168932253, -0.010385480469770865, 0.008953894277632107, 0.0013255920623030466, 0.006496421999774271, 0.0067683489143075285, 0.014432056072030646, 0.006831584191218765, 0.0017389342069207695, 0.006671941785987601, 0.015613543354025474, -0.0030030357620959734, 0.005598310786808091, -0.008359025583109109, -0.0004022011649930928, 0.0018085944072405498, 0.00010040289446002329, 0.01928587453320903, 0.00358729453070754, 0.0032811712875012032, 0.014320270869299245, -0.001543469657665138, -0.00911656431257735, -0.00478537815959275, 0.001516214400261222, -0.01944397248774684, 0.04791892210665562, -0.006529012074648876, 0.012354664826436377, -0.015563240649013961, -0.02732700392656716, 0.00019712779378830216, -0.010802308610582168, -0.01779392813772992, -0.05987681027752314, 0.015706302908331103, 0.01190800991413839, -0.0044094367396509924, -0.005698030747711541, -0.03176919983681909, 0.01898950589950643, -0.02068408395681192, -0.017217040980903087, -0.0038479953345840847, -0.0041433737858859255, -0.004780475588425642, 0.005173190509235518, -0.018281606204170173, -0.01016172144954247, 0.03593063049065823, 0.01601444548657865, 0.014575024024202094, 0.02626888794316187, 0.01269845904431637, 0.011513050740710823, -0.003187638263085994, -0.0002060490572216083, -0.0072888658170367155, 0.0059488258714614625, 0.023246179056119212, -0.002926939123628617, 0.008003523906462598, -0.0034150692350559194, -0.0010066285726951902, -0.01527364177100664, 0.021398472433334065, -0.00030033317195540246, -0.009153648923871877, 0.018174605311928722, 0.005837518700848873, 0.008252775321929123, -0.0008810099181789796, -0.020829405900678347, 0.006080870011160703, 0.009840068659729903, -0.0073090144293707, 0.007653428495348504, 0.009351142124322339, -0.00346590228687262, -0.005639313114793801, 0.011295675239601266, -0.01504012342926056, 0.022596822536058173, 0.007787354292411349, -0.0008143430364616738, -0.007938620376893349, 0.0034718966486431903, 0.009295199842529817, -0.004301463951377867, 0.020198849857778322, -0.021876691677457694, -0.021385169117878293, -0.053767771100588085, 0.01875345064282113, 0.010302047081579696, 0.021816153540660115, -0.012066746452033946, -0.002540713071594287, 0.041476236996929705, -0.030217013838007633, -0.004993926139904599, 0.023320645545469795, 0.01847242665144199, 4.751257007602561e-05, 0.010780240471978196, -0.0008468251420992521, -0.04732276427106394, 0.018821008999528887, -0.01134799358707642, 0.006687984649750432, 0.016790068684689404, -0.0012925867205881014, -0.014670702884777188, 0.016824159748841536, 0.01936290913513286, -9.379787494966438e-05, 0.004258030800968148, 0.011743810826503567, 0.03130010672358681, -0.002238740113862526, -0.0196457358314443, 0.005243344567122095, 0.0036314296302153264, 0.009335568820519434, -0.008158148209610144, -0.014725976604491134, 0.0045366351152825325, -0.004766317728495033, 0.015272372560290017, -0.005171014853590805, -0.004877911014890791, 0.02326261224460155, 0.0027643816452000186, -0.02538740601492544, 0.008458827784315233, 0.02764612199737835, 0.00022024380749102585, -0.011784142534862504, 0.01165201551342433, 0.01338835885275686, 0.026250747477459573, -0.001440483198416748, -0.0023344639737364857, -0.004045278790755524, 0.003875246727434728, 0.004791312254767542, 0.017194044571112885, -0.0022893751193184602, 0.013329608985762098, 0.0016435584264626098, 0.012241053689984014, 0.00996719990667687, -0.023399571945007035, -0.00012331221904248797, 0.022357746544666414, 0.027985546648102575, 0.0065456193021840225, -0.0014379075352253848, 0.00042765073500723093, 0.008477425163155188, 0.0027331154786891074, 0.007887613940364765, -0.0009158301551149942, 0.009536040200540746, -0.006943498964046089, 0.011809353643852985, 0.005029460355950969, -0.0030371703968731538, -0.011709758485477976, -0.0044935058410086725, -0.0008782565431199999, 0.017381849680919787, -0.007839283948001102, 0.013342756194956442, -0.002205223723205765, -0.011629555870112395, -0.017990941171646374, 0.00878755445353455, 0.014564455685213466, 0.01913204263433581, -0.014099067294861913, 0.005827425857694026, 0.008493247261956991, 0.0025450559309034984, 0.013501613931092744, 0.016973044462281366, 0.0019634051368938167, -0.0023922654809314142, 0.0010004245141857632, -0.0020733807203366845, 0.016186628925848053, 0.000950213944801419, 0.019646090511887815, -0.00037955485357511856, 0.005917588620911079, 0.007279984798295676, 0.022559920433986982, -0.00976960306049766, 0.00793666639423103, -0.004714140155944748, 0.015958274951065204, 0.021018372269413728, 0.0022581521277163447, 0.021139351847751234, -0.013595276063127494, -0.0042947290828305364, 0.012448671661775561, 0.011010161368047904, -0.006799974572640368, 0.003563170396134458, 0.0048043008382272516, -0.002886137509897144, -0.029846252008602123, 0.02789658121117404, 0.020716264770759222, -0.0014501513684274283, -0.04535175229956047, -0.002750073995055365, 0.03248043256633249, 0.008121256659034517, 0.011629052670693696, -0.016056363648111773, 0.004738277032606629, -0.006051557935993908, 0.02347018535435549, -0.007146554757796865, 0.0002462746278855343, -0.018480259121388166, 0.014378870098712339, -0.010311954379688664, -0.022895135306420445, -0.0486655767602737, -0.03445913370768565, 0.01573916215171651, -0.06760262971661254, -0.0005851509441741635, 0.08901835750994146, -0.03227454443399327, 0.04534095178058701, -0.03297473904312418, -0.013369095303964924, -0.08239523189183505, 0.06954618601444325, -0.03534795262069725, -0.10397776771127865, 0.11315748006946898, -0.137708052412532, 0.04303083212011041, -0.02478457476832596, -0.0076915605619655705, -0.06559032932121357, -0.02147306053667657, 0.09560595528356876, -0.005523980679768771, 0.05128514042350652, -0.042283736837514144, 0.028138328515267774, -0.002042838195450451, -0.05405188665813775, 0.016548990570761035, -0.014475677535776998, 0.08364004644129358, -0.011649905970384159, 0.025272571117155352, 0.00719017035771461, 0.01943749711505021, 0.04926924703119566, -0.009169222240380774, 0.007914349284236623, -0.013661610274173992, -0.02097515063526252, -0.03139813303861608, 0.028396533858638887, -0.0038829628550404037, 0.02846071108360393, 0.0007065821534516, -0.01634224836505744, 0.032317355531494146, 0.020876643600259502, -0.01623032353771697, 0.014049648896214476, 0.014897329568893164, 0.010264411861892801, 0.010291751170578447, 0.02081954000678209, 0.015612835196842671, -0.011494031672537217, -0.012147630334601305, 0.006124598742494439, -0.00592959887181035, 0.023287866287270975, -0.005795197842728512, 0.019261458874264042, -0.007483385504202602, 0.006417766635006958, -0.006796551051767431, 0.004347478251902913, 0.0004400485697400987, -0.0009745440259632908, 0.012222924050923517, 0.004618772385106134, 0.005489940083986764, -0.008649466325038917, 0.028082946019387024, 0.005895082881367225, 0.031089666286867896, 0.025402127217461996, -0.049201207564000385, 0.008596448300086336, 0.012291337002247682, 0.026157120614582512, -0.0013926707845189497, 0.00039815346877401846, -0.0057310292455795735, 0.025827354507163287, 0.021120177724748765, -0.017809692586195552, 0.01318821382545862, -0.03120770867309365, 0.022785106298042836, 0.00831293583858893, -0.0018932451823427524, 0.0, 0.026398684216456428, -0.0031076823275681766, 0.023023038247490753, 0.0042911043054629375, 0.001747728752336816, -0.004623864407021364, 0.0164129874574583, 0.006853781384709324, -0.012381263761140567, -0.0020222946624239846, 0.0208549439311001, -0.013897803069163439, 0.0028053302908855626, -0.04658485959395655, -0.002480356691333042, 0.023423770670374554, -0.016563969182728344, 0.01898697125078352, 0.012027562298196777, 0.09956351358099802, 0.024885382153636268, 0.006655949481549645, 0.0036181134946353835, 0.034294400882708104, -0.024799558105863165, 0.014430181016039248, -0.0301910653715305, 0.032693984597302515, 0.017542770403711112, -0.0008916321795560421, -0.002614236310595146, 0.008298277958702902, 0.0012539167567720579, 0.021947008514207084, 0.05024858133128627, 0.01188928426304648, -0.008237568074272861, 0.013507418789544586, -0.012026399536978805, -0.0016211789009303247, 0.03334980949758476, 0.03905974576211166, -0.0209360679490961, -0.08344776435769359, 0.0006616096194540612, -0.06966627925552847, 0.03911161590117418, -0.03319053301804974, -0.013215837194880507, 0.029558807532386613, 0.001559119449537733, -0.02995791029885262, -0.016092413323200418, -0.032234120689782396, 0.02987503685370419, 0.015593589505076685, -0.04285125330081208, 0.010216476471266047, 0.03682953712730816, 0.023588493185165465, -0.007596655297040167, 0.014963317605299299, 0.008426562014413056, -0.03281269362998732, 0.03032650850617838, -0.029088494210164358, 0.016824775798902278, -0.0009563192112646635, 0.017246266715423172, 0.06158469047233511, -0.026885554612096203, 0.0007429441667834792, -0.003968614997157517, -0.014099449116596274, -0.025873726619552777, 0.01310566313262011, -0.005461225078749214, -0.00962953647989451, -0.006152791035267687, 8.69410757903019e-05, 0.013382417823085942, -0.047418906457335354, 0.03638051575124608, -0.057648211511051844, -0.000827128369731483, 0.015236878925051371, 0.040024815492492115, 0.03487832726374134, -0.0028604792863472085, -0.02017006147639604, -0.0030134636669841776, 0.029901120489123658, -0.0023460319338046596, 0.00041936555738399453, 0.00868264674118801, -0.007593208103481453, -0.01145662114638139, 0.005154873586443159, -0.011018020396781323, -0.03019389318111618, 0.011527502674892673, 0.007439486056768391, 0.004814707696177695, 0.02088012303207468, 0.030361748998880982, 0.0029292177647830945, -0.0011381139934069004, -0.0056283229824000995, 0.012195273093818206, 0.0050779721447592515, -0.021125245436970086, 0.01191752823797298, -0.006757560390391036, -0.005159967847581869, 0.048876174557243975, -0.0005475356720504581, 0.006939323848116624, -0.01597773088870366, 0.012319133151096966, 0.028066962075899832, -0.007000470898765374, 0.0076826489491642865, 0.035140972746868754, -0.013404290700538885, -0.008563244644223426, -0.007732471733029409]\n"
          ]
        }
      ],
      "source": [
        "r=[]\n",
        "for i in range(data.shape[0]-1):\n",
        "    r_i=np.log(data.Close[i+1]/data.Close[i])\n",
        "    r.append(r_i)\n",
        "print(r)"
      ]
    },
    {
      "cell_type": "markdown",
      "metadata": {
        "id": "8vBv14iI_2RK"
      },
      "source": [
        "### 2) Let's compute the sample mean $m̂$ and standard deviation $v̂$ for the daily log-returns."
      ]
    },
    {
      "cell_type": "code",
      "execution_count": null,
      "metadata": {
        "id": "bap6niKe_2RR",
        "outputId": "31b7461b-411c-4c65-982d-83d309c5e219"
      },
      "outputs": [
        {
          "name": "stdout",
          "output_type": "stream",
          "text": [
            "𝑚̂ =  0.0014904702365501055\n",
            "v̂ =  0.022142277299627755\n"
          ]
        }
      ],
      "source": [
        "mean =np.mean(r)\n",
        "std =np.std(r)\n",
        "print('𝑚̂ = ', mean)\n",
        "print('v̂ = ', std)"
      ]
    },
    {
      "cell_type": "markdown",
      "metadata": {
        "id": "A89DL_y3_2RW"
      },
      "source": [
        "### 3) Let's plot a histogram of our data"
      ]
    },
    {
      "cell_type": "code",
      "execution_count": null,
      "metadata": {
        "scrolled": true,
        "id": "r8W5UQsA_2Ra",
        "outputId": "83b1b5a2-9342-47b5-b1cd-f3fc3ab64a0b"
      },
      "outputs": [
        {
          "data": {
            "image/png": "[encoded data removed]",
            "text/plain": [
              "<Figure size 432x288 with 1 Axes>"
            ]
          },
          "metadata": {
            "needs_background": "light"
          },
          "output_type": "display_data"
        }
      ],
      "source": [
        "r_scaled=(r-mean)/std\n",
        "plt.hist(r_scaled, bins = 50)\n",
        "plt.show()"
      ]
    },
    {
      "cell_type": "code",
      "execution_count": null,
      "metadata": {
        "id": "Wthcv5ER_2Rg",
        "outputId": "dd468784-969c-4191-ef6a-1177fa4e79bf"
      },
      "outputs": [
        {
          "data": {
            "image/png": "[encoded data removed]",
            "text/plain": [
              "<Figure size 432x288 with 1 Axes>"
            ]
          },
          "metadata": {
            "needs_background": "light"
          },
          "output_type": "display_data"
        }
      ],
      "source": [
        "from sklearn.preprocessing import StandardScaler\n",
        "scale = StandardScaler()\n",
        "r_scaled= scale.fit_transform(pd.DataFrame(r))\n",
        "plt.hist(r_scaled, bins = 50)\n",
        "plt.show()"
      ]
    },
    {
      "cell_type": "code",
      "execution_count": null,
      "metadata": {
        "id": "GYJZzd9h_2Rl",
        "outputId": "6f39fad2-f442-48be-c0b9-c86c39e25147"
      },
      "outputs": [
        {
          "data": {
            "image/png": "[encoded data removed]",
            "text/plain": [
              "<Figure size 432x288 with 1 Axes>"
            ]
          },
          "metadata": {
            "needs_background": "light"
          },
          "output_type": "display_data"
        }
      ],
      "source": [
        "pd.DataFrame(r_scaled).plot.kde()\n",
        "x=np.linspace(-10,10,170)\n",
        "y=scipy.stats.norm.pdf(x,mean,std)\n",
        "plt.plot(x,y)\n",
        "plt.show()"
      ]
    },
    {
      "cell_type": "code",
      "execution_count": null,
      "metadata": {
        "id": "-DiT8DJN_2Rz",
        "outputId": "4ea1b663-cf7b-4961-ef7b-5731e89b1b80"
      },
      "outputs": [
        {
          "data": {
            "image/png": "[encoded data removed]",
            "text/plain": [
              "<Figure size 432x288 with 1 Axes>"
            ]
          },
          "metadata": {
            "needs_background": "light"
          },
          "output_type": "display_data"
        }
      ],
      "source": [
        "x=np.linspace(-10,10,20)\n",
        "y=scipy.stats.norm.pdf(x,mean,std)\n",
        "plt.plot(x,y)\n",
        "plt.show()"
      ]
    },
    {
      "cell_type": "code",
      "execution_count": null,
      "metadata": {
        "id": "EUIEOhup_2R5",
        "outputId": "8431d82c-9bcc-4e44-ae0c-389ee8d19653"
      },
      "outputs": [
        {
          "data": {
            "text/plain": [
              "-4.705581031523842e-18"
            ]
          },
          "execution_count": 12,
          "metadata": {},
          "output_type": "execute_result"
        }
      ],
      "source": [
        "np.mean(r_scaled)"
      ]
    },
    {
      "cell_type": "markdown",
      "metadata": {
        "id": "UhWdypOz_2R_"
      },
      "source": [
        "### 4) Let's generate a Q-Q plot and hence comment on the normality of your asset price log-returns."
      ]
    },
    {
      "cell_type": "code",
      "execution_count": null,
      "metadata": {
        "id": "Rixthl6u_2SC",
        "outputId": "074873e2-f5c6-422f-f64e-ecbf0237be5a"
      },
      "outputs": [
        {
          "data": {
            "image/png": "[encoded data removed]",
            "text/plain": [
              "<Figure size 432x288 with 1 Axes>"
            ]
          },
          "metadata": {
            "needs_background": "light"
          },
          "output_type": "display_data"
        }
      ],
      "source": [
        "sm.qqplot(r_scaled, line='45')\n",
        "plt.show()"
      ]
    },
    {
      "cell_type": "code",
      "execution_count": null,
      "metadata": {
        "id": "UiKUODJD_2SJ"
      },
      "outputs": [],
      "source": [
        ""
      ]
    }
  ],
  "metadata": {
    "kernelspec": {
      "display_name": "Python 3 (ipykernel)",
      "language": "python",
      "name": "python3"
    },
    "language_info": {
      "codemirror_mode": {
        "name": "ipython",
        "version": 3
      },
      "file_extension": ".py",
      "mimetype": "text/x-python",
      "name": "python",
      "nbconvert_exporter": "python",
      "pygments_lexer": "ipython3",
      "version": "3.9.5"
    },
    "colab": {
      "name": "Group_work_MFP.ipynb",
      "provenance": [],
      "include_colab_link": true
    }
  },
  "nbformat": 4,
  "nbformat_minor": 0
}