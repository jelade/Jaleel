{
  "nbformat": 4,
  "nbformat_minor": 0,
  "metadata": {
    "colab": {
      "private_outputs": true,
      "provenance": [],
      "include_colab_link": true
    },
    "kernelspec": {
      "name": "python3",
      "display_name": "Python 3"
    },
    "language_info": {
      "name": "python"
    }
  },
  "cells": [
    {
      "cell_type": "markdown",
      "metadata": {
        "id": "view-in-github",
        "colab_type": "text"
      },
      "source": [
        "<a href=\"https://colab.research.google.com/github/jelade/Jaleel/blob/master/LinearSystem_Jaleel.ipynb\" target=\"_parent\"><img src=\"https://colab.research.google.com/assets/colab-badge.svg\" alt=\"Open In Colab\"/></a>"
      ]
    },
    {
      "cell_type": "markdown",
      "source": [
        "# Abduljaleel Adejumo"
      ],
      "metadata": {
        "id": "zWXNrFatOH2G"
      }
    },
    {
      "cell_type": "markdown",
      "source": [
        "---\n",
        "___\n",
        "<p align= 'center'> <strong> PRACTICAL ASSIGNMENT ON LINEAR ALGEBRA</strong></p>\n",
        "\n",
        "---\n",
        "___\n",
        "<b> Instructions </b> <br>\n",
        "    1. The work you hand in must be your own. You are permitted to collaborate with one another students only to the degree of\n",
        "giving ideas on how to solve a problem. Think through and write up your own solutions; copying from others is not\n",
        "permitted. In particular, the code you hand in must be your own; <br>\n",
        "    2. Do not import additional libraries, only numpy is enough for this assignment."
      ],
      "metadata": {
        "id": "CUwVRjPlWGVJ"
      }
    },
    {
      "cell_type": "code",
      "source": [
        "import numpy as np"
      ],
      "metadata": {
        "id": "kbk4wqQ-M2yg"
      },
      "execution_count": null,
      "outputs": []
    },
    {
      "cell_type": "markdown",
      "source": [
        "## Forward and Backward substitution and Gaussian Elimination"
      ],
      "metadata": {
        "id": "sDpC-myYerhD"
      }
    },
    {
      "cell_type": "code",
      "source": [
        "def backsubs(U, b):\n",
        "\n",
        "  \"\"\"\n",
        "  x = backsubs(U, b)\n",
        "  Apply back substitution for the square upper triangular system Ux=b. \n",
        "\n",
        "  Parameters\n",
        "  -------\n",
        "    U: nxn square upper triangular array\n",
        "    b: n array\n",
        "    \n",
        "\n",
        "  Returns\n",
        "  -------\n",
        "    x: nx1 array\n",
        "  \"\"\"\n",
        "  \n",
        "  x = np.zeros(len(U))\n",
        "  n = len(b)-1\n",
        "  if U[n,n] == 0:\n",
        "    return \"Error\"\n",
        "  else: \n",
        "    x[n] = b[n]/U[n,n]\n",
        "    for i in reversed(range(n)):\n",
        "      if U[i,i] == 0:\n",
        "        return \"Error\"\n",
        "      else:\n",
        "        summm = 0\n",
        "        for j in range(i+1,n+1):\n",
        "          summ = U[i,j]*x[j]\n",
        "          summm+=summ\n",
        "        x[i] = (b[i]-summm)/U[i,i]\n",
        "  return x\n",
        "\n",
        "\n",
        "def forwardsubs(L, b):\n",
        "\n",
        "  \"\"\"\n",
        "  \tx = forsubs(L, b)\n",
        "    Apply forward substitution for the square lower triangular system Lx=b. \n",
        "\n",
        "    Parameters\n",
        "    -------\n",
        "      L: nxn square lower triangular array\n",
        "      b: n array\n",
        "      \n",
        "    Returns\n",
        "    -------\n",
        "      x: n array\n",
        "\n",
        "  \"\"\"\n",
        "\n",
        "  x = np.zeros(len(L))\n",
        "  n = len(b)\n",
        "  if L[0,0] == 0:\n",
        "    print(\"Error\")\n",
        "  else: \n",
        "    x[0] = b[0]/L[0,0]\n",
        "    for i in range(1,n):\n",
        "      if L[i,i] == 0:\n",
        "        print(\"Error\")\n",
        "      else:\n",
        "        summm = 0\n",
        "        for j in reversed(range(i)):\n",
        "          summ = L[i,j]*x[j]\n",
        "          summm+=summ\n",
        "        x[i] = (b[i]-summm)/L[i,i]\n",
        "  return x\n",
        "\n",
        "def fowardElimination(A,b):\n",
        "  # Naive Gaussian Elimination (with no pivoting) also called Forward Elimination\n",
        "  \"\"\"\n",
        "  \tU,b_new = fowardElimination(A, b)\n",
        "    Apply fowardElimination for the square system Ax=b. \n",
        "\n",
        "    Parameters\n",
        "    -------\n",
        "      A: nxn square matrix \n",
        "      b: n array\n",
        "\n",
        "    Returns\n",
        "    -------\n",
        "      U: nxn upper triangular matrix\n",
        "      b_new: n array\n",
        "  \"\"\"\n",
        "  for i in range(len(A)):\n",
        "    for j in range(i+1, len(A)):\n",
        "      b[j]= A[i,i]*b[j]-A[j,i]*b[i]\n",
        "      A[j]= A[i,i]*A[j]-A[j,i]*A[i]\n",
        "  return A,b\n",
        "  \n",
        "\n",
        "def ge(A,b):\n",
        "  \n",
        "  \"\"\"\n",
        "  \tx = ge(A, b)\n",
        "\n",
        "    Parameters\n",
        "    -------\n",
        "      A: nxn square matrix \n",
        "      b: n array\n",
        "\n",
        "    Returns\n",
        "    -------\n",
        "      x: n-array\n",
        "\n",
        "  \"\"\"\n",
        "  ##### WRITE YOUR CODE HERE #####\n",
        "  # Call fowardElimination\n",
        "  U,b_new = fowardElimination(A,b)\n",
        "  # Call backsubs\n",
        "  x= backsubs(U, b_new)\n",
        "  return x"
      ],
      "metadata": {
        "id": "BKfyOkjdeXnl"
      },
      "execution_count": null,
      "outputs": []
    },
    {
      "cell_type": "code",
      "source": [
        "L = np.array([[4,0,0,0],[3,1,0,0],[2,1,2,0],[2,4,5,7]])\n",
        "U = np.array([[2,4,5,7],[0,2,1,2],[0,0,3,1],[0,0,0,4]])\n",
        "b = np.array([2,3,6,8])\n",
        "forwardsubs(L, b)\n",
        "#backsubs(U, b)\n",
        "#fowardElimination(A,b)\n",
        "\n",
        "#ge(A,b)"
      ],
      "metadata": {
        "id": "ECh139GMXtcL"
      },
      "execution_count": null,
      "outputs": []
    },
    {
      "cell_type": "markdown",
      "source": [
        "## LU Decomposition/Factorization"
      ],
      "metadata": {
        "id": "xrbs9uRuel0v"
      }
    },
    {
      "cell_type": "code",
      "source": [
        "def ludecom(A):\n",
        "    \n",
        "  \"\"\"\n",
        "    L,U = ludecom(A)\n",
        "    Apply LU decomposition to mxm square matrix. \n",
        "\n",
        "    Parameters\n",
        "    -------\n",
        "    A: mxm square matrix \n",
        "\n",
        "    Returns\n",
        "    -------\n",
        "    L: mxm square matrix \n",
        "    U: mxm square matrix \n",
        "  \"\"\"\n",
        "\n",
        "  U = A\n",
        "  L = np.identity(len(A))\n",
        "  m = len(A)\n",
        "\n",
        "  for k in range(m-1):\n",
        "    for j in range(k+1,m):\n",
        "      L[j,k] = U[j,k]/U[k,k]\n",
        "      U[j,k:m] = U[j,k:m] - (L[j,k]*U[k,k:m])\n",
        "  return L,U\n",
        "\n",
        "\n",
        "def solve(A, b):\n",
        "\n",
        "    \n",
        "    \"\"\"\n",
        "     x = solve(A, b)\n",
        "    Apply LU decmposition, forward and backward substitution for the square system Ax=b. \n",
        "\n",
        "    Parameters\n",
        "    -------\n",
        "    A: mxm square matrix \n",
        "    b: m vector\n",
        "        \n",
        "    Returns\n",
        "    -------\n",
        "    x: n vector\n",
        "    \n",
        "    \"\"\"\n",
        "    L,U = ludecom(A)\n",
        "    fwd = forwardsubs(L, b)\n",
        "    bck = backsubs(U, b)\n",
        "\n",
        "\n",
        "    return fwd,bck\n",
        "\n",
        "\n",
        "A= np.array([[1,1,1, 4],[2,3,5, 2],[4,6,8, 3], [3,9,2, 1]],dtype= np.float64)\n",
        "b= np.array([2,3,1, 4],dtype= np.float64)\n",
        "#A = np.array([[2,-1,2],[-6,0,-2],[8,-1,5]])\n",
        "#b= np.array([1,2,1])\n",
        "x= solve(A, b)\n",
        "print(x)\n",
        "#print(A@x-b)"
      ],
      "metadata": {
        "id": "8BHIAJKEejoc"
      },
      "execution_count": null,
      "outputs": []
    },
    {
      "cell_type": "markdown",
      "source": [],
      "metadata": {
        "id": "8BCLBGZGC-r2"
      }
    },
    {
      "cell_type": "markdown",
      "source": [
        "___END___"
      ],
      "metadata": {
        "id": "MCnQwgWOWAJf"
      }
    }
  ]
}